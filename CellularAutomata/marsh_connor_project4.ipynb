{
 "cells": [
  {
   "cell_type": "markdown",
   "id": "44441ee7-7a1d-48e1-8e5b-b251fcebe339",
   "metadata": {},
   "source": [
    "# Imports"
   ]
  },
  {
   "cell_type": "code",
   "execution_count": 1,
   "id": "200bcf7a-0a2f-4e31-8634-7ccb0e174415",
   "metadata": {
    "tags": []
   },
   "outputs": [
    {
     "data": {
      "text/html": [
       "<div id=\"glowscript\" class=\"glowscript\"></div>"
      ],
      "text/plain": [
       "<IPython.core.display.HTML object>"
      ]
     },
     "metadata": {},
     "output_type": "display_data"
    },
    {
     "data": {
      "application/javascript": [
       "if (typeof Jupyter !== \"undefined\") { window.__context = { glowscript_container: $(\"#glowscript\").removeAttr(\"id\")};}else{ element.textContent = ' ';}"
      ],
      "text/plain": [
       "<IPython.core.display.Javascript object>"
      ]
     },
     "metadata": {},
     "output_type": "display_data"
    },
    {
     "data": {
      "text/html": [
       "<div id=\"glowscript\" class=\"glowscript\"></div>"
      ],
      "text/plain": [
       "<IPython.core.display.HTML object>"
      ]
     },
     "metadata": {},
     "output_type": "display_data"
    },
    {
     "data": {
      "application/javascript": [
       "if (typeof Jupyter !== \"undefined\") { window.__context = { glowscript_container: $(\"#glowscript\").removeAttr(\"id\")};}else{ element.textContent = ' ';}"
      ],
      "text/plain": [
       "<IPython.core.display.Javascript object>"
      ]
     },
     "metadata": {},
     "output_type": "display_data"
    },
    {
     "data": {
      "application/javascript": [
       "if (typeof Jupyter !== \"undefined\") {require.undef(\"nbextensions/vpython_libraries/glow.min\");}else{element.textContent = ' ';}"
      ],
      "text/plain": [
       "<IPython.core.display.Javascript object>"
      ]
     },
     "metadata": {},
     "output_type": "display_data"
    },
    {
     "data": {
      "application/javascript": [
       "if (typeof Jupyter !== \"undefined\") {require.undef(\"nbextensions/vpython_libraries/glowcomm\");}else{element.textContent = ' ';}"
      ],
      "text/plain": [
       "<IPython.core.display.Javascript object>"
      ]
     },
     "metadata": {},
     "output_type": "display_data"
    },
    {
     "data": {
      "application/javascript": [
       "if (typeof Jupyter !== \"undefined\") {require.undef(\"nbextensions/vpython_libraries/jquery-ui.custom.min\");}else{element.textContent = ' ';}"
      ],
      "text/plain": [
       "<IPython.core.display.Javascript object>"
      ]
     },
     "metadata": {},
     "output_type": "display_data"
    },
    {
     "data": {
      "application/javascript": [
       "if (typeof Jupyter !== \"undefined\") {require([\"nbextensions/vpython_libraries/glow.min\"], function(){console.log(\"GLOW LOADED\");});}else{element.textContent = ' ';}"
      ],
      "text/plain": [
       "<IPython.core.display.Javascript object>"
      ]
     },
     "metadata": {},
     "output_type": "display_data"
    },
    {
     "data": {
      "application/javascript": [
       "if (typeof Jupyter !== \"undefined\") {require([\"nbextensions/vpython_libraries/glowcomm\"], function(){console.log(\"GLOWCOMM LOADED\");});}else{element.textContent = ' ';}"
      ],
      "text/plain": [
       "<IPython.core.display.Javascript object>"
      ]
     },
     "metadata": {},
     "output_type": "display_data"
    },
    {
     "data": {
      "application/javascript": [
       "if (typeof Jupyter !== \"undefined\") {require([\"nbextensions/vpython_libraries/jquery-ui.custom.min\"], function(){console.log(\"JQUERY LOADED\");});}else{element.textContent = ' ';}"
      ],
      "text/plain": [
       "<IPython.core.display.Javascript object>"
      ]
     },
     "metadata": {},
     "output_type": "display_data"
    }
   ],
   "source": [
    "from vpython import *\n",
    "import numpy as np\n",
    "import matplotlib.pyplot as pyplt\n",
    "from copy import deepcopy\n",
    "scene = canvas()\n",
    "sphere()"
   ]
  },
  {
   "cell_type": "markdown",
   "id": "e40451d7-d091-40fb-98a7-093382832c1f",
   "metadata": {},
   "source": [
    "# Random Walker"
   ]
  },
  {
   "cell_type": "markdown",
   "id": "2aeb4091-bfa7-44dc-b697-0149975cd8b5",
   "metadata": {},
   "source": [
    "## Confirming uniform distribution"
   ]
  },
  {
   "cell_type": "code",
   "execution_count": 2,
   "id": "b3c68062-488b-4e3f-bb81-e111c661f77a",
   "metadata": {
    "tags": []
   },
   "outputs": [
    {
     "data": {
      "text/plain": [
       "<BarContainer object of 4 artists>"
      ]
     },
     "execution_count": 2,
     "metadata": {},
     "output_type": "execute_result"
    },
    {
     "data": {
      "image/png": "[encoded data removed]",
      "text/plain": [
       "<Figure size 640x480 with 1 Axes>"
      ]
     },
     "metadata": {},
     "output_type": "display_data"
    }
   ],
   "source": [
    "bins = np.arange(4)\n",
    "numbers = np.random.randint(0, 4, (100000))\n",
    "binSizes = np.zeros(4)\n",
    "for num in numbers:\n",
    "    binSizes[num]+=1\n",
    "pyplt.bar(bins, binSizes)"
   ]
  },
  {
   "cell_type": "markdown",
   "id": "b3966d87-7781-4eb1-8afd-02ecf1decddc",
   "metadata": {},
   "source": [
    "We can see that with a large sample size, we get a uniform distribution of the random integers between 0 and 3. So this confirms that the np.random.randint function generates a uniform distribution"
   ]
  },
  {
   "cell_type": "markdown",
   "id": "4eaf0850-dc0a-4308-94f7-94dbb2b898f5",
   "metadata": {},
   "source": [
    "## Random Walker Simulation"
   ]
  },
  {
   "cell_type": "markdown",
   "id": "c9816d33-c882-47cf-890a-3e853e5bf048",
   "metadata": {},
   "source": [
    "### Definition"
   ]
  },
  {
   "cell_type": "code",
   "execution_count": 41,
   "id": "48cfc7f8-a3cd-40cb-b799-6536a960e342",
   "metadata": {
    "tags": []
   },
   "outputs": [],
   "source": [
    "def simulateRandomWalker(numSteps=100, visualize=True):\n",
    "    # if visualizing, setup vpython stuff and iteratively step through\n",
    "    if visualize:\n",
    "        if visualize:\n",
    "            scene=canvas()\n",
    "        pos = vec(0,0,0)\n",
    "        dirs = [vec(1,0,0), vec(0,1,0), vec(-1,0,0), vec(0,-1,0)]\n",
    "\n",
    "        t=0\n",
    "        while t < numSteps:\n",
    "            pos += dirs[np.random.randint(0, 4)]\n",
    "            t+=1\n",
    "            if visualize:\n",
    "                cylinder(pos=pos, axis=vec(0,0,1), radius=0.4, length=0.01)\n",
    "                rate(100)\n",
    "\n",
    "        endpointRadius = mag(pos)\n",
    "        return endpointRadius\n",
    "    # if not visualizing, use numpy shenanigangs to drastically speed it up\n",
    "    # these calculations are identical, it just generates numSteps number of indexes for the dirs array\n",
    "    # and then adds them all together and gets that magnitude\n",
    "    # Which is the same thing being done in the visualized version\n",
    "    else:\n",
    "        dirs = np.array([[1,0],[0,1],[-1,0],[0,-1]])\n",
    "        stepDirs = np.random.randint(0, 4, numSteps)\n",
    "        return np.linalg.norm(np.sum(dirs[stepDirs], axis=0))\n",
    "    \n"
   ]
  },
  {
   "cell_type": "markdown",
   "id": "b5c31b66-de18-4144-9af1-e56c765fa5e6",
   "metadata": {},
   "source": [
    "### Visual Simulation"
   ]
  },
  {
   "cell_type": "code",
   "execution_count": 4,
   "id": "6df83277-34ce-406b-9323-e0df3687f568",
   "metadata": {
    "tags": []
   },
   "outputs": [
    {
     "data": {
      "text/html": [
       "<div id=\"glowscript\" class=\"glowscript\"></div>"
      ],
      "text/plain": [
       "<IPython.core.display.HTML object>"
      ]
     },
     "metadata": {},
     "output_type": "display_data"
    },
    {
     "data": {
      "application/javascript": [
       "if (typeof Jupyter !== \"undefined\") { window.__context = { glowscript_container: $(\"#glowscript\").removeAttr(\"id\")};}else{ element.textContent = ' ';}"
      ],
      "text/plain": [
       "<IPython.core.display.Javascript object>"
      ]
     },
     "metadata": {},
     "output_type": "display_data"
    },
    {
     "data": {
      "text/plain": [
       "8.602325267042627"
      ]
     },
     "execution_count": 4,
     "metadata": {},
     "output_type": "execute_result"
    }
   ],
   "source": [
    "simulateRandomWalker(numSteps=500)"
   ]
  },
  {
   "cell_type": "markdown",
   "id": "7ee4bf1e-1bc0-464e-8da7-538fc0ce8e5e",
   "metadata": {},
   "source": [
    "### Average Endpoint Radius"
   ]
  },
  {
   "cell_type": "code",
   "execution_count": 52,
   "id": "d9ade68b-ff0e-4fcf-9c2b-c7f002644404",
   "metadata": {
    "tags": []
   },
   "outputs": [
    {
     "name": "stdout",
     "output_type": "stream",
     "text": [
      "Num steps: 10000\n",
      "Expected Endpoint Radius: 100.0\n",
      "Average Endpoint Radius: 89.53894939253134\n"
     ]
    }
   ],
   "source": [
    "numSteps = 10000\n",
    "expectedEndpointRadius = sqrt(numSteps)\n",
    "numTrials = 1000\n",
    "\n",
    "sumEndpointRadii = 0\n",
    "for i in range(numTrials):\n",
    "    sumEndpointRadii += simulateRandomWalker(numSteps=numSteps, visualize=False)\n",
    "print(\"Num steps: \" + str(numSteps))\n",
    "print(\"Expected Endpoint Radius: \" + str(sqrt(numSteps)))\n",
    "print(\"Average Endpoint Radius: \" + str(float(sumEndpointRadii)/float(numTrials)))"
   ]
  },
  {
   "cell_type": "markdown",
   "id": "a9c37086-9765-43e8-b1a7-885e7ef38bd0",
   "metadata": {},
   "source": [
    "### Analysis\n",
    "We can see that this is correct because the average endpoint radius is always around $sqrt(N)$ where N is the number of steps.\n",
    "\n",
    "According to the wikipedia page that Dr. Bocan sourced for this project, the average endpoint radius is actually \"on the order of square root N\" and not exactly square root N. So if N is 100, the average endpoint radius shouldn't be exactly 10, it would be closer to 9"
   ]
  },
  {
   "cell_type": "markdown",
   "id": "eefb15a7-72c2-4c8d-bb3c-af5b74578403",
   "metadata": {},
   "source": [
    "# 1D Cellular Automaton"
   ]
  },
  {
   "cell_type": "markdown",
   "id": "b0f968a0-a704-4edc-80e3-db68bfaa0d3e",
   "metadata": {},
   "source": [
    "## Definition"
   ]
  },
  {
   "cell_type": "code",
   "execution_count": 6,
   "id": "e6089cfd-5c44-44b8-975a-acf5fa478be0",
   "metadata": {
    "tags": []
   },
   "outputs": [],
   "source": [
    "def simulate1dCellularAutomaton(rule=30, steps=10):\n",
    "    scene = canvas()\n",
    "    state = [0 for i in range(steps)] + [1] + [0 for i in range(steps)]\n",
    "    t=0\n",
    "    while t < steps+1:\n",
    "        for i in range(len(state)):\n",
    "            if state[i] == 1:\n",
    "                cylinder(pos=vec(-steps+i, -t, 0), axis=vec(0,0,1), radius=0.5, length=0.01)\n",
    "                \n",
    "        state = nextState(state, rule)\n",
    "        \n",
    "        t += 1\n",
    "        rate(12)\n",
    "\n",
    "def nextState(state, rule):\n",
    "    ruleList = [0 for i in range(0, 10-len(bin(rule)))]+[int(bin(rule)[i]) for i in range(2,len(bin(rule)))]\n",
    "    nextState = [0 for i in range(len(state))]\n",
    "    for i in range(len(state)):\n",
    "        if i == 0:\n",
    "            nextState[i] = ruleList[7-(state[i]*2+state[i+1])]\n",
    "        if i == len(state)-1:\n",
    "            nextState[i] = ruleList[7-(state[i-1]*4+state[i]*2)]\n",
    "        else:\n",
    "            nextState[i] = ruleList[7-(state[i-1]*4+state[i]*2+state[i+1])]\n",
    "    return nextState"
   ]
  },
  {
   "cell_type": "markdown",
   "id": "cfced177-5c11-47c5-93c1-8c5aabd2ef52",
   "metadata": {},
   "source": [
    "## Simulations\n",
    "I chose these 4 rules from the wiki page because I thought they looked interesting and showed diversity/robustness of my implementation"
   ]
  },
  {
   "cell_type": "code",
   "execution_count": 7,
   "id": "1294df13-23df-4a16-ba18-235c1e74d22a",
   "metadata": {
    "tags": []
   },
   "outputs": [
    {
     "data": {
      "text/html": [
       "<div id=\"glowscript\" class=\"glowscript\"></div>"
      ],
      "text/plain": [
       "<IPython.core.display.HTML object>"
      ]
     },
     "metadata": {},
     "output_type": "display_data"
    },
    {
     "data": {
      "application/javascript": [
       "if (typeof Jupyter !== \"undefined\") { window.__context = { glowscript_container: $(\"#glowscript\").removeAttr(\"id\")};}else{ element.textContent = ' ';}"
      ],
      "text/plain": [
       "<IPython.core.display.Javascript object>"
      ]
     },
     "metadata": {},
     "output_type": "display_data"
    },
    {
     "data": {
      "text/html": [
       "<div id=\"glowscript\" class=\"glowscript\"></div>"
      ],
      "text/plain": [
       "<IPython.core.display.HTML object>"
      ]
     },
     "metadata": {},
     "output_type": "display_data"
    },
    {
     "data": {
      "application/javascript": [
       "if (typeof Jupyter !== \"undefined\") { window.__context = { glowscript_container: $(\"#glowscript\").removeAttr(\"id\")};}else{ element.textContent = ' ';}"
      ],
      "text/plain": [
       "<IPython.core.display.Javascript object>"
      ]
     },
     "metadata": {},
     "output_type": "display_data"
    },
    {
     "data": {
      "text/html": [
       "<div id=\"glowscript\" class=\"glowscript\"></div>"
      ],
      "text/plain": [
       "<IPython.core.display.HTML object>"
      ]
     },
     "metadata": {},
     "output_type": "display_data"
    },
    {
     "data": {
      "application/javascript": [
       "if (typeof Jupyter !== \"undefined\") { window.__context = { glowscript_container: $(\"#glowscript\").removeAttr(\"id\")};}else{ element.textContent = ' ';}"
      ],
      "text/plain": [
       "<IPython.core.display.Javascript object>"
      ]
     },
     "metadata": {},
     "output_type": "display_data"
    },
    {
     "data": {
      "text/html": [
       "<div id=\"glowscript\" class=\"glowscript\"></div>"
      ],
      "text/plain": [
       "<IPython.core.display.HTML object>"
      ]
     },
     "metadata": {},
     "output_type": "display_data"
    },
    {
     "data": {
      "application/javascript": [
       "if (typeof Jupyter !== \"undefined\") { window.__context = { glowscript_container: $(\"#glowscript\").removeAttr(\"id\")};}else{ element.textContent = ' ';}"
      ],
      "text/plain": [
       "<IPython.core.display.Javascript object>"
      ]
     },
     "metadata": {},
     "output_type": "display_data"
    }
   ],
   "source": [
    "simulate1dCellularAutomaton(rule=30, steps=30)\n",
    "simulate1dCellularAutomaton(rule=61, steps=30)\n",
    "simulate1dCellularAutomaton(rule=90, steps=30)\n",
    "simulate1dCellularAutomaton(rule=182, steps=30)"
   ]
  },
  {
   "cell_type": "markdown",
   "id": "94b1cf80-f33b-42df-9812-956c9fb127ec",
   "metadata": {},
   "source": [
    "# Conway's Game of Life"
   ]
  },
  {
   "cell_type": "markdown",
   "id": "41034b9c-6ae9-41a5-b616-b9c952d8379a",
   "metadata": {},
   "source": [
    "## Definition"
   ]
  },
  {
   "cell_type": "code",
   "execution_count": 2,
   "id": "38849ba4-d374-41b7-826e-f1693ac2e46a",
   "metadata": {
    "tags": []
   },
   "outputs": [],
   "source": [
    "stopSim = False\n",
    "def endSim():\n",
    "    global stopSim\n",
    "    stopSim = True\n",
    "\n",
    "def simulateGameOfLife(initialState=None, rows=100, cols=100):\n",
    "    scene = canvas()\n",
    "    endButton = button(text=\"End Sim\", bind=endSim)\n",
    "    if initialState == None:\n",
    "        state = [[0 for i in range(cols)] for j in range(rows)]\n",
    "        mid = int(rows/2)\n",
    "        \n",
    "        # r pentomino\n",
    "        state[mid][mid] = 1\n",
    "        state[mid][mid+1] = 1\n",
    "        state[mid][mid-1] = 1\n",
    "        state[mid-1][mid] = 1\n",
    "        state[mid+1][mid+1] = 1\n",
    "        \n",
    "        # square still life\n",
    "        # state[mid][mid] = 1\n",
    "        # state[mid+1][mid+1] = 1\n",
    "        # state[mid][mid+1] = 1\n",
    "        # state[mid+1][mid] = 1\n",
    "    else:\n",
    "        state = initialState\n",
    "        \n",
    "    # create grid of cylinders for vpython visualization\n",
    "    visualState = []\n",
    "    for i in range(rows):\n",
    "        visualState.append([])\n",
    "        for j in range(cols):\n",
    "            visualState[i].append(cylinder(pos=vec(-cols/2+i, -rows/2+j, 0), axis=vec(0,0,1), radius=0.5, length=0.01))\n",
    "            visualState[i][j].visible = state[i][j]==1\n",
    "    \n",
    "    # create 4 outer \"anchor\" cylinders to make the camera zoom good\n",
    "    cylinder(pos=vec(-cols/2-1, -rows/2-1, 0), axis=vec(0,0,1), radius=0.5, length=0.01, color=vec(0,0,0))\n",
    "    cylinder(pos=vec(cols/2+1, rows/2+1, 0), axis=vec(0,0,1), radius=0.5, length=0.01, color=vec(0,0,0))\n",
    "    cylinder(pos=vec(-cols/2-1, rows/2+1, 0), axis=vec(0,0,1), radius=0.5, length=0.01, color=vec(0,0,0))\n",
    "    cylinder(pos=vec(cols/2+1, -rows/2-1, 0), axis=vec(0,0,1), radius=0.5, length=0.01, color=vec(0,0,0))\n",
    "            \n",
    "    t=0\n",
    "    while not stopSim:\n",
    "        \n",
    "        # update grid of cylinders for vpython visualization\n",
    "        for i in range(rows):\n",
    "            for j in range(cols):\n",
    "                visualState[i][j].visible = state[i][j]==1\n",
    "                \n",
    "        state = nextState(state, rows, cols)\n",
    "        \n",
    "        t += 1\n",
    "        rate(30)\n",
    "        # return\n",
    "\n",
    "def nextState(state, rows, cols):\n",
    "    nextState = [[0 for i in range(cols)] for j in range(rows)] \n",
    "    for i in range(rows):\n",
    "        for j in range(cols):\n",
    "            numAliveNeighbors = 0\n",
    "            for k in range(-1, 2):\n",
    "                for l in range(-1, 2):\n",
    "                    if k==0 and l==0:\n",
    "                        continue\n",
    "                    rowInd = i+k\n",
    "                    colInd = j+l\n",
    "                    # border condition checks\n",
    "                    rowInd = rows-1 if rowInd < 0 else rowInd\n",
    "                    rowInd = 0 if rowInd > rows-1 else rowInd\n",
    "                    colInd = cols-1 if colInd < 0 else colInd\n",
    "                    colInd = 0 if colInd > cols-1 else colInd\n",
    "                    \n",
    "                    numAliveNeighbors += state[rowInd][colInd]\n",
    "                        \n",
    "            if state[i][j] == 1:\n",
    "                nextState[i][j] = 1 if numAliveNeighbors in [2,3] else 0\n",
    "            else:\n",
    "                nextState[i][j] = 1 if numAliveNeighbors == 3 else 0\n",
    "    return nextState"
   ]
  },
  {
   "cell_type": "markdown",
   "id": "fc1ee9e7-7da7-4ca4-816b-049792abce5f",
   "metadata": {},
   "source": [
    "## Simulation\n",
    "I chose initial condition as the R-Pentomino because it creates a complex state that shows functionality of still lifes, oscillators, and gliders"
   ]
  },
  {
   "cell_type": "code",
   "execution_count": 3,
   "id": "4a9ea9d5-5d7d-4423-8665-2bfdaaaaa444",
   "metadata": {
    "tags": []
   },
   "outputs": [
    {
     "data": {
      "text/html": [
       "<div id=\"glowscript\" class=\"glowscript\"></div>"
      ],
      "text/plain": [
       "<IPython.core.display.HTML object>"
      ]
     },
     "metadata": {},
     "output_type": "display_data"
    },
    {
     "data": {
      "application/javascript": [
       "if (typeof Jupyter !== \"undefined\") { window.__context = { glowscript_container: $(\"#glowscript\").removeAttr(\"id\")};}else{ element.textContent = ' ';}"
      ],
      "text/plain": [
       "<IPython.core.display.Javascript object>"
      ]
     },
     "metadata": {},
     "output_type": "display_data"
    }
   ],
   "source": [
    "simulateGameOfLife()"
   ]
  },
  {
   "cell_type": "markdown",
   "id": "eac7052f-231f-442e-b15d-94fda073ade5",
   "metadata": {},
   "source": [
    "# Asynchronous Life"
   ]
  },
  {
   "cell_type": "markdown",
   "id": "74e638a4-efc8-4c4b-bdb6-05400fc24cb0",
   "metadata": {},
   "source": [
    "## Definition\n",
    "Refactor the simualateGameOfLife and nextState functions to take synch/asynch as a parameter.\n",
    "\n",
    "If I had more time I would implement random order and cyclic update schemes and make the parameter which scheme you want, instead of just synch vs asynch, but for now it's just synch vs random independent asynch."
   ]
  },
  {
   "cell_type": "code",
   "execution_count": 30,
   "id": "7f2ca986-b401-434c-b46d-cfe0a2cc098a",
   "metadata": {
    "tags": []
   },
   "outputs": [],
   "source": [
    "stopSim = False\n",
    "def endSim():\n",
    "    global stopSim\n",
    "    stopSim = True\n",
    "\n",
    "def simulateGameOfLife(asynch=False, initialState=None, rows=100, cols=100, endTime=float('inf'), updatesPerFrame=1):\n",
    "    global stopSim\n",
    "    stopSim = False\n",
    "    scene = canvas()\n",
    "    endButton = button(text=\"End Sim\", bind=endSim)\n",
    "    if initialState == None:\n",
    "        state = [[0 for i in range(cols)] for j in range(rows)]\n",
    "        mid = int(rows/2)\n",
    "        \n",
    "        # r pentomino\n",
    "        state[mid][mid] = 1\n",
    "        state[mid][mid+1] = 1\n",
    "        state[mid][mid-1] = 1\n",
    "        state[mid-1][mid] = 1\n",
    "        state[mid+1][mid+1] = 1\n",
    "        \n",
    "        # square still life\n",
    "        # state[mid][mid] = 1\n",
    "        # state[mid+1][mid+1] = 1\n",
    "        # state[mid][mid+1] = 1\n",
    "        # state[mid+1][mid] = 1\n",
    "    else:\n",
    "        state = initialState\n",
    "        \n",
    "    # create grid of cylinders for vpython visualization\n",
    "    visualState = []\n",
    "    for i in range(rows):\n",
    "        visualState.append([])\n",
    "        for j in range(cols):\n",
    "            visualState[i].append(cylinder(pos=vec(-cols/2+i, -rows/2+j, 0), axis=vec(0,0,1), radius=0.5, length=0.01))\n",
    "            visualState[i][j].visible = state[i][j]==1\n",
    "    \n",
    "    # create 4 outer \"anchor\" cylinders to make the camera zoom good\n",
    "    cylinder(pos=vec(-cols/2-1, -rows/2-1, 0), axis=vec(0,0,1), radius=0.5, length=0.01, color=vec(0,0,0))\n",
    "    cylinder(pos=vec(cols/2+1, rows/2+1, 0), axis=vec(0,0,1), radius=0.5, length=0.01, color=vec(0,0,0))\n",
    "    cylinder(pos=vec(-cols/2-1, rows/2+1, 0), axis=vec(0,0,1), radius=0.5, length=0.01, color=vec(0,0,0))\n",
    "    cylinder(pos=vec(cols/2+1, -rows/2-1, 0), axis=vec(0,0,1), radius=0.5, length=0.01, color=vec(0,0,0))\n",
    "            \n",
    "    t=0\n",
    "    while t < endTime and not stopSim:\n",
    "        \n",
    "        # update grid of cylinders for vpython visualization\n",
    "        for i in range(rows):\n",
    "            for j in range(cols):\n",
    "                visualState[i][j].visible = state[i][j]==1\n",
    "        \n",
    "        for i in range(updatesPerFrame):\n",
    "            state = nextState(state, rows, cols, asynch=asynch)\n",
    "        \n",
    "        t += 1\n",
    "        rate(30)\n",
    "        # return\n",
    "\n",
    "def nextState(state, rows, cols, asynch=False):\n",
    "    nextState = deepcopy(state)\n",
    "    if asynch:\n",
    "        rowIdx = np.random.randint(0, rows)\n",
    "        colIdx = np.random.randint(0, cols)\n",
    "        nextState[rowIdx][colIdx] = getNextCellState(state, rows, cols, rowIdx, colIdx)\n",
    "    else:\n",
    "        for i in range(rows):\n",
    "            for j in range(cols):\n",
    "                nextState[i][j] = getNextCellState(state, rows, cols, i, j)\n",
    "    return nextState\n",
    "\n",
    "def getNextCellState(state, rows, cols, i, j):\n",
    "    numAliveNeighbors = 0\n",
    "    for k in range(-1, 2):\n",
    "        for l in range(-1, 2):\n",
    "            if k==0 and l==0:\n",
    "                continue\n",
    "            rowInd = i+k\n",
    "            colInd = j+l\n",
    "            # border condition checks\n",
    "            rowInd = rows-1 if rowInd < 0 else rowInd\n",
    "            rowInd = 0 if rowInd > rows-1 else rowInd\n",
    "            colInd = cols-1 if colInd < 0 else colInd\n",
    "            colInd = 0 if colInd > cols-1 else colInd\n",
    "\n",
    "            numAliveNeighbors += state[rowInd][colInd]\n",
    "\n",
    "    if state[i][j] == 1:\n",
    "        return 1 if numAliveNeighbors in [2,3] else 0\n",
    "    else:\n",
    "        return 1 if numAliveNeighbors == 3 else 0"
   ]
  },
  {
   "cell_type": "markdown",
   "id": "06ca257e-9287-41ff-9a45-396934a7c1dd",
   "metadata": {},
   "source": [
    "## Simulation"
   ]
  },
  {
   "cell_type": "markdown",
   "id": "e7ef910b-2ddb-48db-b8d1-2ec145bb3351",
   "metadata": {},
   "source": [
    "Both the allAliveInitialState and randomInitialState I found are generally more interesting for asynch updating then the r-pentomino which is the default state for the synch updating.\n",
    "\n",
    "But if you want to see the r-pentomino with asynch updating just set `initialState=None`"
   ]
  },
  {
   "cell_type": "code",
   "execution_count": 39,
   "id": "8c6d6824-4e82-4dfd-aff3-4a4c03cc6539",
   "metadata": {},
   "outputs": [
    {
     "data": {
      "text/html": [
       "<div id=\"glowscript\" class=\"glowscript\"></div>"
      ],
      "text/plain": [
       "<IPython.core.display.HTML object>"
      ]
     },
     "metadata": {},
     "output_type": "display_data"
    },
    {
     "data": {
      "application/javascript": [
       "if (typeof Jupyter !== \"undefined\") { window.__context = { glowscript_container: $(\"#glowscript\").removeAttr(\"id\")};}else{ element.textContent = ' ';}"
      ],
      "text/plain": [
       "<IPython.core.display.Javascript object>"
      ]
     },
     "metadata": {},
     "output_type": "display_data"
    }
   ],
   "source": [
    "rows=10\n",
    "cols=10\n",
    "allAliveInitialState = [[1 for i in range(cols)] for j in range(rows)]\n",
    "randomInitialState = [[np.random.randint(0,2) for i in range(cols)] for j in range(rows)]\n",
    "simulateGameOfLife(asynch=True,initialState=allAliveInitialState, rows=rows, cols=cols, updatesPerFrame=10)\n",
    "# r-pentomino\n",
    "# simulateGameOfLife(asynch=True,initialState=None, rows=rows, cols=cols, updatesPerFrame=10)"
   ]
  },
  {
   "cell_type": "code",
   "execution_count": null,
   "id": "f1981e26-5d43-4d12-92bf-6a218cebff4c",
   "metadata": {},
   "outputs": [],
   "source": []
  }
 ],
 "metadata": {
  "kernelspec": {
   "display_name": "Python 3 (ipykernel)",
   "language": "python",
   "name": "python3"
  },
  "language_info": {
   "codemirror_mode": {
    "name": "ipython",
    "version": 3
   },
   "file_extension": ".py",
   "mimetype": "text/x-python",
   "name": "python",
   "nbconvert_exporter": "python",
   "pygments_lexer": "ipython3",
   "version": "3.10.16"
  }
 },
 "nbformat": 4,
 "nbformat_minor": 5
}
