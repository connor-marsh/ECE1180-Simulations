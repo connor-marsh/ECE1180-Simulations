{
 "cells": [
  {
   "cell_type": "markdown",
   "id": "bf7e8735-1f44-4303-ac59-e0d6ff38e92c",
   "metadata": {},
   "source": [
    "# Connor Marsh ECE1180 Project 1"
   ]
  },
  {
   "cell_type": "markdown",
   "id": "96807f68-19c2-43bd-ac85-2f9af6b20cab",
   "metadata": {
    "tags": []
   },
   "source": [
    "## Initial Notes\n",
    "All units in this notebook are SI. So meters for distance, kilograms for mass, seconds for time, etc.  \n",
    "I talked to Dr. Bocan about this, but the visualizations always seemed kind of choppy, and I messed around with time step size and was never able to fix this. Dr. Bocan said it is probably just an issue with my computer monitor refresh rate or VPython or something out of my control.  \n",
    "For time step size I used a value between 0.005 and 0.0005 most of the time. I messed around with it a bit but found that anything around that range gave quite accurate results!\n",
    "\n",
    "Overall I kind of got bogged down with work this week and didn't get to do as much experimentation and play and analysis as I would've liked to in the end. But might do some more on my own after submitting!"
   ]
  },
  {
   "cell_type": "markdown",
   "id": "6e7a9cc2-2acd-4f93-8b52-53816d35af46",
   "metadata": {},
   "source": [
    "## Ball Falling\n",
    "We drop the ball from 20 meters in the air and watch it fall!"
   ]
  },
  {
   "cell_type": "code",
   "execution_count": 97,
   "id": "098a970d-0fb9-4db8-9580-85ac9c508541",
   "metadata": {
    "tags": []
   },
   "outputs": [
    {
     "data": {
      "text/html": [
       "<div id=\"glowscript\" class=\"glowscript\"></div>"
      ],
      "text/plain": [
       "<IPython.core.display.HTML object>"
      ]
     },
     "metadata": {},
     "output_type": "display_data"
    },
    {
     "data": {
      "application/javascript": [
       "if (typeof Jupyter !== \"undefined\") { window.__context = { glowscript_container: $(\"#glowscript\").removeAttr(\"id\")};}else{ element.textContent = ' ';}"
      ],
      "text/plain": [
       "<IPython.core.display.Javascript object>"
      ]
     },
     "metadata": {},
     "output_type": "display_data"
    }
   ],
   "source": [
    "from vpython import *\n",
    "scene = canvas()\n",
    "scene.autoscale = True\n",
    "ball = sphere(pos=vector(0,20,0), radius=0.3, color=color.cyan)\n",
    "floor = box(pos=vector(0,0,0), size=vector(20,0.3,20), color=color.green)\n",
    "ball.velocity = vector(0,0,0)\n",
    "ball.acceleration = vector(0, -9.8, 0)\n",
    "deltat = 0.0005\n",
    "t = 0\n",
    "while t < 3:\n",
    "    ball.velocity = ball.velocity + ball.acceleration*deltat\n",
    "    ball.pos = ball.pos + ball.velocity*deltat\n",
    "    \n",
    "    \n",
    "    t = t + deltat\n",
    "    if ball.pos.y < 0:\n",
    "        break\n",
    "    rate(float(1) / deltat)"
   ]
  },
  {
   "cell_type": "markdown",
   "id": "6d85c034-b31f-4027-94ce-d66476dae30f",
   "metadata": {},
   "source": [
    "### Analysis\n",
    "Looks good! Can play around with initial heights and velocities but it is quite simple and this clearly shows what is going on. First I verified that this was going on in real time by printing the \"t\" variable at the end of the simulation, while simultaneously using a stopwatch to time the simulation from start to finish as it runs on my screen, and making sure those are the same. This is obviously a little crude method, I just used it as a sanity check to make sure I could trust what was going on  \n",
    "To more thoroughly verify, I used the closed form solutions for the model equations to get exact answers for the time to fall and final velocity when falling from a specific height, and then compared those to the results when printing out the values at simulation end. These values were very close but never exactly the same (usually within 0.1% error which is pretty good).  \n",
    "I messed around with the time step and using forward vs backward vs semi-implicit numerical integration techniques to see if I could improve the accuracy, but I couldn't really. I think this might be due to when the time step size gets small, rounding errors in python pile up a bit over time and you can never get super super accurate (<%0.01) error results."
   ]
  },
  {
   "cell_type": "markdown",
   "id": "b6597d4c-6d2e-4e04-9881-85b82d33db99",
   "metadata": {},
   "source": [
    "## Ball Bouncing\n",
    "Make sure to set the position to 0 right afterwards to align"
   ]
  },
  {
   "cell_type": "code",
   "execution_count": 8,
   "id": "c93e6ada-a08e-485e-a280-c1d01607f2fe",
   "metadata": {
    "tags": []
   },
   "outputs": [
    {
     "data": {
      "text/html": [
       "<div id=\"glowscript\" class=\"glowscript\"></div>"
      ],
      "text/plain": [
       "<IPython.core.display.HTML object>"
      ]
     },
     "metadata": {},
     "output_type": "display_data"
    },
    {
     "data": {
      "application/javascript": [
       "if (typeof Jupyter !== \"undefined\") { window.__context = { glowscript_container: $(\"#glowscript\").removeAttr(\"id\")};}else{ element.textContent = ' ';}"
      ],
      "text/plain": [
       "<IPython.core.display.Javascript object>"
      ]
     },
     "metadata": {},
     "output_type": "display_data"
    }
   ],
   "source": [
    "scene = canvas()\n",
    "scene.autoscale = False\n",
    "ball = sphere(pos=vector(0,2,0), radius=0.1, color=color.cyan)\n",
    "floor = box(pos=vector(0,0,0), size=vector(20,0.1,20), color=color.green)\n",
    "ball.velocity = vector(0,0,0)\n",
    "ball.acceleration = vector(0, -9.8, 0)\n",
    "deltat = 0.005\n",
    "t = 0\n",
    "while t < 3:\n",
    "    ball.velocity = ball.velocity + ball.acceleration*deltat\n",
    "    ball.pos = ball.pos + ball.velocity*deltat\n",
    "    \n",
    "    \n",
    "    t = t + deltat\n",
    "    if ball.pos.y < 0:\n",
    "        ball.pos.y = 0\n",
    "        ball.velocity.y *= -1\n",
    "    rate(float(1) / deltat)"
   ]
  },
  {
   "cell_type": "markdown",
   "id": "03bdef40-ca86-428a-8316-44a5496ed505",
   "metadata": {},
   "source": [
    "### Analysis\n",
    "Looks good! Used same verification techniques as in ball falling. Again this is quite simple and not much to do here"
   ]
  },
  {
   "cell_type": "markdown",
   "id": "ba09b4ed-d83c-482e-bdbc-081ed84802f8",
   "metadata": {},
   "source": [
    "## Cannonball"
   ]
  },
  {
   "cell_type": "code",
   "execution_count": 92,
   "id": "af667504-400e-4193-9c06-728850d4fca3",
   "metadata": {},
   "outputs": [
    {
     "data": {
      "text/html": [
       "<div id=\"glowscript\" class=\"glowscript\"></div>"
      ],
      "text/plain": [
       "<IPython.core.display.HTML object>"
      ]
     },
     "metadata": {},
     "output_type": "display_data"
    },
    {
     "data": {
      "application/javascript": [
       "if (typeof Jupyter !== \"undefined\") { window.__context = { glowscript_container: $(\"#glowscript\").removeAttr(\"id\")};}else{ element.textContent = ' ';}"
      ],
      "text/plain": [
       "<IPython.core.display.Javascript object>"
      ]
     },
     "metadata": {},
     "output_type": "display_data"
    }
   ],
   "source": [
    "scene = canvas()\n",
    "scene.autoscale = False\n",
    "scene.camera.rotate(angle=-20, axis=vector(1,0,0))\n",
    "ball = sphere(pos=vector(0,0,0), radius=0.3, color=color.cyan)\n",
    "floor = box(pos=vector(0,0,0), size=vector(20,0.1,20), color=color.green)\n",
    "ball.velocity = vector(3,10,4)\n",
    "ball.acceleration = vector(0, -9.8, 0)\n",
    "deltat = 0.005\n",
    "t = 0\n",
    "while t < 3:\n",
    "    ball.velocity = ball.velocity + ball.acceleration*deltat\n",
    "    ball.pos = ball.pos + ball.velocity*deltat\n",
    "    \n",
    "    \n",
    "    t = t + deltat\n",
    "    if ball.pos.y < 0:\n",
    "        break\n",
    "    rate(float(1) / deltat)\n",
    "\n",
    "# Crude method of repeating the simulation but works for now\n",
    "t=0\n",
    "ball.pos = vector(0, 0, 0)\n",
    "ball.velocity = vector(3,10,-4)\n",
    "while t < 3:\n",
    "    ball.velocity = ball.velocity + ball.acceleration*deltat\n",
    "    ball.pos = ball.pos + ball.velocity*deltat\n",
    "    \n",
    "    \n",
    "    t = t + deltat\n",
    "    if ball.pos.y < 0:\n",
    "        break\n",
    "    rate(float(1) / deltat)\n",
    "\n",
    "t=0\n",
    "ball.pos = vector(0, 0, 0)\n",
    "ball.velocity = vector(-3,10,-4)\n",
    "while t < 3:\n",
    "    ball.velocity = ball.velocity + ball.acceleration*deltat\n",
    "    ball.pos = ball.pos + ball.velocity*deltat\n",
    "    \n",
    "    \n",
    "    t = t + deltat\n",
    "    if ball.pos.y < 0:\n",
    "        break\n",
    "    rate(float(1) / deltat)"
   ]
  },
  {
   "cell_type": "markdown",
   "id": "5cb3a3c4-7c1d-4ea4-a5de-883d4e3636b9",
   "metadata": {},
   "source": [
    "### Analysis\n",
    "Here we run the simulation 3 times in a row with different intial velocities. We also rotate the camera at a slight angle so we can see the ball moving more in 3 dimensions!"
   ]
  },
  {
   "cell_type": "markdown",
   "id": "05bc0b36-a075-4a0d-9982-3b4cccedf2b4",
   "metadata": {},
   "source": [
    "## Ball Falling with Air Resistance\n",
    "**Equation for air resistance:** $F_{air}=\\frac{1}{2}\\rho C_dAv^2$  \n",
    "Where $F_{air}$ is the force on the object by the air  \n",
    "$\\rho$ is the density of the air, which for our purposes is constant, and we will assume it to be the air density at sea level which is $1.204\\frac{kg}{m^3}$  \n",
    "$C_d$ is the drag coefficient which depends on shape and other properties. According to wikipedia, the $C_d$ for a highly smooth sphere is around 0.1, so we will use that.  \n",
    "$A$ is the cross-sectional area which for us is $2\\pi r$  \n",
    "**Sources:**  \n",
    "[Testbook air resistance formula](https://testbook.com/physics-formulas/air-resistance-formula#:~:text=The%20air%20resistance%20formula%20can%20be%20mathematically%20stated,%3D%20Relative%20Velocity%20of%20the%20object%20with%20air)  \n",
    "[Wikipedia page on drag coefficient](https://en.wikipedia.org/wiki/Drag_coefficient)  \n",
    "[Wikipedia page on density of air](https://en.wikipedia.org/wiki/Density_of_air)"
   ]
  },
  {
   "cell_type": "code",
   "execution_count": 5,
   "id": "63f6901c-a4ee-4168-b244-f1ea89ffeff6",
   "metadata": {
    "tags": []
   },
   "outputs": [
    {
     "data": {
      "text/html": [
       "<div id=\"glowscript\" class=\"glowscript\"></div>"
      ],
      "text/plain": [
       "<IPython.core.display.HTML object>"
      ]
     },
     "metadata": {},
     "output_type": "display_data"
    },
    {
     "data": {
      "application/javascript": [
       "if (typeof Jupyter !== \"undefined\") { window.__context = { glowscript_container: $(\"#glowscript\").removeAttr(\"id\")};}else{ element.textContent = ' ';}"
      ],
      "text/plain": [
       "<IPython.core.display.Javascript object>"
      ]
     },
     "metadata": {},
     "output_type": "display_data"
    }
   ],
   "source": [
    "scene = canvas()\n",
    "scene.autoscale = False\n",
    "\n",
    "g_acceleration = vector(0, -9.8, 0)\n",
    "airDensity = 1.204\n",
    "dragCoeff = 0.1\n",
    "\n",
    "\n",
    "ball = sphere(pos=vector(0,10,0), radius=0.1, color=color.cyan)\n",
    "floor = box(pos=vector(0,0,0), size=vector(20,0.1,20), color=color.green)\n",
    "ball.velocity = vector(0,0,0)\n",
    "ball.mass = 0.1 # in kgs\n",
    "\n",
    "deltat = 0.005\n",
    "t = 0\n",
    "while t < 5:\n",
    "    ball.g_force = g_acceleration*ball.mass\n",
    "    if mag(ball.velocity)==0:\n",
    "        ball.direction = vector(0,0,0)\n",
    "    else:\n",
    "        ball.direction = ball.velocity/mag(ball.velocity)\n",
    "    ball.drag_force = ball.direction*airDensity*dragCoeff*3.1415*ball.radius*(mag(ball.velocity)**2)\n",
    "    ball.net_force = ball.g_force - ball.drag_force\n",
    "    ball.acceleration = ball.net_force/ball.mass\n",
    "    ball.velocity = ball.velocity + ball.acceleration*deltat\n",
    "    ball.pos = ball.pos + ball.velocity*deltat\n",
    "    \n",
    "    \n",
    "    t = t + deltat\n",
    "    if ball.pos.y < 0:\n",
    "        break\n",
    "    rate(float(1) / deltat)"
   ]
  },
  {
   "cell_type": "markdown",
   "id": "898b0e4b-1f7a-4419-bdb2-c0a1ce8d9c87",
   "metadata": {},
   "source": [
    "### Analysis\n",
    "Looks good! Messing around with starting heights and different masses and radii, we can clearly see the effects of drag and the apparance of a terminal velocity! I discuss verification compared to a tennis ball more later"
   ]
  },
  {
   "cell_type": "markdown",
   "id": "ba3e6493-c50d-4d4f-90cb-114ea282a5ad",
   "metadata": {},
   "source": [
    "## Ball Bouncing Inelastically\n",
    "When a ball bounces on the ground, a whole bunch of stuff happens which depends on the physical structure of the ball. Most of that is irrelevant for the purposes of this simulation, and the only part that matters is the ratio of the velocity before and after the bounce. This is called the *coefficient of restitution*, $\\rho$  \n",
    "The $\\rho$ for a golf ball can be as high as $0.8$, and the $\\rho$ for a tennis ball is around $0.75$. I'm a tennis player myself so I'll go with $0.75$  \n",
    "For consistency, I'll also change the radius of the ball to the standard radius for a tennis ball, around $3.3cm$ or $0.033m$\n",
    "**Sources:**  \n",
    "[Stack exchange page on inelastic collisions](https://physics.stackexchange.com/questions/256468/model-formula-for-bouncing-ball)"
   ]
  },
  {
   "cell_type": "markdown",
   "id": "5f8095e1-3786-4d90-af29-32cf0300bd1f",
   "metadata": {},
   "source": [
    "### Without Air Resistance\n",
    "Without air resistance we can simply copy our code from the previous ball bouncing simulation and instead of multiplying the velocity by $-1$ after a bounce, we multiply by $-\\rho$"
   ]
  },
  {
   "cell_type": "code",
   "execution_count": 6,
   "id": "c2c5446b-7139-49b6-9d2d-712fb8957eaf",
   "metadata": {
    "tags": []
   },
   "outputs": [
    {
     "data": {
      "text/html": [
       "<div id=\"glowscript\" class=\"glowscript\"></div>"
      ],
      "text/plain": [
       "<IPython.core.display.HTML object>"
      ]
     },
     "metadata": {},
     "output_type": "display_data"
    },
    {
     "data": {
      "application/javascript": [
       "if (typeof Jupyter !== \"undefined\") { window.__context = { glowscript_container: $(\"#glowscript\").removeAttr(\"id\")};}else{ element.textContent = ' ';}"
      ],
      "text/plain": [
       "<IPython.core.display.Javascript object>"
      ]
     },
     "metadata": {},
     "output_type": "display_data"
    },
    {
     "name": "stdout",
     "output_type": "stream",
     "text": [
      "1.4153650000000042\n",
      "0.793555\n",
      "0.44461374999999936\n",
      "0.24441812500000007\n",
      "0.13419109374999988\n",
      "0.07352871093750002\n",
      "0.040581235351562474\n",
      "0.021306027832031282\n",
      "0.010942306518554679\n",
      "0.004759664077758792\n",
      "0.002043929958343504\n",
      "0.0007336420249938979\n",
      "4.6701360940932374e-05\n",
      "-2.3350680470466187e-05\n"
     ]
    }
   ],
   "source": [
    "scene = canvas()\n",
    "# scene.autoscale = False\n",
    "ball = sphere(pos=vector(0,2.54,0), radius=0.033, color=color.cyan)\n",
    "floor = box(pos=vector(0,0,0), size=vector(5,0.01,5), color=color.green)\n",
    "ball.velocity = vector(0,0,0)\n",
    "ball.acceleration = vector(0, -9.8, 0)\n",
    "coeffRestitution = 0.75\n",
    "deltat = 0.005\n",
    "t = 0\n",
    "previouslyFalling = True\n",
    "while t < 5:\n",
    "    ball.velocity = ball.velocity + ball.acceleration*deltat\n",
    "    ball.pos = ball.pos + ball.velocity*deltat\n",
    "    \n",
    "    if ball.velocity.y > 0:\n",
    "        previouslyFalling = False\n",
    "    if ball.velocity.y < 0 and not previouslyFalling:\n",
    "        print(ball.pos.y)\n",
    "        previouslyFalling = True\n",
    "    t = t + deltat\n",
    "    if ball.pos.y < 0:\n",
    "        ball.pos.y = 0\n",
    "        ball.velocity.y *= -coeffRestitution\n",
    "    rate(float(1) / deltat)"
   ]
  },
  {
   "cell_type": "markdown",
   "id": "da95a7e2-8510-47fa-b92a-df11c0b462d3",
   "metadata": {},
   "source": [
    "### With Air Resistance\n",
    "With air resistance we can combine our code from the ball falling with air resistance, and ball bouncing inelastically simulations!  \n",
    "Also now the mass of the ball is relevant because of air resistance. The mass of a tennis ball is around $58g$ or $0.058kg$  \n",
    "One last thing, we used the drag coefficient for a smooth sphere before, but now the sphere is rough! So that value changes to 0.47 instead of 0.1  \n",
    "A tennis ball should bounce to around 53% of the height of where it was dropped from. According to the ITF they specify a ball should bounce to between 135 and 147 centimeters when dropped from a height of 254 centimeters. So for this simulation we'll drop the ball from 254 centimeters of 2.54 meters"
   ]
  },
  {
   "cell_type": "code",
   "execution_count": 12,
   "id": "31a3b8e0-a616-4190-b793-d62c66e7d16b",
   "metadata": {
    "tags": []
   },
   "outputs": [
    {
     "data": {
      "text/html": [
       "<div id=\"glowscript\" class=\"glowscript\"></div>"
      ],
      "text/plain": [
       "<IPython.core.display.HTML object>"
      ]
     },
     "metadata": {},
     "output_type": "display_data"
    },
    {
     "data": {
      "application/javascript": [
       "if (typeof Jupyter !== \"undefined\") { window.__context = { glowscript_container: $(\"#glowscript\").removeAttr(\"id\")};}else{ element.textContent = ' ';}"
      ],
      "text/plain": [
       "<IPython.core.display.Javascript object>"
      ]
     },
     "metadata": {},
     "output_type": "display_data"
    },
    {
     "name": "stdout",
     "output_type": "stream",
     "text": [
      "28.59004491563636\n",
      "12.503406779534817\n",
      "6.107615058779692\n",
      "3.1891596050983995\n",
      "1.6511322897277536\n",
      "0.8828305948340328\n",
      "0.4650102946894271\n",
      "0.20834219576883048\n",
      "0.09232463352720116\n",
      "0.04540079603495285\n",
      "0.014234324323635118\n",
      "-0.0071179800770279885\n"
     ]
    }
   ],
   "source": [
    "scene = canvas()\n",
    "# scene.autoscale = False\n",
    "\n",
    "g_acceleration = vector(0, -9.8, 0)\n",
    "airDensity = 1.204\n",
    "dragCoeff = 0.1\n",
    "coeffRestitution = 0.75\n",
    "\n",
    "initialHeight = 2.54\n",
    "ball = sphere(pos=vector(0,initialHeight,0), radius=0.033, color=color.cyan)\n",
    "floor = box(pos=vector(0,0,0), size=vector(5,0.01,5), color=color.green)\n",
    "ball.velocity = vector(0,0,0)\n",
    "ball.mass = 0.058 # 1 kg\n",
    "\n",
    "deltat = 0.005\n",
    "t = 0\n",
    "previouslyFalling = True\n",
    "while t < 5:\n",
    "    ball.g_force = g_acceleration*ball.mass\n",
    "    if mag(ball.velocity)==0:\n",
    "        ball.direction = vector(0,0,0)\n",
    "    else:\n",
    "        ball.direction = ball.velocity/mag(ball.velocity)\n",
    "    ball.drag_force = ball.direction*airDensity*dragCoeff*3.1415*ball.radius*(mag(ball.velocity)**2)\n",
    "    ball.net_force = ball.g_force - ball.drag_force\n",
    "    ball.acceleration = ball.net_force/ball.mass\n",
    "    ball.velocity = ball.velocity + ball.acceleration*deltat\n",
    "    ball.pos = ball.pos + ball.velocity*deltat\n",
    "    \n",
    "    if ball.velocity.y > 0:\n",
    "        previouslyFalling = False\n",
    "    if ball.velocity.y < 0 and not previouslyFalling:\n",
    "        #print(ball.pos.y / initialHeight * 100.0)\n",
    "        previouslyFalling = True\n",
    "    t = t + deltat\n",
    "    if ball.pos.y < 0:\n",
    "        ball.pos.y = 0\n",
    "        ball.velocity.y *= -coeffRestitution\n",
    "    rate(float(1) / deltat)"
   ]
  },
  {
   "cell_type": "markdown",
   "id": "5d972fcc-1819-4dc9-9f1c-a3a0ec66e658",
   "metadata": {},
   "source": [
    "#### Analysis\n",
    "With the rough sphere drag coefficient, the bounce height is quite bad, at only 8% of the initial height when it should be around 50%. With the smooth sphere drag coefficient, the bounce height is at a more respectable 28.5%.  \n",
    "I got these values by printing out the height at the peak of every bounce.\n",
    "\n",
    "These discrepancies are likedly caused by inherent inaccuracies in the air resistance simulation, as I also tested the terminal velocity of the tennis ball, and it only go to around 25% of a tennis ball's real terminal velocity"
   ]
  },
  {
   "cell_type": "markdown",
   "id": "764e3e57-6f10-42d8-88ac-268a26468eba",
   "metadata": {},
   "source": [
    "## Ball Falling Revisited\n",
    "### Without air resistance\n",
    "Here I make a function that takes height (and deltat) as an input, and then runs all the simulation code, but without any graphics or use of the rate() function, to get the final result near instantly, and also log the velocity vs time data for that simulation. And then call that function repeatedly to make a graph that contains all the data.  \n",
    "Here it is done without air resistance, but will be done with air resistance shortly"
   ]
  },
  {
   "cell_type": "code",
   "execution_count": 27,
   "id": "44ae204b-a807-4cd5-b67c-97629e71c95a",
   "metadata": {
    "tags": []
   },
   "outputs": [],
   "source": [
    "def ballFallingNoResistance(height, deltat):\n",
    "    ball = sphere(pos=vector(0,height,0), radius=0.1, color=color.cyan)\n",
    "    floor = box(pos=vector(0,0,0), size=vector(20,0.1,20), color=color.green)\n",
    "    ball.velocity = vector(0,0,0)\n",
    "    ball.acceleration = vector(0, -9.8, 0)\n",
    "    deltat = deltat\n",
    "    t = 0\n",
    "    times = []\n",
    "    velocities = []\n",
    "    while t < 30:\n",
    "        times.append(t)\n",
    "        velocities.append(ball.velocity.y)\n",
    "        ball.velocity = ball.velocity + ball.acceleration*deltat\n",
    "        ball.pos = ball.pos + ball.velocity*deltat\n",
    "        t = t + deltat\n",
    "        if ball.pos.y < 0:\n",
    "            break\n",
    "    return (times,velocities)"
   ]
  },
  {
   "cell_type": "markdown",
   "id": "96157500-4dfe-42d5-963f-aba1aa7af015",
   "metadata": {},
   "source": [
    "Choose 3 different starting heights and plot them all on their own graph"
   ]
  },
  {
   "cell_type": "code",
   "execution_count": 62,
   "id": "973efdd6-b407-49b7-a883-bd4f49dac1cf",
   "metadata": {
    "tags": []
   },
   "outputs": [
    {
     "data": {
      "image/png": "[encoded data removed]",
      "text/plain": [
       "<Figure size 640x480 with 3 Axes>"
      ]
     },
     "metadata": {},
     "output_type": "display_data"
    }
   ],
   "source": [
    "import matplotlib.pyplot as plt\n",
    "import numpy as np\n",
    "\n",
    "startingHeights = range(10, 40, 10)\n",
    "heightsData = [ballFalling(i, 0.01) for i in startingHeights]\n",
    "colors = ['r', 'g', 'b', 'r', 'g', 'b']\n",
    "\n",
    "fig, ax = plt.subplots(1, len(heightsData), sharex=True, sharey=True)\n",
    "for i in range(len(heightsData)):\n",
    "    ax[i].plot(heightsData[i][0], heightsData[i][1], color=colors[i])\n",
    "    ax[i].set_title(\"Starting height: \" + str(startingHeights[i]))\n",
    "plt.show()"
   ]
  },
  {
   "cell_type": "markdown",
   "id": "a34234e3-5524-41e5-ad5d-770971972c0a",
   "metadata": {},
   "source": [
    "As you can see, all the velocities curves are linear downwards as expected, and the higher the starting height, the lower (more negative) the final velocity\n",
    "\n",
    "### With air resistance\n",
    "Now we do the same steps as above but add back the air resistance!"
   ]
  },
  {
   "cell_type": "code",
   "execution_count": 61,
   "id": "c5fbc9b9-38a5-47ab-ab39-823751cb8253",
   "metadata": {
    "tags": []
   },
   "outputs": [
    {
     "data": {
      "image/png": "[encoded data removed]",
      "text/plain": [
       "<Figure size 640x480 with 5 Axes>"
      ]
     },
     "metadata": {},
     "output_type": "display_data"
    }
   ],
   "source": [
    "def ballFallingWithResistance(height, deltat):\n",
    "    \n",
    "    g_acceleration = vector(0, -9.8, 0)\n",
    "    airDensity = 1.204\n",
    "    dragCoeff = 0.1\n",
    "    \n",
    "    ball = sphere(pos=vector(0,height,0), radius=0.1, color=color.cyan)\n",
    "    floor = box(pos=vector(0,0,0), size=vector(20,0.1,20), color=color.green)\n",
    "    ball.velocity = vector(0,0,0)\n",
    "    ball.acceleration = vector(0, -9.8, 0)\n",
    "    ball.mass = 0.1 # in kgs\n",
    "    deltat = deltat\n",
    "    t = 0\n",
    "    times = []\n",
    "    velocities = []\n",
    "    while t < 30:\n",
    "        times.append(t)\n",
    "        velocities.append(ball.velocity.y)\n",
    "        ball.g_force = g_acceleration*ball.mass\n",
    "        if mag(ball.velocity)==0:\n",
    "            ball.direction = vector(0,0,0)\n",
    "        else:\n",
    "            ball.direction = ball.velocity/mag(ball.velocity)\n",
    "        ball.drag_force = ball.direction*airDensity*dragCoeff*3.1415*ball.radius*(mag(ball.velocity)**2)\n",
    "        ball.net_force = ball.g_force - ball.drag_force\n",
    "        ball.acceleration = ball.net_force/ball.mass\n",
    "        ball.velocity = ball.velocity + ball.acceleration*deltat\n",
    "        ball.pos = ball.pos + ball.velocity*deltat\n",
    "        t = t + deltat\n",
    "        if ball.pos.y < 0:\n",
    "            break\n",
    "    return (times,velocities)\n",
    "\n",
    "startingHeights = range(1, 16, 3)\n",
    "heightsData = [ballFallingWithResistance(i, 0.01) for i in startingHeights]\n",
    "colors = ['r', 'g', 'b', 'r', 'g', 'b', 'r', 'g', 'b', 'r', 'g', 'b', 'r', 'g', 'b', 'r', 'g', 'b']\n",
    "\n",
    "fig, ax = plt.subplots(1, len(heightsData), sharex=True, sharey=True)\n",
    "for i in range(len(heightsData)):\n",
    "    ax[i].plot(heightsData[i][0], heightsData[i][1], color=colors[i])\n",
    "    ax[i].set_title(\"Start: \" + str(startingHeights[i]))\n",
    "plt.show()"
   ]
  },
  {
   "cell_type": "markdown",
   "id": "039eb4f9-1e94-4e0c-82e9-159fbc0ff247",
   "metadata": {},
   "source": [
    "Here you can see that regardless of the starting height, the max speed the ball can reach is around -5 meters per second. This is great cause it indicates the presence of a terminal velocity! I would like to do more analysis with the graphs with parameterizing the air resistance features like drag coefficient and air density and ball radius etc, but I got busy this week and didn't have time to do it."
   ]
  },
  {
   "cell_type": "markdown",
   "id": "d2c76884-2e7d-4b72-903c-63d4ac68d05b",
   "metadata": {},
   "source": [
    "## Ball Bouncing Revisited\n",
    "### Elastic\n",
    "Here we will do the same thing as with the revisited ball falling, but with ball bouncing! And we will do it once with elastic collisions and once with inelastic! Also here we are graphing position over time instead of velocity over time!"
   ]
  },
  {
   "cell_type": "code",
   "execution_count": 70,
   "id": "f7ed944a-eb65-49b8-ba10-9d5328cce8f5",
   "metadata": {
    "tags": []
   },
   "outputs": [
    {
     "data": {
      "image/png": "[encoded data removed]",
      "text/plain": [
       "<Figure size 640x480 with 3 Axes>"
      ]
     },
     "metadata": {},
     "output_type": "display_data"
    }
   ],
   "source": [
    "def ballBouncingElastic(height, deltat):\n",
    "    ball = sphere(pos=vector(0,height,0), radius=0.1, color=color.cyan)\n",
    "    floor = box(pos=vector(0,0,0), size=vector(20,0.1,20), color=color.green)\n",
    "    ball.velocity = vector(0,0,0)\n",
    "    ball.acceleration = vector(0, -9.8, 0)\n",
    "    deltat = deltat\n",
    "    t = 0\n",
    "    times = []\n",
    "    heights = []\n",
    "    while t < 10:\n",
    "        times.append(t)\n",
    "        heights.append(ball.pos.y)\n",
    "        ball.velocity = ball.velocity + ball.acceleration*deltat\n",
    "        ball.pos = ball.pos + ball.velocity*deltat\n",
    "        t = t + deltat\n",
    "        if ball.pos.y < 0:\n",
    "            ball.pos.y = 0\n",
    "            ball.velocity.y *= -1\n",
    "    return (times,heights)\n",
    "\n",
    "startingHeights = range(10, 40, 10)\n",
    "heightsData = [ballBouncingElastic(i, 0.01) for i in startingHeights]\n",
    "colors = ['r', 'g', 'b', 'r', 'g', 'b']\n",
    "\n",
    "fig, ax = plt.subplots(1, len(heightsData), sharex=True, sharey=True)\n",
    "for i in range(len(heightsData)):\n",
    "    ax[i].plot(heightsData[i][0], heightsData[i][1], color=colors[i])\n",
    "    ax[i].set_title(\"Starting height: \" + str(startingHeights[i]))\n",
    "plt.show()"
   ]
  },
  {
   "cell_type": "markdown",
   "id": "d86f2f22-d467-4206-96e3-5e1bd32da9b7",
   "metadata": {},
   "source": [
    "### Inelastic"
   ]
  },
  {
   "cell_type": "code",
   "execution_count": 78,
   "id": "6dde0604-e331-4983-a7b3-88d415c5b566",
   "metadata": {
    "tags": []
   },
   "outputs": [
    {
     "data": {
      "image/png": "[encoded data removed]",
      "text/plain": [
       "<Figure size 640x480 with 9 Axes>"
      ]
     },
     "metadata": {},
     "output_type": "display_data"
    }
   ],
   "source": [
    "def ballBouncingInelastic(height, coeffRestitution, deltat):\n",
    "    \n",
    "    coeffRestituion = coeffRestitution\n",
    "    \n",
    "    ball = sphere(pos=vector(0,height,0), radius=0.1, color=color.cyan)\n",
    "    floor = box(pos=vector(0,0,0), size=vector(20,0.1,20), color=color.green)\n",
    "    ball.velocity = vector(0,0,0)\n",
    "    ball.acceleration = vector(0, -9.8, 0)\n",
    "    deltat = deltat\n",
    "    t = 0\n",
    "    times = []\n",
    "    heights = []\n",
    "    while t < 10:\n",
    "        times.append(t)\n",
    "        heights.append(ball.pos.y)\n",
    "        ball.velocity = ball.velocity + ball.acceleration*deltat\n",
    "        ball.pos = ball.pos + ball.velocity*deltat\n",
    "        t = t + deltat\n",
    "        if ball.pos.y < 0:\n",
    "            ball.pos.y = 0\n",
    "            ball.velocity.y *= -coeffRestitution\n",
    "    return (times,heights)\n",
    "\n",
    "startingHeights = range(10, 40, 10)\n",
    "# Using 3 different heights lists instead of a 2d list because that would be a pain\n",
    "# And we don't ever need more than 3 here\n",
    "heightsData1 = [ballBouncingInelastic(i, 0.8, 0.005) for i in startingHeights]\n",
    "heightsData2 = [ballBouncingInelastic(i, 0.5, 0.005) for i in startingHeights]\n",
    "heightsData3 = [ballBouncingInelastic(i, 0.2, 0.005) for i in startingHeights]\n",
    "colors = ['r', 'g', 'b', 'r', 'g', 'b']\n",
    "\n",
    "fig, ax = plt.subplots(3, len(heightsData), sharex=True, sharey=True)\n",
    "for i in range(len(heightsData)):\n",
    "    ax[0, i].plot(heightsData1[i][0], heightsData1[i][1], color=colors[i])\n",
    "    ax[0, i].set_title(\"h: \" + str(startingHeights[i]) + \", C_r: \" + str(0.8))\n",
    "    \n",
    "    ax[1, i].plot(heightsData2[i][0], heightsData2[i][1], color=colors[i])\n",
    "    ax[1, i].set_title(\"h: \" + str(startingHeights[i]) + \", C_r: \" + str(0.5))\n",
    "    \n",
    "    ax[2, i].plot(heightsData3[i][0], heightsData3[i][1], color=colors[i])\n",
    "    ax[2, i].set_title(\"h: \" + str(startingHeights[i]) + \", C_r: \" + str(0.2))\n",
    "plt.show()"
   ]
  },
  {
   "cell_type": "markdown",
   "id": "83860483-59fd-43ca-a259-2f7410661901",
   "metadata": {},
   "source": [
    "Here, moving left to right among the graphs, you get increasing starting heights. And moving up to down among the graphs, you get decreasing coefficients of restitution!"
   ]
  }
 ],
 "metadata": {
  "kernelspec": {
   "display_name": "Python 3 (ipykernel)",
   "language": "python",
   "name": "python3"
  },
  "language_info": {
   "codemirror_mode": {
    "name": "ipython",
    "version": 3
   },
   "file_extension": ".py",
   "mimetype": "text/x-python",
   "name": "python",
   "nbconvert_exporter": "python",
   "pygments_lexer": "ipython3",
   "version": "3.10.16"
  }
 },
 "nbformat": 4,
 "nbformat_minor": 5
}
