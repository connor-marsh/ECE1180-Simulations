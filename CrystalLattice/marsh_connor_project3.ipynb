{
 "cells": [
  {
   "cell_type": "markdown",
   "id": "73e623a5-e0b3-473b-b1bc-f159334374fc",
   "metadata": {},
   "source": [
    "# Imports"
   ]
  },
  {
   "cell_type": "code",
   "execution_count": 1,
   "id": "23f04a85-ed9e-46ba-8fdd-d73397dc8705",
   "metadata": {},
   "outputs": [
    {
     "data": {
      "text/html": [
       "<div id=\"glowscript\" class=\"glowscript\"></div>"
      ],
      "text/plain": [
       "<IPython.core.display.HTML object>"
      ]
     },
     "metadata": {},
     "output_type": "display_data"
    },
    {
     "data": {
      "application/javascript": [
       "if (typeof Jupyter !== \"undefined\") { window.__context = { glowscript_container: $(\"#glowscript\").removeAttr(\"id\")};}else{ element.textContent = ' ';}"
      ],
      "text/plain": [
       "<IPython.core.display.Javascript object>"
      ]
     },
     "metadata": {},
     "output_type": "display_data"
    },
    {
     "data": {
      "text/html": [
       "<div id=\"glowscript\" class=\"glowscript\"></div>"
      ],
      "text/plain": [
       "<IPython.core.display.HTML object>"
      ]
     },
     "metadata": {},
     "output_type": "display_data"
    },
    {
     "data": {
      "application/javascript": [
       "if (typeof Jupyter !== \"undefined\") { window.__context = { glowscript_container: $(\"#glowscript\").removeAttr(\"id\")};}else{ element.textContent = ' ';}"
      ],
      "text/plain": [
       "<IPython.core.display.Javascript object>"
      ]
     },
     "metadata": {},
     "output_type": "display_data"
    },
    {
     "data": {
      "application/javascript": [
       "if (typeof Jupyter !== \"undefined\") {require.undef(\"nbextensions/vpython_libraries/glow.min\");}else{element.textContent = ' ';}"
      ],
      "text/plain": [
       "<IPython.core.display.Javascript object>"
      ]
     },
     "metadata": {},
     "output_type": "display_data"
    },
    {
     "data": {
      "application/javascript": [
       "if (typeof Jupyter !== \"undefined\") {require.undef(\"nbextensions/vpython_libraries/glowcomm\");}else{element.textContent = ' ';}"
      ],
      "text/plain": [
       "<IPython.core.display.Javascript object>"
      ]
     },
     "metadata": {},
     "output_type": "display_data"
    },
    {
     "data": {
      "application/javascript": [
       "if (typeof Jupyter !== \"undefined\") {require.undef(\"nbextensions/vpython_libraries/jquery-ui.custom.min\");}else{element.textContent = ' ';}"
      ],
      "text/plain": [
       "<IPython.core.display.Javascript object>"
      ]
     },
     "metadata": {},
     "output_type": "display_data"
    },
    {
     "data": {
      "application/javascript": [
       "if (typeof Jupyter !== \"undefined\") {require([\"nbextensions/vpython_libraries/glow.min\"], function(){console.log(\"GLOW LOADED\");});}else{element.textContent = ' ';}"
      ],
      "text/plain": [
       "<IPython.core.display.Javascript object>"
      ]
     },
     "metadata": {},
     "output_type": "display_data"
    },
    {
     "data": {
      "application/javascript": [
       "if (typeof Jupyter !== \"undefined\") {require([\"nbextensions/vpython_libraries/glowcomm\"], function(){console.log(\"GLOWCOMM LOADED\");});}else{element.textContent = ' ';}"
      ],
      "text/plain": [
       "<IPython.core.display.Javascript object>"
      ]
     },
     "metadata": {},
     "output_type": "display_data"
    },
    {
     "data": {
      "application/javascript": [
       "if (typeof Jupyter !== \"undefined\") {require([\"nbextensions/vpython_libraries/jquery-ui.custom.min\"], function(){console.log(\"JQUERY LOADED\");});}else{element.textContent = ' ';}"
      ],
      "text/plain": [
       "<IPython.core.display.Javascript object>"
      ]
     },
     "metadata": {},
     "output_type": "display_data"
    }
   ],
   "source": [
    "from vpython import *\n",
    "import numpy as np\n",
    "import matplotlib as plt\n",
    "import matplotlib.pyplot as pyplt\n",
    "scene = canvas()\n",
    "sphere()"
   ]
  },
  {
   "cell_type": "markdown",
   "id": "5dafcd2f-71f7-4edc-94b2-01ffdc97272e",
   "metadata": {},
   "source": [
    "# Building Up to It"
   ]
  },
  {
   "cell_type": "markdown",
   "id": "b173b0b5-9b36-45eb-9512-401362e4902e",
   "metadata": {},
   "source": [
    "## Two Ball one spring example"
   ]
  },
  {
   "cell_type": "code",
   "execution_count": 2,
   "id": "24390e05-3ab0-4288-a0f8-62a5cc6468a2",
   "metadata": {
    "tags": []
   },
   "outputs": [
    {
     "data": {
      "text/html": [
       "<div id=\"glowscript\" class=\"glowscript\"></div>"
      ],
      "text/plain": [
       "<IPython.core.display.HTML object>"
      ]
     },
     "metadata": {},
     "output_type": "display_data"
    },
    {
     "data": {
      "application/javascript": [
       "if (typeof Jupyter !== \"undefined\") { window.__context = { glowscript_container: $(\"#glowscript\").removeAttr(\"id\")};}else{ element.textContent = ' ';}"
      ],
      "text/plain": [
       "<IPython.core.display.Javascript object>"
      ]
     },
     "metadata": {},
     "output_type": "display_data"
    }
   ],
   "source": [
    "scene = canvas()\n",
    "\n",
    "pos1 = -1\n",
    "pos2 = 1\n",
    "vel1 = 0.2\n",
    "vel2 = 0\n",
    "m1 = 1.0\n",
    "m2 = 1.0\n",
    "nomLength = 2\n",
    "springConstant = 3\n",
    "\n",
    "ball1 = sphere(pos=vector(-1,0,0), radius=0.4)\n",
    "ball2 = sphere(pos=vector(1,0,0), radius=0.4)\n",
    "\n",
    "dt = 0.01\n",
    "t = 0\n",
    "while t < 2:\n",
    "    \n",
    "    force1 = springConstant*(abs(pos2-pos1) - nomLength)\n",
    "    # note that force 1 = -force 2. And that the value (pos1-pos2) is negative\n",
    "    # So we can say that if the displacement is negative, then the force sign should be flipped\n",
    "    # So we can say that signedForce = unsignedForce * sign(displacement)\n",
    "    # This will be usedful in the generalized case\n",
    "    force2 = springConstant*(nomLength - abs(pos1-pos2))\n",
    "    \n",
    "    vel1 += force1/m1*dt\n",
    "    vel2 += force2/m2*dt\n",
    "    \n",
    "    pos1 += vel1*dt\n",
    "    pos2 += vel2*dt\n",
    "    \n",
    "    ball1.pos.x=pos1\n",
    "    ball2.pos.x=pos2\n",
    "    \n",
    "    ke = 0.5*m1*vel1**2 + 0.5*m2*vel2**2\n",
    "    pe = 0.5*springConstant*(abs(pos2-pos1)-nomLength)**2\n",
    "    # energy = ke+pe\n",
    "    # print(energy)\n",
    "    \n",
    "    t += dt\n",
    "    rate(1.0/dt)"
   ]
  },
  {
   "cell_type": "markdown",
   "id": "b3b3fd9f-9a81-482f-8263-a124a0450fc4",
   "metadata": {},
   "source": [
    "## Update with no vectorization"
   ]
  },
  {
   "cell_type": "code",
   "execution_count": 3,
   "id": "f149bbdf-ff1f-4922-b990-76ae4286bc62",
   "metadata": {},
   "outputs": [],
   "source": [
    "# For each ball, for each ball\n",
    "def update():\n",
    "    global positions, velocities\n",
    "    forces = np.zeros((N,N,N, 3))\n",
    "    for i in range(N):\n",
    "        for j in range(N):\n",
    "            for k in range(N):\n",
    "                # For each ball, for each ball\n",
    "                netForce = np.zeros((3))\n",
    "                for conn in range(len(connectionLookup)):\n",
    "                    if connections[i,j,k,conn]:\n",
    "                        # print(f\"{i},{j},{k}\")\n",
    "                        # print(\"connection: \" + str(connectionLookup[conn]))\n",
    "                        displacement = positions[tuple(np.array([i,j,k])+connectionLookup[conn])] - positions[i, j, k]\n",
    "                        displacementMagnitude = np.linalg.norm(displacement)\n",
    "                        displacementDirection = displacement / np.linalg.norm(displacement)\n",
    "                        \n",
    "                        realNominalLength = nominalLength * np.linalg.norm(connectionLookup[conn])\n",
    "                        forceMagnitude = springConstant*(displacementMagnitude - realNominalLength)\n",
    "                        forceVector = forceMagnitude * displacementDirection\n",
    "                        netForce += forceVector\n",
    "                forces[i,j,k]=netForce\n",
    "    accelerations = (forces.T / masses).T\n",
    "    velocities = velocities + accelerations*dt\n",
    "    positions = positions + velocities*dt"
   ]
  },
  {
   "cell_type": "markdown",
   "id": "8dcaa400-2bbf-4e49-bc05-e2687e5fe08d",
   "metadata": {},
   "source": [
    "## Update with partial vectorization"
   ]
  },
  {
   "cell_type": "code",
   "execution_count": 4,
   "id": "44c2b654-9b28-4c3e-b90c-f5f4f44c9260",
   "metadata": {},
   "outputs": [],
   "source": [
    "def update():\n",
    "    global positions, velocities\n",
    "    forces = np.zeros((N,N,N, 3))\n",
    "    for i in range(N):\n",
    "        for j in range(N):\n",
    "            for k in range(N):\n",
    "                # For each ball, vectorized for each ball\n",
    "                validConnections = connectionLookup[connections[i,j,k]==1]\n",
    "                neighbors = np.array([i,j,k])+validConnections\n",
    "                displacements = positions[tuple(neighbors[:,0]), tuple(neighbors[:,1]), tuple(neighbors[:,2])] - positions[i, j, k]\n",
    "                displacementMagnitudes = np.linalg.norm(displacements, axis=1)\n",
    "                displacementDirections = (displacements.T / displacementMagnitudes).T\n",
    "                realNominalLengths = nominalLength * np.linalg.norm(validConnections, axis=1)\n",
    "                \n",
    "                forceMagnitudes = springConstant*(displacementMagnitudes - realNominalLengths)\n",
    "                forceVectors = (forceMagnitudes * displacementDirections.T).T\n",
    "                forces[i,j,k] = np.sum(forceVectors, axis=0)\n",
    "                \n",
    "    accelerations = (forces.T / masses).T\n",
    "    velocities = velocities + accelerations*dt\n",
    "    positions = positions + velocities*dt"
   ]
  },
  {
   "cell_type": "markdown",
   "id": "cff1e7b7-4416-4823-9ada-38870163e9a4",
   "metadata": {},
   "source": [
    "Code that was close to being useful. The \"connections\" ndarray was my first attempt at verifying valid connections.  \n",
    "It essentially was used as a mask on the connectionLookup list"
   ]
  },
  {
   "cell_type": "code",
   "execution_count": 5,
   "id": "b3678060-e818-4d65-9494-bdbfa646a93b",
   "metadata": {},
   "outputs": [],
   "source": [
    "# connections = np.zeros((N,N,N,len(connectionLookup)))\n",
    "\n",
    "# Find valid connections for all objects\n",
    "# for i in range(N):\n",
    "#     for j in range(N):\n",
    "#         for k in range(N):\n",
    "#             for conn in range(len(connectionLookup)):\n",
    "#                 connectedTo = [i+connectionLookup[conn, 0], j+connectionLookup[conn, 1], k+connectionLookup[conn, 2]]\n",
    "#                 validConnection = 1\n",
    "#                 for axis in range(3):\n",
    "#                     if connectedTo[axis] < 0 or connectedTo[axis] >= N:\n",
    "#                         validConnection = 0\n",
    "#                 connections[i,j,k,conn] = validConnection\n",
    "\n",
    "\n",
    "# neighborLookup = np.zeros((N,N,N, len(connectionLookup),3), dtype=int)\n",
    "# for i in range(N):\n",
    "#     for j in range(N):\n",
    "#         for k in range(N):\n",
    "#             neighborLookup[i,j,k] = np.array([i,j,k]) + connectionLookup\n",
    "#             if np.any(neighborLookup[i,j,k]<0) or np.any(neighborLookup[i,j,k]>=N):\n",
    "#                 neighborLookup[i,j,k]=np.array([i,j,k])\n",
    "# print(neighborLookup)"
   ]
  },
  {
   "cell_type": "markdown",
   "id": "b753ca25-5bfd-4411-a23e-97d2c7264389",
   "metadata": {},
   "source": [
    "# The whole shebang"
   ]
  },
  {
   "cell_type": "markdown",
   "id": "20cf4213-ce9a-456e-ac12-f02769cac0a4",
   "metadata": {},
   "source": [
    "## Functions"
   ]
  },
  {
   "cell_type": "markdown",
   "id": "6ee4713e-eba1-4ebb-a8a8-7581487c6beb",
   "metadata": {},
   "source": [
    "### Setup"
   ]
  },
  {
   "cell_type": "code",
   "execution_count": 6,
   "id": "81047d20-af65-4b1b-abea-3c1092891364",
   "metadata": {
    "tags": []
   },
   "outputs": [],
   "source": [
    "def getLookups(shape):\n",
    "    connectionsCardinal = [[0,0,1], [0,0,-1], [0,1,0], [0,-1,0], [1,0,0], [-1,0,0]]\n",
    "    connectionsDiagonalXY = [[1,1,0], [1,-1,0], [-1,1,0], [-1,-1,0]]\n",
    "    connectionsDiagonalXZ = [[1,0,1], [1,0,-1], [-1,0,1], [-1,0,-1]]\n",
    "    connectionsDiagonalYZ = [[0,1,1], [0,1,-1], [0,-1,1], [0,-1,-1]]\n",
    "    connectionLookup = np.array(connectionsCardinal+connectionsDiagonalXY+connectionsDiagonalXZ+connectionsDiagonalYZ)\n",
    "\n",
    "    # need to have connectionLookup as primary axis to make broadcasting easier down the line\n",
    "    neighborLookup = np.zeros((len(connectionLookup), shape[0], shape[1], shape[2], shape[3]), dtype=int)\n",
    "    for l in range(len(connectionLookup)):\n",
    "        for i in range(shape[0]):\n",
    "            for j in range(shape[1]):\n",
    "                for k in range(shape[2]):\n",
    "                    neighborLookup[l,i,j,k] = np.array([i,j,k]) + connectionLookup[l]\n",
    "                    if np.any(neighborLookup[l,i,j,k]<0) or np.any(neighborLookup[l,i,j,k]>=shape[:3]):\n",
    "                        neighborLookup[l,i,j,k]=np.array([i,j,k])\n",
    "                        \n",
    "    return connectionLookup, neighborLookup\n",
    "\n",
    "def initializeVisuals(shape, positions):\n",
    "    spheres = []\n",
    "    for i in range(shape[0]):\n",
    "        spheres.append([])\n",
    "        for j in range(shape[1]):\n",
    "            spheres[i].append([])\n",
    "            for k in range(shape[2]):\n",
    "                spheres[i][j].append(sphere(pos=vector(positions[i,j,k,0], positions[i,j,k,1], positions[i,j,k,2]),\n",
    "                        radius=0.2, color=vector(float(i+1)/(shape[0])+0.1,float(j+1)/(shape[1])+0.1,float(k+1)/(shape[2])+0.1)))\n",
    "    return spheres"
   ]
  },
  {
   "cell_type": "markdown",
   "id": "d063e5d4-3bb0-4f66-9716-f520ecda5262",
   "metadata": {},
   "source": [
    "### Main"
   ]
  },
  {
   "cell_type": "code",
   "execution_count": 133,
   "id": "e6970408-5719-44d0-a3c6-02b0b55f18d4",
   "metadata": {
    "tags": []
   },
   "outputs": [],
   "source": [
    "prevAccelerations = np.zeros((1))\n",
    "def update(positions, velocities, masses, neighborLookup, connectionLookup, nominalLength, springConstant, dt, method=\"semiBackwards\"):\n",
    "    # Some stuff for integration\n",
    "    global prevAccelerations\n",
    "    if np.any(prevAccelerations.shape != positions.shape):\n",
    "        prevAccelerations = np.zeros_like(positions)\n",
    "    if method==\"verlet\":\n",
    "        # at this point in the function, prevAccelerations=accelerations always\n",
    "        positions = positions + velocities*dt + 0.5*prevAccelerations*dt**2\n",
    "        \n",
    "    # Main update code\n",
    "    xPos = neighborLookup[:,:,:,:,0]\n",
    "    yPos = neighborLookup[:,:,:,:,1]\n",
    "    zPos = neighborLookup[:,:,:,:,2]\n",
    "    otherPositions = positions[xPos, yPos, zPos]\n",
    "    displacements = otherPositions - positions\n",
    "    displacementMagnitudes = np.linalg.norm(displacements, axis=4)\n",
    "    displacementsT = np.moveaxis(displacements,-1,0)\n",
    "    displacementDirections = np.moveaxis(np.divide(displacementsT,displacementMagnitudes,out=np.zeros_like(displacementsT),where=displacementMagnitudes!=0),0,-1)\n",
    "    \n",
    "    realNominalLengths = nominalLength * np.linalg.norm(connectionLookup, axis=1)\n",
    "    displacementMagnitudesT = np.moveaxis(displacementMagnitudes, 0, -1)\n",
    "    forceMagnitudesT = np.subtract(displacementMagnitudesT, realNominalLengths, out=np.zeros_like(displacementMagnitudesT),where=displacementMagnitudesT!=0)\n",
    "    forceMagnitudes = springConstant*np.moveaxis(forceMagnitudesT, -1, 0)\n",
    "    \n",
    "    forceVectors = np.moveaxis(np.moveaxis(displacementDirections, -1, 0) * forceMagnitudes, 0, -1)\n",
    "    forces = np.sum(forceVectors, axis=0)\n",
    "    \n",
    "    accelerations = np.moveaxis(np.moveaxis(forces,-1,0) / masses, 0, -1)\n",
    "    \n",
    "    # Integration\n",
    "    # full backwards/implicit not possible\n",
    "    # full trapezoid not possible\n",
    "    if method==\"forwards\":\n",
    "        positions = positions + velocities*dt\n",
    "        velocities = velocities + accelerations*dt\n",
    "    # elif method==\"trapezoid\":\n",
    "    #     prevVelocities = velocities.copy()\n",
    "    #     velocities = velocities + 0.5 * (accelerations + prevAccelerations)*dt\n",
    "    #     positions = positions + 0.5 * (velocities + prevVelocities) * dt\n",
    "    elif method==\"semiTrapezoid\":\n",
    "        prevVelocities = velocities.copy()\n",
    "        velocities = velocities = velocities + accelerations*dt\n",
    "        positions = positions + 0.5 * (velocities + prevVelocities) * dt\n",
    "    # Verlet like this only works when force is not a function of velocity. So doesnt work with damping\n",
    "    elif method==\"verlet\":\n",
    "        velocities = velocities + 0.5 * (prevAccelerations + accelerations) * dt\n",
    "    # Do semiBackwards/semiImplicit by default, as its the simplest and stable\n",
    "    else:\n",
    "        velocities = velocities + accelerations*dt\n",
    "        positions = positions + velocities*dt\n",
    "    \n",
    "    prevAccelerations = accelerations.copy()\n",
    "    return positions,velocities\n",
    "    \n",
    "def show(shape, spheres, positions):\n",
    "    for i in range(shape[0]):\n",
    "        for j in range(shape[1]):\n",
    "            for k in range(shape[2]):\n",
    "                spheres[i][j][k].pos.x = positions[i,j,k,0]\n",
    "                spheres[i][j][k].pos.y = positions[i,j,k,1]\n",
    "                spheres[i][j][k].pos.z = positions[i,j,k,2]\n",
    "    return spheres\n",
    "\n",
    "def simulate(shape=(3,3,3,3), nominalLength=1, springConstant=5, perturbationMagnitude=0.6, normalizePerturbations=False, basePosition=None, masses=None, dt=0.01, runTime=4, visualize=True, recordEnergy=False, plotEnergy=False, method=\"semiBackwards\"):\n",
    "    \n",
    "    if basePosition == None:\n",
    "        basePosition = np.array([int(-shape[0]/2),int(-shape[1]/2),int(-shape[2]/2)])\n",
    "    if masses == None:\n",
    "        masses = np.ones(shape[:3])\n",
    "\n",
    "    # np.indices((N,N,N)).tranpose(1,2,3,0) Gets you ndarray where ndarray[i,j,k] = [i,j,k]\n",
    "    positions = np.indices(shape[:3], dtype=float).transpose(1,2,3,0) * nominalLength + basePosition\n",
    "    velocities = np.random.rand(shape[0],shape[1],shape[2],shape[3])*2*perturbationMagnitude - perturbationMagnitude\n",
    "    # SUPER OVER ENGINEERED STUFF RIGHT HERE\n",
    "    if normalizePerturbations:\n",
    "        # Make sure net kinetic energy always starts at same value by dividing by entire magnitude of randomness\n",
    "        velocities = np.moveaxis(np.moveaxis(velocities, -1, 0) / np.linalg.norm(velocities), 0, -1)\n",
    "        # Because the entire magnitude will be higher when there are more balls, we need to scale\n",
    "        # shape[0]*shape[1]*shape[2] is equal to the number of balls. We need a f(# of balls)\n",
    "        # after some testing, I couldn't find the exact scaling function, but this works pretty well\n",
    "        # note the presence of 0.693=ln(2), there is some connection between random numbers and natural log, not sure exactly\n",
    "        velocities = (shape[0]*shape[1]*shape[2])**0.473*0.693*velocities\n",
    "\n",
    "\n",
    "    connectionLookup, neighborLookup = getLookups(shape)\n",
    "    \n",
    "    if visualize:\n",
    "        scene=canvas()\n",
    "        spheres = initializeVisuals(shape, positions)\n",
    "\n",
    "    print(\"Starting Simulation\")\n",
    "    if recordEnergy or plotEnergy:\n",
    "        kineticEnergies, potentialEnergies = [],[]\n",
    "    t = 0\n",
    "    while t < runTime:\n",
    "\n",
    "        positions, velocities = update(positions, velocities, masses, neighborLookup, connectionLookup, nominalLength, springConstant, dt, method=method)\n",
    "        if visualize:\n",
    "            spheres = show(shape, spheres, positions)\n",
    "            rate(1.0/dt)\n",
    "        if recordEnergy or plotEnergy:\n",
    "            kineticEnergies.append(getKineticEnergy(velocities, masses))\n",
    "            potentialEnergies.append(getPotentialEnergy(positions, neighborLookup, connectionLookup, nominalLength, springConstant))\n",
    "\n",
    "        t += dt\n",
    "        \n",
    "    \n",
    "    if plotEnergy:\n",
    "        createEnergyPlot(kineticEnergies, potentialEnergies, runTime)\n",
    "    \n",
    "    if recordEnergy:\n",
    "        return kineticEnergies, potentialEnergies"
   ]
  },
  {
   "cell_type": "markdown",
   "id": "3d12e1ee-609c-4c58-95c9-032c030de928",
   "metadata": {},
   "source": [
    "### Analysis"
   ]
  },
  {
   "cell_type": "code",
   "execution_count": 24,
   "id": "6b10cb8c-6272-40bb-87b7-1dc52fd25f0c",
   "metadata": {
    "tags": []
   },
   "outputs": [],
   "source": [
    "def getKineticEnergy(velocities, masses):\n",
    "    magnitudes = np.linalg.norm(velocities, axis=3)\n",
    "    return np.sum(np.square(magnitudes)*masses*0.5)\n",
    "\n",
    "def getPotentialEnergy(positions, neighborLookup, connectionLookup, nominalLength, springConstant):\n",
    "    xPos = neighborLookup[:,:,:,:,0]\n",
    "    yPos = neighborLookup[:,:,:,:,1]\n",
    "    zPos = neighborLookup[:,:,:,:,2]\n",
    "    otherPositions = positions[xPos, yPos, zPos]\n",
    "    displacements = otherPositions - positions\n",
    "    displacementMagnitudes = np.linalg.norm(displacements, axis=4)\n",
    "    displacementsT = np.moveaxis(displacements,-1,0)\n",
    "    displacementDirections = np.moveaxis(np.divide(displacementsT,displacementMagnitudes,out=np.zeros_like(displacementsT),where=displacementMagnitudes!=0),0,-1)\n",
    "    \n",
    "    realNominalLengths = nominalLength * np.linalg.norm(connectionLookup, axis=1)\n",
    "    displacementMagnitudesT = np.moveaxis(displacementMagnitudes, 0, -1)\n",
    "    forceMagnitudesT = np.subtract(displacementMagnitudesT, realNominalLengths, out=np.zeros_like(displacementMagnitudesT),where=displacementMagnitudesT!=0)\n",
    "    # Multiply by 0.25 instead of 0.5 because of double counting\n",
    "    potentialEnergies = 0.25*springConstant*np.square(np.moveaxis(forceMagnitudesT, -1, 0))\n",
    "    return np.sum(potentialEnergies)\n",
    "\n",
    "def getTotalEnergy(positions, velocities, masses, neighborLookup, connectionLookup, nominalLength, springConstant):\n",
    "    return getKineticEnergy(velocities, masses)+getPotentialEnergy(positions, neighborLookup, connectionLookup, nominalLength, springConstant)\n",
    "\n",
    "def createEnergyPlot(kineticEnergies, potentialEnergies, runTime, plotOnlyTotal=False):\n",
    "    pyplt.plot(np.linspace(0,runTime,len(kineticEnergies)), np.array(kineticEnergies)+np.array(potentialEnergies), label=\"Total\")\n",
    "    if not plotOnlyTotal:\n",
    "        pyplt.plot(np.linspace(0,runTime,len(kineticEnergies)), kineticEnergies, label=\"Kinetic\")\n",
    "        pyplt.plot(np.linspace(0,runTime,len(kineticEnergies)), potentialEnergies, label=\"Potential\")\n",
    "    pyplt.xlabel('Time')\n",
    "    pyplt.ylabel('Energy')\n",
    "    pyplt.title('Net Energy in the Lattice Over Time')\n",
    "    pyplt.legend()\n",
    "    pyplt.show()"
   ]
  },
  {
   "cell_type": "markdown",
   "id": "eec73b77-6bc1-41fa-adcd-420cf7d5bc10",
   "metadata": {},
   "source": [
    "## Visual Simulation"
   ]
  },
  {
   "cell_type": "code",
   "execution_count": 138,
   "id": "bf2213d9-5583-4c63-b39e-ffe4fac2d784",
   "metadata": {
    "tags": []
   },
   "outputs": [
    {
     "name": "stdout",
     "output_type": "stream",
     "text": [
      "8.731211428059288\n"
     ]
    },
    {
     "data": {
      "text/html": [
       "<div id=\"glowscript\" class=\"glowscript\"></div>"
      ],
      "text/plain": [
       "<IPython.core.display.HTML object>"
      ]
     },
     "metadata": {},
     "output_type": "display_data"
    },
    {
     "data": {
      "application/javascript": [
       "if (typeof Jupyter !== \"undefined\") { window.__context = { glowscript_container: $(\"#glowscript\").removeAttr(\"id\")};}else{ element.textContent = ' ';}"
      ],
      "text/plain": [
       "<IPython.core.display.Javascript object>"
      ]
     },
     "metadata": {},
     "output_type": "display_data"
    },
    {
     "name": "stdout",
     "output_type": "stream",
     "text": [
      "Starting Simulation\n"
     ]
    }
   ],
   "source": [
    "simulate(shape=(6, 6, 6, 3), normalizePerturbations=True, runTime=4)"
   ]
  },
  {
   "cell_type": "markdown",
   "id": "0fafd529-6927-4d77-944a-b56929637f7a",
   "metadata": {},
   "source": [
    "## Energy Confirmation"
   ]
  },
  {
   "cell_type": "code",
   "execution_count": 31,
   "id": "39a33728-0ad0-4529-bb32-efa1d8b0d815",
   "metadata": {
    "tags": []
   },
   "outputs": [
    {
     "name": "stdout",
     "output_type": "stream",
     "text": [
      "Starting Simulation\n"
     ]
    },
    {
     "data": {
      "image/png": "[encoded data removed]",
      "text/plain": [
       "<Figure size 640x480 with 1 Axes>"
      ]
     },
     "metadata": {},
     "output_type": "display_data"
    }
   ],
   "source": [
    "runTime = 10\n",
    "ke, pe = simulate(visualize=False, recordEnergy=True, method=\"default\", runTime=10)\n",
    "createEnergyPlot(ke, pe, runTime, plotOnlyTotal=False)"
   ]
  },
  {
   "cell_type": "markdown",
   "id": "66d2c7e5-5cb9-4bd1-ac99-0588d94f71e0",
   "metadata": {},
   "source": [
    "## Integration Method Comparison"
   ]
  },
  {
   "cell_type": "code",
   "execution_count": 140,
   "id": "82621dda-4a80-493b-9f6f-bf42d8c497e9",
   "metadata": {
    "tags": []
   },
   "outputs": [
    {
     "name": "stdout",
     "output_type": "stream",
     "text": [
      "3.129781688944917\n",
      "Starting Simulation\n",
      "3.272595862434757\n",
      "Starting Simulation\n",
      "3.112845782403012\n",
      "Starting Simulation\n",
      "3.2819514694206813\n",
      "Starting Simulation\n"
     ]
    },
    {
     "data": {
      "image/png": "[encoded data removed]",
      "text/plain": [
       "<Figure size 640x480 with 1 Axes>"
      ]
     },
     "metadata": {},
     "output_type": "display_data"
    }
   ],
   "source": [
    "runTime=4\n",
    "normalizePerturbations=True\n",
    "ke, pe = simulate(visualize=False, recordEnergy=True, runTime=runTime, normalizePerturbations=normalizePerturbations)\n",
    "pyplt.plot(np.linspace(0,runTime,len(ke)), np.array(ke)+np.array(pe), label=\"Backwards\")\n",
    "ke, pe = simulate(visualize=False, recordEnergy=True, runTime=runTime, method=\"forwards\", normalizePerturbations=normalizePerturbations)\n",
    "pyplt.plot(np.linspace(0,runTime,len(ke)), np.array(ke)+np.array(pe), label=\"Forwards\")\n",
    "ke, pe = simulate(visualize=False, recordEnergy=True, runTime=runTime, method=\"verlet\", normalizePerturbations=normalizePerturbations)\n",
    "pyplt.plot(np.linspace(0,runTime,len(ke)), np.array(ke)+np.array(pe), label=\"Velocity Verlet\")\n",
    "ke, pe = simulate(visualize=False, recordEnergy=True, runTime=runTime, method=\"semiTrapezoid\", normalizePerturbations=normalizePerturbations)\n",
    "pyplt.plot(np.linspace(0,runTime,len(ke)), np.array(ke)+np.array(pe), label=\"Semi-Trapezoid\")\n",
    "\n",
    "\n",
    "pyplt.xlabel('Time')\n",
    "pyplt.ylabel('Energy')\n",
    "pyplt.title('Net Energy in the Lattice Over Time')\n",
    "pyplt.legend()\n",
    "pyplt.show()"
   ]
  },
  {
   "cell_type": "markdown",
   "id": "397f3397-b486-42d5-9287-11d88e05bed6",
   "metadata": {},
   "source": [
    "# Adding Spring Damping"
   ]
  },
  {
   "cell_type": "code",
   "execution_count": null,
   "id": "5a6d05b6-6917-45ed-bcdf-2969667c770e",
   "metadata": {},
   "outputs": [],
   "source": []
  }
 ],
 "metadata": {
  "kernelspec": {
   "display_name": "Python 3 (ipykernel)",
   "language": "python",
   "name": "python3"
  },
  "language_info": {
   "codemirror_mode": {
    "name": "ipython",
    "version": 3
   },
   "file_extension": ".py",
   "mimetype": "text/x-python",
   "name": "python",
   "nbconvert_exporter": "python",
   "pygments_lexer": "ipython3",
   "version": "3.10.16"
  }
 },
 "nbformat": 4,
 "nbformat_minor": 5
}
