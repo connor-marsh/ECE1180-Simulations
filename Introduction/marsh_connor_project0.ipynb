{
 "cells": [
  {
   "cell_type": "markdown",
   "id": "449a3bf4-cdb8-4e2b-a8e4-d58b098fc654",
   "metadata": {
    "tags": []
   },
   "source": [
    "# VPython Tutorial\n",
    "### Setup\n",
    "Import libraries"
   ]
  },
  {
   "cell_type": "code",
   "execution_count": null,
   "id": "f66ca71e-17bc-4ae3-9443-586a57d8c4d9",
   "metadata": {
    "tags": []
   },
   "outputs": [
    {
     "data": {
      "text/html": [
       "<div id=\"glowscript\" class=\"glowscript\"></div>"
      ],
      "text/plain": [
       "<IPython.core.display.HTML object>"
      ]
     },
     "metadata": {},
     "output_type": "display_data"
    },
    {
     "data": {
      "application/javascript": "if (typeof Jupyter !== \"undefined\") { window.__context = { glowscript_container: $(\"#glowscript\").removeAttr(\"id\")};}else{ element.textContent = ' ';}",
      "text/plain": [
       "<IPython.core.display.Javascript object>"
      ]
     },
     "metadata": {},
     "output_type": "display_data"
    }
   ],
   "source": [
    "from vpython import *"
   ]
  },
  {
   "cell_type": "markdown",
   "id": "3d16843a-6f80-4c17-ba8e-b54d874f38bb",
   "metadata": {},
   "source": [
    "Create basic scene"
   ]
  },
  {
   "cell_type": "code",
   "execution_count": 36,
   "id": "976b6a11-8bcb-4750-b716-c6b4b177deb5",
   "metadata": {
    "tags": []
   },
   "outputs": [
    {
     "data": {
      "text/html": [
       "<div id=\"glowscript\" class=\"glowscript\"></div>"
      ],
      "text/plain": [
       "<IPython.core.display.HTML object>"
      ]
     },
     "metadata": {},
     "output_type": "display_data"
    },
    {
     "data": {
      "application/javascript": "if (typeof Jupyter !== \"undefined\") { window.__context = { glowscript_container: $(\"#glowscript\").removeAttr(\"id\")};}else{ element.textContent = ' ';}",
      "text/plain": [
       "<IPython.core.display.Javascript object>"
      ]
     },
     "metadata": {},
     "output_type": "display_data"
    }
   ],
   "source": [
    "scene = canvas()\n",
    "sphere()"
   ]
  },
  {
   "cell_type": "markdown",
   "id": "745de0e0-6ce6-496d-a35a-c04a07fdaf51",
   "metadata": {},
   "source": [
    "### Start building the scene\n",
    "Add wall and ball"
   ]
  },
  {
   "cell_type": "code",
   "execution_count": 37,
   "id": "560eee3d-5bbc-4304-9b1f-f18a20f7867b",
   "metadata": {
    "tags": []
   },
   "outputs": [
    {
     "data": {
      "text/html": [
       "<div id=\"glowscript\" class=\"glowscript\"></div>"
      ],
      "text/plain": [
       "<IPython.core.display.HTML object>"
      ]
     },
     "metadata": {},
     "output_type": "display_data"
    },
    {
     "data": {
      "application/javascript": "if (typeof Jupyter !== \"undefined\") { window.__context = { glowscript_container: $(\"#glowscript\").removeAttr(\"id\")};}else{ element.textContent = ' ';}",
      "text/plain": [
       "<IPython.core.display.Javascript object>"
      ]
     },
     "metadata": {},
     "output_type": "display_data"
    }
   ],
   "source": [
    "scene = canvas()\n",
    "ball = sphere(pos=vector(-5,0,0), radius=0.5, color=color.cyan)\n",
    "wallR = box(pos=vector(6,0,0), size=vector(0.2,12,12), color=color.green)"
   ]
  },
  {
   "cell_type": "markdown",
   "id": "2d795bec-0231-497a-b0cd-c56253bb42c5",
   "metadata": {},
   "source": [
    "Add movement"
   ]
  },
  {
   "cell_type": "code",
   "execution_count": 38,
   "id": "dca45c76-059e-40d7-85e3-bc357657d4bc",
   "metadata": {
    "tags": []
   },
   "outputs": [
    {
     "data": {
      "text/html": [
       "<div id=\"glowscript\" class=\"glowscript\"></div>"
      ],
      "text/plain": [
       "<IPython.core.display.HTML object>"
      ]
     },
     "metadata": {},
     "output_type": "display_data"
    },
    {
     "data": {
      "application/javascript": "if (typeof Jupyter !== \"undefined\") { window.__context = { glowscript_container: $(\"#glowscript\").removeAttr(\"id\")};}else{ element.textContent = ' ';}",
      "text/plain": [
       "<IPython.core.display.Javascript object>"
      ]
     },
     "metadata": {},
     "output_type": "display_data"
    }
   ],
   "source": [
    "scene = canvas()\n",
    "ball = sphere(pos=vector(-5,0,0), radius=0.5, color=color.cyan)\n",
    "wallR = box(pos=vector(6,0,0), size=vector(0.2,12,12), color=color.green)\n",
    "ball.velocity = vector(25,0,0)\n",
    "deltat = 0.005\n",
    "t = 0\n",
    "ball.pos = ball.pos + ball.velocity*deltat\n",
    "while t < 3:\n",
    "    ball.pos = ball.pos + ball.velocity*deltat\n",
    "    t = t + deltat"
   ]
  },
  {
   "cell_type": "markdown",
   "id": "f9de028c-3d59-4ab7-8e53-c19cb8f83922",
   "metadata": {},
   "source": [
    "Add a rate so the movement isnt instantaneous"
   ]
  },
  {
   "cell_type": "code",
   "execution_count": 39,
   "id": "1e8fc4a3-eae3-4c6e-ab63-bf3aca253cf0",
   "metadata": {
    "tags": []
   },
   "outputs": [
    {
     "data": {
      "text/html": [
       "<div id=\"glowscript\" class=\"glowscript\"></div>"
      ],
      "text/plain": [
       "<IPython.core.display.HTML object>"
      ]
     },
     "metadata": {},
     "output_type": "display_data"
    },
    {
     "data": {
      "application/javascript": "if (typeof Jupyter !== \"undefined\") { window.__context = { glowscript_container: $(\"#glowscript\").removeAttr(\"id\")};}else{ element.textContent = ' ';}",
      "text/plain": [
       "<IPython.core.display.Javascript object>"
      ]
     },
     "metadata": {},
     "output_type": "display_data"
    }
   ],
   "source": [
    "scene = canvas()\n",
    "ball = sphere(pos=vector(-5,0,0), radius=0.5, color=color.cyan)\n",
    "wallR = box(pos=vector(6,0,0), size=vector(0.2,12,12), color=color.green)\n",
    "ball.velocity = vector(25,0,0)\n",
    "deltat = 0.005\n",
    "t = 0\n",
    "ball.pos = ball.pos + ball.velocity*deltat\n",
    "while t < 3:\n",
    "    ball.pos = ball.pos + ball.velocity*deltat\n",
    "    t = t + deltat\n",
    "    rate(100)"
   ]
  },
  {
   "cell_type": "markdown",
   "id": "31a964a6-cfb9-4bf9-978f-a09b1c298b6e",
   "metadata": {},
   "source": [
    "Add collisons"
   ]
  },
  {
   "cell_type": "code",
   "execution_count": 40,
   "id": "999faadb-3fdb-4f59-8c97-afa6b84d7e98",
   "metadata": {
    "tags": []
   },
   "outputs": [
    {
     "data": {
      "text/html": [
       "<div id=\"glowscript\" class=\"glowscript\"></div>"
      ],
      "text/plain": [
       "<IPython.core.display.HTML object>"
      ]
     },
     "metadata": {},
     "output_type": "display_data"
    },
    {
     "data": {
      "application/javascript": "if (typeof Jupyter !== \"undefined\") { window.__context = { glowscript_container: $(\"#glowscript\").removeAttr(\"id\")};}else{ element.textContent = ' ';}",
      "text/plain": [
       "<IPython.core.display.Javascript object>"
      ]
     },
     "metadata": {},
     "output_type": "display_data"
    }
   ],
   "source": [
    "scene = canvas()\n",
    "ball = sphere(pos=vector(-5,0,0), radius=0.5,color=color.cyan)\n",
    "wallR = box(pos=vector(6,0,0), size=vector(0.2,12,12), color=color.green)\n",
    "ball.velocity = vector(25,0,0)\n",
    "deltat = 0.005\n",
    "t = 0\n",
    "ball.pos = ball.pos + ball.velocity*deltat\n",
    "while t < 3:\n",
    "    rate(100)\n",
    "    if ball.pos.x > wallR.pos.x:\n",
    "        ball.velocity.x = -ball.velocity.x\n",
    "    ball.pos = ball.pos + ball.velocity*deltat\n",
    "    t = t + deltat"
   ]
  },
  {
   "cell_type": "markdown",
   "id": "5373871f-ce00-4550-b1e3-99e1ac038e1f",
   "metadata": {},
   "source": [
    "Add a second wall and more collisions"
   ]
  },
  {
   "cell_type": "code",
   "execution_count": 41,
   "id": "e0617b3c-f562-487f-adda-4f7932140396",
   "metadata": {
    "tags": []
   },
   "outputs": [
    {
     "data": {
      "text/html": [
       "<div id=\"glowscript\" class=\"glowscript\"></div>"
      ],
      "text/plain": [
       "<IPython.core.display.HTML object>"
      ]
     },
     "metadata": {},
     "output_type": "display_data"
    },
    {
     "data": {
      "application/javascript": "if (typeof Jupyter !== \"undefined\") { window.__context = { glowscript_container: $(\"#glowscript\").removeAttr(\"id\")};}else{ element.textContent = ' ';}",
      "text/plain": [
       "<IPython.core.display.Javascript object>"
      ]
     },
     "metadata": {},
     "output_type": "display_data"
    }
   ],
   "source": [
    "scene = canvas()\n",
    "ball = sphere(pos=vector(-5,0,0), radius=0.5,color=color.cyan)\n",
    "wallR = box(pos=vector(6,0,0), size=vector(0.2,12,12), color=color.green)\n",
    "wallL = box(pos=vector(-6,0,0), size=vector(0.2,12,12), color=color.green)\n",
    "ball.velocity = vector(25,0,0)\n",
    "deltat = 0.005\n",
    "t = 0\n",
    "ball.pos = ball.pos + ball.velocity*deltat\n",
    "while t < 3:\n",
    "    rate(100)\n",
    "    if ball.pos.x > wallR.pos.x:\n",
    "        ball.velocity.x = -ball.velocity.x\n",
    "    elif ball.pos.x < wallL.pos.x:\n",
    "        ball.velocity.x = -ball.velocity.x\n",
    "    ball.pos = ball.pos + ball.velocity*deltat\n",
    "    t = t + deltat"
   ]
  },
  {
   "cell_type": "markdown",
   "id": "01fb7507-09cf-440f-ac0a-f056fce00c75",
   "metadata": {},
   "source": [
    "Add y velocity, see it bounces off nothing"
   ]
  },
  {
   "cell_type": "code",
   "execution_count": 8,
   "id": "43a9379b-1e8b-40aa-9f67-c5cf9163bee7",
   "metadata": {
    "tags": []
   },
   "outputs": [
    {
     "data": {
      "text/html": [
       "<div id=\"glowscript\" class=\"glowscript\"></div>"
      ],
      "text/plain": [
       "<IPython.core.display.HTML object>"
      ]
     },
     "metadata": {},
     "output_type": "display_data"
    },
    {
     "data": {
      "application/javascript": "if (typeof Jupyter !== \"undefined\") { window.__context = { glowscript_container: $(\"#glowscript\").removeAttr(\"id\")};}else{ element.textContent = ' ';}",
      "text/plain": [
       "<IPython.core.display.Javascript object>"
      ]
     },
     "metadata": {},
     "output_type": "display_data"
    }
   ],
   "source": [
    "scene = canvas()\n",
    "ball = sphere(pos=vector(-5,0,0), radius=0.5,color=color.cyan)\n",
    "wallR = box(pos=vector(6,0,0), size=vector(0.2,12,12), color=color.green)\n",
    "wallL = box(pos=vector(-6,0,0), size=vector(0.2,12,12), color=color.green)\n",
    "ball.velocity = vector(25,5,0)\n",
    "deltat = 0.005\n",
    "t = 0\n",
    "ball.pos = ball.pos + ball.velocity*deltat\n",
    "while t < 3:\n",
    "    rate(100)\n",
    "    if ball.pos.x > wallR.pos.x:\n",
    "        ball.velocity.x = -ball.velocity.x\n",
    "    elif ball.pos.x < wallL.pos.x:\n",
    "        ball.velocity.x = -ball.velocity.x\n",
    "    ball.pos = ball.pos + ball.velocity*deltat\n",
    "    t = t + deltat"
   ]
  },
  {
   "cell_type": "markdown",
   "id": "78eaa086-cfd9-47bf-a29c-1b76c44d6442",
   "metadata": {},
   "source": [
    "Add velocity arrow"
   ]
  },
  {
   "cell_type": "code",
   "execution_count": 42,
   "id": "50bcf178-184d-4da7-a443-db8a66a8878a",
   "metadata": {
    "tags": []
   },
   "outputs": [
    {
     "data": {
      "text/html": [
       "<div id=\"glowscript\" class=\"glowscript\"></div>"
      ],
      "text/plain": [
       "<IPython.core.display.HTML object>"
      ]
     },
     "metadata": {},
     "output_type": "display_data"
    },
    {
     "data": {
      "application/javascript": "if (typeof Jupyter !== \"undefined\") { window.__context = { glowscript_container: $(\"#glowscript\").removeAttr(\"id\")};}else{ element.textContent = ' ';}",
      "text/plain": [
       "<IPython.core.display.Javascript object>"
      ]
     },
     "metadata": {},
     "output_type": "display_data"
    }
   ],
   "source": [
    "scene = canvas()\n",
    "ball = sphere(pos=vector(-5,0,0), radius=0.5,color=color.cyan)\n",
    "wallR = box(pos=vector(6,0,0), size=vector(0.2,12,12), color=color.green)\n",
    "wallL = box(pos=vector(-6,0,0), size=vector(0.2,12,12), color=color.green)\n",
    "ball.velocity = vector(25,5,0)\n",
    "vscale = 0.1\n",
    "varr = arrow(pos=ball.pos, axis=vscale*ball.velocity, color=color.yellow)\n",
    "deltat = 0.005\n",
    "t = 0\n",
    "ball.pos = ball.pos + ball.velocity*deltat\n",
    "scene.autoscale = False\n",
    "while t < 3:\n",
    "    rate(100)\n",
    "    if ball.pos.x > wallR.pos.x:\n",
    "        ball.velocity.x = -ball.velocity.x\n",
    "    elif ball.pos.x < wallL.pos.x:\n",
    "        ball.velocity.x = -ball.velocity.x\n",
    "    ball.pos = ball.pos + ball.velocity*deltat\n",
    "    varr.pos = ball.pos\n",
    "    varr.axis = vscale*ball.velocity\n",
    "    t = t + deltat"
   ]
  },
  {
   "cell_type": "markdown",
   "id": "4a16241d-50a4-477c-923f-3d447a21aef3",
   "metadata": {},
   "source": [
    "### Finished scene\n",
    "Duplicated walls for remaining sides, duplicated the logic for collisions too"
   ]
  },
  {
   "cell_type": "code",
   "execution_count": 34,
   "id": "26d3f07f-f96f-435d-a82f-94e47829842c",
   "metadata": {},
   "outputs": [
    {
     "data": {
      "text/html": [
       "<div id=\"glowscript\" class=\"glowscript\"></div>"
      ],
      "text/plain": [
       "<IPython.core.display.HTML object>"
      ]
     },
     "metadata": {},
     "output_type": "display_data"
    },
    {
     "data": {
      "application/javascript": "if (typeof Jupyter !== \"undefined\") { window.__context = { glowscript_container: $(\"#glowscript\").removeAttr(\"id\")};}else{ element.textContent = ' ';}",
      "text/plain": [
       "<IPython.core.display.Javascript object>"
      ]
     },
     "metadata": {},
     "output_type": "display_data"
    }
   ],
   "source": [
    "scene = canvas()\n",
    "ball = sphere(pos=vector(-5,0,0), radius=0.5,color=color.cyan, make_trail=True)\n",
    "wallR = box(pos=vector(6,0,0), size=vector(0.2,12,12), color=color.green)\n",
    "wallL = box(pos=vector(-6,0,0), size=vector(0.2,12,12), color=color.green)\n",
    "wallU = box(pos=vector(0,6,0), size=vector(12, 0.2,12), color=color.blue)\n",
    "wallD = box(pos=vector(0,-6,0), size=vector(12,0.2,12), color=color.blue)\n",
    "wallB = box(pos=vector(0,0,-6), size=vector(12,12,0.2), color=color.red)\n",
    "fakeFrontWallPos = vector(0, 0, 6)\n",
    "ball.velocity = vector(25,15,15)\n",
    "vscale = 0.1\n",
    "varr = arrow(pos=ball.pos, axis=vscale*ball.velocity, color=color.yellow)\n",
    "deltat = 0.005\n",
    "t = 0\n",
    "ball.pos = ball.pos + ball.velocity*deltat\n",
    "scene.autoscale = False\n",
    "while t < 3:\n",
    "    rate(100)\n",
    "    if ball.pos.x > wallR.pos.x:\n",
    "        ball.velocity.x = -ball.velocity.x\n",
    "    if ball.pos.x < wallL.pos.x:\n",
    "        ball.velocity.x = -ball.velocity.x\n",
    "    if ball.pos.y > wallU.pos.y:\n",
    "        ball.velocity.y = -ball.velocity.y\n",
    "    if ball.pos.y < wallD.pos.y:\n",
    "        ball.velocity.y = -ball.velocity.y\n",
    "    if ball.pos.z > fakeFrontWallPos.z:\n",
    "        ball.velocity.z = -ball.velocity.z\n",
    "    if ball.pos.z < wallB.pos.z:\n",
    "        ball.velocity.z = -ball.velocity.z\n",
    "    ball.pos = ball.pos + ball.velocity*deltat\n",
    "    varr.pos = ball.pos\n",
    "    varr.axis = vscale*ball.velocity\n",
    "    t = t + deltat"
   ]
  },
  {
   "cell_type": "markdown",
   "id": "359c2017-a530-4b16-9e49-097fb5945010",
   "metadata": {},
   "source": [
    "# Goals\n",
    "I've been coding for fun since sixth grade and have made many hobby projects. Nowadays I'm mainly interested in robotics but still like pure software tasks. What I want to get out of this course is knowledge about good techniques/practices/methods for simlulations and modeling, and to get plenty of practice with it. The application area I'm most interested in would probably be digital twin software for robotics, and things related to that, like using a simulated robot to train a reinforcement learning algorithm for robots whos control systems are too complicated to do with classical controls easily. I'm excited to learn about fluid dynamics and cellular automata. I coded Conway's game of life for fun sometime in highschool so hopefully we will go deeper into cellular automata stuff beyond just basic life. I'm also excited for the final project where hopefully I'll make something cool that I can show off on my portfolio and hopefully learn a lot in the process of making."
   ]
  },
  {
   "cell_type": "code",
   "execution_count": null,
   "id": "6f0efe44-820c-4c19-8d00-a4b2e7cfa7f9",
   "metadata": {},
   "outputs": [],
   "source": []
  }
 ],
 "metadata": {
  "kernelspec": {
   "display_name": "Python 3 (ipykernel)",
   "language": "python",
   "name": "python3"
  },
  "language_info": {
   "codemirror_mode": {
    "name": "ipython",
    "version": 3
   },
   "file_extension": ".py",
   "mimetype": "text/x-python",
   "name": "python",
   "nbconvert_exporter": "python",
   "pygments_lexer": "ipython3",
   "version": "3.10.16"
  }
 },
 "nbformat": 4,
 "nbformat_minor": 5
}
