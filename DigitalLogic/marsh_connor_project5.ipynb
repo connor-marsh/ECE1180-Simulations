{
 "cells": [
  {
   "cell_type": "markdown",
   "id": "e25b2f32-7ec8-4129-90b4-cad0c1bd7807",
   "metadata": {},
   "source": [
    "# Intro/Note for the Grader\n",
    "I have been having an issue with Jupyter Notebooks where vpython outputs won't show up properly, sometimes they don't show up at all and sometimes they don't show up at the right cell regardless of where I do `scene=canvas()` or `g1=graph()`\n",
    "\n",
    "Because of this issue I was developing in a single python file running in vscode, and just pasted the sections into this notebook at the end of the process to make it more of a report. But I really can't run things in here. Also I talked to Dr. Bocan about this and she didn't know what was going on.\n",
    "\n",
    "But so if the graph's show up properly for you then that's wonderful but if not for me they were typically showing up infront of the **Imports** sections cell.\n",
    "\n",
    "I also decided to put all the lines into a single graph for each setup for this reason, because things would become unyieldy otherwise. For the graphs, each line has 3 y values for it, the lowest means undefined, middle means 0, and highest means 1. Each multiple of 3 will be the 0 line for that net. So if there are 3 nets then y=6 would be the 0 line for that net (and if the line is on y=5 that means undefined, y=7 means 1)"
   ]
  },
  {
   "cell_type": "markdown",
   "id": "218aa505-2df5-4831-b58e-1e2fecae6540",
   "metadata": {},
   "source": [
    "# Imports"
   ]
  },
  {
   "cell_type": "code",
   "execution_count": 1,
   "id": "17a028f1-649f-4d83-add8-1721b624590d",
   "metadata": {},
   "outputs": [
    {
     "data": {
      "text/html": [
       "<div id=\"glowscript\" class=\"glowscript\"></div>"
      ],
      "text/plain": [
       "<IPython.core.display.HTML object>"
      ]
     },
     "metadata": {},
     "output_type": "display_data"
    },
    {
     "data": {
      "application/javascript": [
       "if (typeof Jupyter !== \"undefined\") { window.__context = { glowscript_container: $(\"#glowscript\").removeAttr(\"id\")};}else{ element.textContent = ' ';}"
      ],
      "text/plain": [
       "<IPython.core.display.Javascript object>"
      ]
     },
     "metadata": {},
     "output_type": "display_data"
    }
   ],
   "source": [
    "from vpython import *\n",
    "from queue import PriorityQueue\n",
    "GATE_DELAY=10\n",
    "\n",
    "# Custom PriorityQueue I was using because imported PriorityQueue has issues if you try to give it two events with same time\n",
    "# class PriorityQueue:\n",
    "#     def __init__(self):\n",
    "#         self.items=[]\n",
    "#     def put(self, item):\n",
    "#         for i in range(len(self.items)):\n",
    "#             if item < self.items[i]:\n",
    "#                 self.items.insert(i, item)\n",
    "#                 return\n",
    "#         self.items.append(item)\n",
    "#     def get(self):\n",
    "#         return self.items.pop(0)\n",
    "#     def empty(self):\n",
    "#         return len(self.items)==0"
   ]
  },
  {
   "cell_type": "markdown",
   "id": "47ac32ec-1cf6-49b8-843c-aebe1066febf",
   "metadata": {},
   "source": [
    "# Class Definitions"
   ]
  },
  {
   "cell_type": "code",
   "execution_count": 2,
   "id": "9efeb287-c8f3-4d40-8d44-14fedf363169",
   "metadata": {
    "tags": []
   },
   "outputs": [],
   "source": [
    "class Gate:\n",
    "    def __init__(self, func, inputs, output, delay=GATE_DELAY):\n",
    "        self.func = func\n",
    "        self.inputs = inputs\n",
    "        for net in self.inputs:\n",
    "            net.receivers.append(self)\n",
    "        self.output = output\n",
    "        self.delay = delay\n",
    "    def drive(self, t):\n",
    "        \n",
    "        outputValue = self.func(self.inputs)\n",
    "        # if t+self.delay==21:\n",
    "        #     print(outputValue)\n",
    "        #     print(self.output.value)\n",
    "        # outputValue = None\n",
    "        # for net in self.inputs:\n",
    "        #     if net.value=='X':\n",
    "        #         # print('X')\n",
    "        #         outputValue='X'\n",
    "                \n",
    "        # # print(self.func(self.inputs))\n",
    "        # if outputValue == None:\n",
    "        #     outputValue=self.func(self.inputs)\n",
    "        if self.output.value != outputValue:\n",
    "            return Event(self.output.id, t+self.delay, outputValue)\n",
    "\n",
    "def nand(inputs):\n",
    "    hasX = False\n",
    "    for net in inputs:\n",
    "        if net.value==0:\n",
    "            return 1\n",
    "        elif net.value=='X':\n",
    "            hasX = True\n",
    "    \n",
    "    return 'X' if hasX else 0\n",
    "\n",
    "def nor(inputs):\n",
    "    hasX = False\n",
    "    for net in inputs:\n",
    "        if net.value==1:\n",
    "            return 0\n",
    "        elif net.value=='X':\n",
    "            hasX = True\n",
    "    \n",
    "    return 'X' if hasX else 1\n",
    "        \n",
    "    \n",
    "class Event:\n",
    "    def __init__(self, netID, time, value):\n",
    "        self.netID = netID\n",
    "        self.time = time\n",
    "        self.value = value\n",
    "    def __lt__(self, other):\n",
    "        return self.time < other.time\n",
    "    def __str__(self):\n",
    "        return \"Net ID: \" + str(self.netID) + \" | Time: \" + str(self.time) + \" | Value: \" + str(self.value)\n",
    "    \n",
    "class Net:\n",
    "    nets = []\n",
    "    def __init__(self, receivers=None, initialValue='X'):\n",
    "        self.id = len(Net.nets)\n",
    "        if receivers == None:\n",
    "            self.receivers = []\n",
    "        else:\n",
    "            self.receivers = receivers\n",
    "        #self.receivers = receivers[0:-1] ## ALSO WORKS\n",
    "        self.value=initialValue\n",
    "        Net.nets.append(self)\n",
    "    def update(self, value, t):\n",
    "        self.value = value\n",
    "        events = []\n",
    "        for receiver in self.receivers:\n",
    "            event = receiver.drive(t)\n",
    "            if event:\n",
    "                events.append(event)\n",
    "        return events\n",
    "    def graphValue(self):\n",
    "        return -1+self.id*3 if self.value == 'X' else self.value+self.id*3"
   ]
  },
  {
   "cell_type": "markdown",
   "id": "ea63dac6-82c6-49f4-b62e-a9e298aa0a17",
   "metadata": {},
   "source": [
    "# Simulations"
   ]
  },
  {
   "cell_type": "markdown",
   "id": "2bca6907-0ea1-4ff3-9a19-de118638723e",
   "metadata": {},
   "source": [
    "## NAND Gate"
   ]
  },
  {
   "cell_type": "code",
   "execution_count": 3,
   "id": "1be138eb-b2da-4531-aa47-77830fcdc3cf",
   "metadata": {
    "tags": []
   },
   "outputs": [
    {
     "data": {
      "application/javascript": [
       "if (typeof Jupyter !== \"undefined\") {require.undef(\"nbextensions/vpython_libraries/glow.min\");}else{element.textContent = ' ';}"
      ],
      "text/plain": [
       "<IPython.core.display.Javascript object>"
      ]
     },
     "metadata": {},
     "output_type": "display_data"
    },
    {
     "data": {
      "application/javascript": [
       "if (typeof Jupyter !== \"undefined\") {require.undef(\"nbextensions/vpython_libraries/glowcomm\");}else{element.textContent = ' ';}"
      ],
      "text/plain": [
       "<IPython.core.display.Javascript object>"
      ]
     },
     "metadata": {},
     "output_type": "display_data"
    },
    {
     "data": {
      "application/javascript": [
       "if (typeof Jupyter !== \"undefined\") {require.undef(\"nbextensions/vpython_libraries/jquery-ui.custom.min\");}else{element.textContent = ' ';}"
      ],
      "text/plain": [
       "<IPython.core.display.Javascript object>"
      ]
     },
     "metadata": {},
     "output_type": "display_data"
    },
    {
     "data": {
      "application/javascript": [
       "if (typeof Jupyter !== \"undefined\") {require([\"nbextensions/vpython_libraries/glow.min\"], function(){console.log(\"GLOW LOADED\");});}else{element.textContent = ' ';}"
      ],
      "text/plain": [
       "<IPython.core.display.Javascript object>"
      ]
     },
     "metadata": {},
     "output_type": "display_data"
    },
    {
     "data": {
      "application/javascript": [
       "if (typeof Jupyter !== \"undefined\") {require([\"nbextensions/vpython_libraries/glowcomm\"], function(){console.log(\"GLOWCOMM LOADED\");});}else{element.textContent = ' ';}"
      ],
      "text/plain": [
       "<IPython.core.display.Javascript object>"
      ]
     },
     "metadata": {},
     "output_type": "display_data"
    },
    {
     "data": {
      "application/javascript": [
       "if (typeof Jupyter !== \"undefined\") {require([\"nbextensions/vpython_libraries/jquery-ui.custom.min\"], function(){console.log(\"JQUERY LOADED\");});}else{element.textContent = ' ';}"
      ],
      "text/plain": [
       "<IPython.core.display.Javascript object>"
      ]
     },
     "metadata": {},
     "output_type": "display_data"
    },
    {
     "name": "stdout",
     "output_type": "stream",
     "text": [
      "Done!\n"
     ]
    }
   ],
   "source": [
    "# Clear static variable cause jupyter notebook issues (wouldn't need in normal program)\n",
    "Net.nets = []\n",
    "\n",
    "queue = PriorityQueue()\n",
    "\n",
    "gate = Gate(nand, [Net(), Net()], Net())\n",
    "\n",
    "inputEvents = [Event(0, 0, 0), Event(1, 0, 0), Event(0, 0, 1), Event(1, 0, 1), Event(0, 0, 0)]\n",
    "for i, event in enumerate(inputEvents):\n",
    "    event.time += GATE_DELAY*3*i\n",
    "[queue.put(i) for i in inputEvents]\n",
    "t=0\n",
    "g1 = graph(title='NAND', xtitle='time (picoseconds)', ytitle='X/0/1')\n",
    "curves = [gcurve(color=vec(0, 1.0/float(i+1), 1.0/float(len(Net.nets)-i))) for i in range(len(Net.nets))]\n",
    "curves[0].plot(-1,0)\n",
    "\n",
    "runs=0\n",
    "\n",
    "while not queue.empty():\n",
    "    for i in range(len(curves)):\n",
    "        curves[i].plot(pos=(t, Net.nets[i].graphValue()))\n",
    "\n",
    "    event = queue.get()\n",
    "    t = event.time\n",
    "\n",
    "    for i in range(len(curves)):\n",
    "        curves[i].plot(pos=(t, Net.nets[i].graphValue()))\n",
    "\n",
    "    [queue.put(ev) for ev in Net.nets[event.netID].update(event.value, t)]\n",
    "    runs+=1\n",
    "    rate(20)\n",
    "    \n",
    "for i in range(len(curves)):\n",
    "    curves[i].plot(pos=(t, Net.nets[i].graphValue()))\n",
    "for i in range(len(curves)):\n",
    "    curves[i].plot(pos=(t+GATE_DELAY*2, Net.nets[i].graphValue()))"
   ]
  },
  {
   "cell_type": "markdown",
   "id": "76b5c0f4-3b79-4769-8899-b05447a2cd28",
   "metadata": {},
   "source": [
    "We can see that when either input is 0 the output is 1, then when both inputs are 1 the output is 0."
   ]
  },
  {
   "cell_type": "markdown",
   "id": "7e6fc64b-0c9d-4748-a787-80e0add5bab1",
   "metadata": {
    "tags": []
   },
   "source": [
    "## OR Gate from 3 NAND Gates (DeMorgan's Law)\n",
    "\\~(AA) = \\~A  \n",
    "\\~(BB) = \\~B  \n",
    "\\~((\\~A)(\\~B)) = A+B"
   ]
  },
  {
   "cell_type": "code",
   "execution_count": null,
   "id": "960c08cd-7f27-4d79-8008-bdf1b0191ed2",
   "metadata": {},
   "outputs": [],
   "source": [
    "# Clear static variable Net.nets cause jupyter notebook issues (wouldn't need in normal program)\n",
    "Net.nets = []\n",
    "\n",
    "queue = PriorityQueue()\n",
    "\n",
    "A = Net()\n",
    "B = Net()\n",
    "notA = Net()\n",
    "notB = Net()\n",
    "AorB = Net()\n",
    "notAGate = Gate(nand, [A, A], notA)\n",
    "notBGate = Gate(nand, [B, B], notB)\n",
    "AorBGate = Gate(nand, [notA, notB], AorB)\n",
    "\n",
    "inputEvents = [Event(0, 0, 0), Event(1, 0, 0), Event(0, 0, 1), Event(1, 0, 1), Event(0, 0, 0)]\n",
    "for i, event in enumerate(inputEvents):\n",
    "    event.time += GATE_DELAY*4*i\n",
    "[queue.put(i) for i in inputEvents]\n",
    "t=0\n",
    "g1 = graph(title='OR', xtitle='time (picoseconds)', ytitle='X/0/1')\n",
    "curves = [gcurve(color=vec(0, 1.0/float(i+1), 1.0/float(len(Net.nets)-i))) for i in range(len(Net.nets))]\n",
    "curves[0].plot(-1,0)\n",
    "\n",
    "runs=0\n",
    "\n",
    "while not queue.empty():\n",
    "    for i in range(len(curves)):\n",
    "        curves[i].plot(pos=(t, Net.nets[i].graphValue()))\n",
    "\n",
    "    event = queue.get()\n",
    "    t = event.time\n",
    "\n",
    "    for i in range(len(curves)):\n",
    "        curves[i].plot(pos=(t, Net.nets[i].graphValue()))\n",
    "\n",
    "    [queue.put(ev) for ev in Net.nets[event.netID].update(event.value, t)]\n",
    "    runs+=1\n",
    "    rate(20)\n",
    "    \n",
    "for i in range(len(curves)):\n",
    "    curves[i].plot(pos=(t, Net.nets[i].graphValue()))\n",
    "for i in range(len(curves)):\n",
    "    curves[i].plot(pos=(t+GATE_DELAY*2, Net.nets[i].graphValue()))\n"
   ]
  },
  {
   "cell_type": "markdown",
   "id": "bb71a80d-0cc5-4902-8ee5-fc525951aa0e",
   "metadata": {},
   "source": [
    "We can see that when either input is 1 the output is 1, then when both inputs are 0 the output is 0."
   ]
  },
  {
   "cell_type": "markdown",
   "id": "f9012e91-530f-4a2b-a87e-b4e3af925a56",
   "metadata": {},
   "source": [
    "## NOR Gate"
   ]
  },
  {
   "cell_type": "code",
   "execution_count": 5,
   "id": "78f32986-3471-4cd2-8854-8fcdce5e67bb",
   "metadata": {
    "tags": []
   },
   "outputs": [
    {
     "name": "stdout",
     "output_type": "stream",
     "text": [
      "Done!\n"
     ]
    }
   ],
   "source": [
    "# Clear static variable cause jupyter notebook issues (wouldn't need in normal program)\n",
    "Net.nets = []\n",
    "\n",
    "queue = PriorityQueue()\n",
    "\n",
    "gate = Gate(nor, [Net(), Net()], Net())\n",
    "\n",
    "inputEvents = [Event(0, 0, 0), Event(1, 0, 0), Event(0, 0, 1), Event(1, 0, 1), Event(0, 0, 0)]\n",
    "for i, event in enumerate(inputEvents):\n",
    "    event.time += GATE_DELAY*3*i\n",
    "[queue.put(i) for i in inputEvents]\n",
    "t=0\n",
    "g1 = graph(title='NOR', xtitle='time (picoseconds)', ytitle='X/0/1')\n",
    "curves = [gcurve(color=vec(0, 1.0/float(i+1), 1.0/float(len(Net.nets)-i))) for i in range(len(Net.nets))]\n",
    "curves[0].plot(-1,0)\n",
    "\n",
    "runs=0\n",
    "\n",
    "while not queue.empty():\n",
    "    for i in range(len(curves)):\n",
    "        curves[i].plot(pos=(t, Net.nets[i].graphValue()))\n",
    "\n",
    "    event = queue.get()\n",
    "    t = event.time\n",
    "\n",
    "    for i in range(len(curves)):\n",
    "        curves[i].plot(pos=(t, Net.nets[i].graphValue()))\n",
    "\n",
    "    [queue.put(ev) for ev in Net.nets[event.netID].update(event.value, t)]\n",
    "    runs+=1\n",
    "    rate(20)\n",
    "    \n",
    "for i in range(len(curves)):\n",
    "    curves[i].plot(pos=(t, Net.nets[i].graphValue()))\n",
    "for i in range(len(curves)):\n",
    "    curves[i].plot(pos=(t+GATE_DELAY*2, Net.nets[i].graphValue()))\n"
   ]
  },
  {
   "cell_type": "markdown",
   "id": "5f6bdb83-db64-4af1-bd70-5dbd08a6047e",
   "metadata": {},
   "source": [
    "We can see that when either input is 1 the output is 0, then when both inputs are 0 the output is 1."
   ]
  },
  {
   "cell_type": "markdown",
   "id": "2d6cb961-248b-449e-a65d-514e2b535057",
   "metadata": {},
   "source": [
    "## AND Gate from 3 NOR Gates (DeMorgan's Law)\n",
    "\\~(A+A) = \\~A  \n",
    "\\~(B+B) = \\~B  \n",
    "\\~(\\~A+\\~B) = AB"
   ]
  },
  {
   "cell_type": "code",
   "execution_count": 6,
   "id": "4cba4cd1-fd55-4dd0-b008-0d5f80de2284",
   "metadata": {},
   "outputs": [
    {
     "name": "stdout",
     "output_type": "stream",
     "text": [
      "Done!\n"
     ]
    }
   ],
   "source": [
    "# Clear static variable Net.nets cause jupyter notebook issues (wouldn't need in normal program)\n",
    "Net.nets = []\n",
    "\n",
    "queue = PriorityQueue()\n",
    "\n",
    "A = Net()\n",
    "B = Net()\n",
    "notA = Net()\n",
    "notB = Net()\n",
    "AandB = Net()\n",
    "notAGate = Gate(nor, [A, A], notA)\n",
    "notBGate = Gate(nor, [B, B], notB)\n",
    "AandBGate = Gate(nor, [notA, notB], AandB)\n",
    "\n",
    "inputEvents = [Event(0, 0, 0), Event(1, 0, 0), Event(0, 0, 1), Event(1, 0, 1), Event(0, 0, 0)]\n",
    "for i, event in enumerate(inputEvents):\n",
    "    event.time += GATE_DELAY*4*i\n",
    "[queue.put(i) for i in inputEvents]\n",
    "t=0\n",
    "g1 = graph(title='AND', xtitle='time (picoseconds)', ytitle='X/0/1')\n",
    "curves = [gcurve(color=vec(0, 1.0/float(i+1), 1.0/float(len(Net.nets)-i))) for i in range(len(Net.nets))]\n",
    "curves[0].plot(-1,0)\n",
    "\n",
    "runs=0\n",
    "\n",
    "while not queue.empty():\n",
    "    for i in range(len(curves)):\n",
    "        curves[i].plot(pos=(t, Net.nets[i].graphValue()))\n",
    "\n",
    "    event = queue.get()\n",
    "    t = event.time\n",
    "\n",
    "    for i in range(len(curves)):\n",
    "        curves[i].plot(pos=(t, Net.nets[i].graphValue()))\n",
    "\n",
    "    [queue.put(ev) for ev in Net.nets[event.netID].update(event.value, t)]\n",
    "    runs+=1\n",
    "    rate(20)\n",
    "    \n",
    "for i in range(len(curves)):\n",
    "    curves[i].plot(pos=(t, Net.nets[i].graphValue()))\n",
    "for i in range(len(curves)):\n",
    "    curves[i].plot(pos=(t+GATE_DELAY*2, Net.nets[i].graphValue()))\n"
   ]
  },
  {
   "cell_type": "markdown",
   "id": "98d2f7e1-3676-43f3-ab46-0b6dd815d5c9",
   "metadata": {},
   "source": [
    "We can see that when either input is 0 the output is 0, then when both inputs are 1 the output is 1."
   ]
  },
  {
   "cell_type": "markdown",
   "id": "e21c3cfd-0243-47a4-9532-6354b16bf53b",
   "metadata": {},
   "source": [
    "## D-Latch"
   ]
  },
  {
   "cell_type": "code",
   "execution_count": null,
   "id": "189b794e-911f-46dc-8189-1feebe63d4f0",
   "metadata": {
    "tags": []
   },
   "outputs": [],
   "source": [
    "# Clear static variable cause jupyter notebook issues (wouldn't need in normal program)\n",
    "Net.nets = []\n",
    "\n",
    "queue = PriorityQueue()\n",
    "# AND from two NANDS\n",
    "# gate1 = Gate(nand, [Net(), Net()], Net())\n",
    "# gate2 = Gate(nand, [gate1.output, gate1.output], Net())\n",
    "# initialEvents = [Event(0, 0, 0), Event(1, 1, 0), Event(0, 2, 1), Event(1, 3, 1)]\n",
    "\n",
    "# D Latch\n",
    "# D=Net(initialValue=0)\n",
    "# E=Net(initialValue=0)\n",
    "# notD=Net(initialValue=1)\n",
    "# S=Net(initialValue=1)\n",
    "# R=Net(initialValue=1)\n",
    "D=Net()\n",
    "E=Net()\n",
    "notD=Net()\n",
    "S=Net()\n",
    "R=Net()\n",
    "# Give Q and QBar initial values because of feedback of 'X' issues otherwise\n",
    "Q=Net(initialValue=0)\n",
    "QBar=Net(initialValue=1)\n",
    "SGate=Gate(nand, [D, E], S)\n",
    "notGate=Gate(nand, [D,D], notD)\n",
    "RGate=Gate(nand, [notD,E], R)\n",
    "QGate=Gate(nand, [S, QBar], Q)\n",
    "QBarGate=Gate(nand, [R, Q], QBar)\n",
    "inputEvents = [Event(0, 0, 0), Event(1, 0, 0), Event(0, 0, 1), Event(0, 0, 0), Event(1, 0, 1), Event(0, 0, 1), Event(0, 0, 0), Event(0, 0, 1), Event(1, 0, 0), Event(0, 0, 0)]\n",
    "for i, event in enumerate(inputEvents):\n",
    "    event.time += GATE_DELAY*4*i\n",
    "[queue.put(i) for i in inputEvents]\n",
    "t=0\n",
    "g1 = graph(title='D-LATCH', xtitle='time (picoseconds)', ytitle='X/0/1')\n",
    "curves = [gcurve(color=vec(0, 1.0/float(i+1), 1.0/float(len(Net.nets)-i))) for i in range(len(Net.nets))]\n",
    "curves[0].plot(-1,0)\n",
    "\n",
    "runs=0\n",
    "\n",
    "while not queue.empty():\n",
    "    for i in range(len(curves)):\n",
    "        curves[i].plot(pos=(t, Net.nets[i].graphValue()))\n",
    "\n",
    "    event = queue.get()\n",
    "    t = event.time\n",
    "\n",
    "    for i in range(len(curves)):\n",
    "        curves[i].plot(pos=(t, Net.nets[i].graphValue()))\n",
    "\n",
    "    [queue.put(ev) for ev in Net.nets[event.netID].update(event.value, t)]\n",
    "    runs+=1\n",
    "    rate(20)\n",
    "    \n",
    "for i in range(len(curves)):\n",
    "    curves[i].plot(pos=(t, Net.nets[i].graphValue()))\n",
    "for i in range(len(curves)):\n",
    "    curves[i].plot(pos=(t+GATE_DELAY*2, Net.nets[i].graphValue()))\n"
   ]
  },
  {
   "cell_type": "markdown",
   "id": "8e6bfafa-830b-499e-b46a-099a6bcb976c",
   "metadata": {},
   "source": [
    "We can see that when the D net changes while E net is low, there is no effect on outputs (Q and QBar). But if D net changes while E net is high, then those changes are reflected in the outputs!"
   ]
  },
  {
   "cell_type": "markdown",
   "id": "6e42673a-d547-4c8b-abbc-987d61100a99",
   "metadata": {},
   "source": [
    "# Comments\n",
    "I found that simulating combinational and sequential circuits were basically the same except for one issue I had with sequential circuits.\n",
    "\n",
    "The only issue I had transitioning from combinational to sequential is that when you have undefined signals feeding back into the circuit they will then cause more undefined signals, which will lock the circuit into an undefined state. To get around this, I initialized the nets that feedback and cause the circuit to have memory (which in the D-Latch case is Q and QBar) to have values of 0 or 1 (in D-Latch case I initialized Q=0 and QBar=1)\n",
    "\n",
    "Other than this issue my setup for combinational circuits worked immediately for sequential circuits with no other modifications!"
   ]
  },
  {
   "cell_type": "code",
   "execution_count": null,
   "id": "1189c443-ca09-4045-b821-5e891d6b167f",
   "metadata": {},
   "outputs": [],
   "source": []
  }
 ],
 "metadata": {
  "kernelspec": {
   "display_name": "Python 3 (ipykernel)",
   "language": "python",
   "name": "python3"
  },
  "language_info": {
   "codemirror_mode": {
    "name": "ipython",
    "version": 3
   },
   "file_extension": ".py",
   "mimetype": "text/x-python",
   "name": "python",
   "nbconvert_exporter": "python",
   "pygments_lexer": "ipython3",
   "version": "3.10.16"
  }
 },
 "nbformat": 4,
 "nbformat_minor": 5
}
