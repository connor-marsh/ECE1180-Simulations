{
 "cells": [
  {
   "cell_type": "markdown",
   "id": "82942031-35a3-465e-b40b-55a6ea6b13f4",
   "metadata": {},
   "source": [
    "# Introduction\n",
    "This notebook will model two main things, rigid-body physics, and robotic control systems, both focused around the application of a ping pong playing robot.\n",
    "\n",
    "## Physics\n",
    "Rigid-body physics: The physics will pertain to bouncing and rolling of a ping pong ball off of arbitrarily sized, positioned, and rotated, rigid body spheres, rectangular prisms, and cylinders (maybe). I wanted to make a general rigid-body simulation for completeness, but in the end all we really need is just the physics of a ball on a flat table, and an arbitrarily positioned and rotated paddle. The paddle will be made up of either two cylinders, or two rectangular prisms, which would form the handle and the paddle surface.\n",
    "\n",
    "\n",
    "## Control\n",
    "Robotic control systems: The first step is to simulate control over the paddle where we can magically set the paddles position and rotation or 6 degrees of freedom (DOF). The second step would be to attach the paddle to the end of a 6-DOF robot arm and control it via inverse kinematics of the robot arm, and simulating motor torques etc."
   ]
  },
  {
   "cell_type": "markdown",
   "id": "609f30b0-3b92-4471-9381-5d74e87c2d3e",
   "metadata": {},
   "source": [
    "# Background\n",
    "\n",
    "## Physics\n",
    "At its core this notebook is a rigid-body physics simulation. The ball will be affected by gravity, and then bounce off or roll on whichever surfaces it collides with. For bouncing collisions, we will assume that balls mass to be negligible compared to the mass of the paddle/table, so the paddle/table will not budge at all under a collision.\n",
    "\n",
    "When bouncing, the balls velocity vector will be reflected across the normal of the surface it's colliding with.\n",
    "\n",
    "When rolling, the ball will have component forces of gravity pushing it in it's rolling state based off the normal of the surface it is rolling on.\n",
    "\n",
    "## Control\n",
    "In the first step, the robot's state will be represented as the position and velocity of the ball, followed by the position and rotation of the paddle.\n",
    "\n",
    "In the second step, the robot's state will be the same, but we will need the velocities and angular velocities of the paddle as well.\n",
    "\n",
    "The two control modes will be bouncing and rolling, and I will likely implement some sort of sliding mode when the ball is bouncing at a very high frequency. A sliding mode is when the objects state space moves along the edge of the boundary between two different modes, known as the sliding surface.\n",
    "\n",
    "In the bouncing mode, we can do closed form integration of the balls trajectory, given an initial velocity and position, and then determine where we want to move the paddle to, to intercept it.\n",
    "\n",
    "In the rolling mode, we will do either PID or state-feedback control to determine how we should position and rotate the paddle to achieve the desired ball position."
   ]
  },
  {
   "cell_type": "markdown",
   "id": "eaabf26f-43eb-43bb-8ee3-29f628b220d6",
   "metadata": {},
   "source": [
    "# Approach\n",
    "[Influence Diagram](./influence_diagram.png)\n",
    "\n",
    "[Simulation Diagram](./simulation_diagram.png)"
   ]
  },
  {
   "cell_type": "markdown",
   "id": "4c694be8-6dbe-4228-9cd1-ad4a409cc994",
   "metadata": {},
   "source": [
    "# Verification\n",
    "## Physics\n",
    "I can verify the physics simulation of collisions by doing closed form integration, and compare the analytical results of a given collision trajectory to the simulated results.\n",
    "For the rolling dynamics I can do a similar thing but that might be harder analytically.\n",
    "To fully verify the whole physics, I can download a standard physics simulation software and put identical scenarios into my simulation and that software and compare the results.\n",
    "\n",
    "## Control\n",
    "This might be out of scope of what I have time to do, but I have access to an actual robot arm, so I might be able to use that for verification. I can make the robot arm parameters match my physical robot arm, and find ideal control gains in simulation, and then use those gains on the physical arm and see if they work.\n",
    "\n",
    "For this to work we also need closed loop feedback on the position of the ball. I also have access to an XBox360 Kinect (RGBD Camera essentially) which we can use to track the location of the ball. This would obviously add noise and a time delay to the control, so I can try simulating noise and time delay as well!"
   ]
  },
  {
   "cell_type": "markdown",
   "id": "4561a127-7f42-4c3a-a74e-929ba6e32f90",
   "metadata": {},
   "source": [
    "# Scenarios\n"
   ]
  },
  {
   "cell_type": "markdown",
   "id": "a6c98a06-cfec-436a-9672-af549cd8b9aa",
   "metadata": {},
   "source": [
    "# Results (Code for now)"
   ]
  },
  {
   "cell_type": "markdown",
   "id": "469ed1df-b6b3-4644-8dc6-484193dc6fb4",
   "metadata": {},
   "source": [
    "## Imports and Globals"
   ]
  },
  {
   "cell_type": "code",
   "execution_count": 32,
   "id": "87f8bcc3-b3ae-41f0-998a-32bc0e3f45d9",
   "metadata": {
    "tags": []
   },
   "outputs": [
    {
     "name": "stdout",
     "output_type": "stream",
     "text": [
      "66\n"
     ]
    }
   ],
   "source": [
    "from vpython import *\n",
    "import numpy as np\n",
    "import time\n",
    "G = -9.8\n",
    "fps = 30\n",
    "speedMultiplier = 1\n",
    "dt = 0.0005 * speedMultiplier\n",
    "resolutionMultiplier = int(1.0/(dt*fps))\n",
    "print(resolutionMultiplier)\n",
    "preSimulateThenPlayback = True"
   ]
  },
  {
   "cell_type": "markdown",
   "id": "018d8eed-84bb-4d1d-aa43-d5bf587f739d",
   "metadata": {},
   "source": [
    "## Initial setup"
   ]
  },
  {
   "cell_type": "code",
   "execution_count": 2,
   "id": "52e2f4ec-7cc5-45c6-9200-0d807d4a3d4a",
   "metadata": {
    "tags": []
   },
   "outputs": [
    {
     "data": {
      "text/html": [
       "<div id=\"glowscript\" class=\"glowscript\"></div>"
      ],
      "text/plain": [
       "<IPython.core.display.HTML object>"
      ]
     },
     "metadata": {},
     "output_type": "display_data"
    },
    {
     "data": {
      "application/javascript": [
       "if (typeof Jupyter !== \"undefined\") { window.__context = { glowscript_container: $(\"#glowscript\").removeAttr(\"id\")};}else{ element.textContent = ' ';}"
      ],
      "text/plain": [
       "<IPython.core.display.Javascript object>"
      ]
     },
     "metadata": {},
     "output_type": "display_data"
    },
    {
     "data": {
      "application/javascript": [
       "if (typeof Jupyter !== \"undefined\") {require.undef(\"nbextensions/vpython_libraries/glow.min\");}else{element.textContent = ' ';}"
      ],
      "text/plain": [
       "<IPython.core.display.Javascript object>"
      ]
     },
     "metadata": {},
     "output_type": "display_data"
    },
    {
     "data": {
      "application/javascript": [
       "if (typeof Jupyter !== \"undefined\") {require.undef(\"nbextensions/vpython_libraries/glowcomm\");}else{element.textContent = ' ';}"
      ],
      "text/plain": [
       "<IPython.core.display.Javascript object>"
      ]
     },
     "metadata": {},
     "output_type": "display_data"
    },
    {
     "data": {
      "application/javascript": [
       "if (typeof Jupyter !== \"undefined\") {require.undef(\"nbextensions/vpython_libraries/jquery-ui.custom.min\");}else{element.textContent = ' ';}"
      ],
      "text/plain": [
       "<IPython.core.display.Javascript object>"
      ]
     },
     "metadata": {},
     "output_type": "display_data"
    },
    {
     "data": {
      "application/javascript": [
       "if (typeof Jupyter !== \"undefined\") {require([\"nbextensions/vpython_libraries/glow.min\"], function(){console.log(\"GLOW LOADED\");});}else{element.textContent = ' ';}"
      ],
      "text/plain": [
       "<IPython.core.display.Javascript object>"
      ]
     },
     "metadata": {},
     "output_type": "display_data"
    },
    {
     "data": {
      "application/javascript": [
       "if (typeof Jupyter !== \"undefined\") {require([\"nbextensions/vpython_libraries/glowcomm\"], function(){console.log(\"GLOWCOMM LOADED\");});}else{element.textContent = ' ';}"
      ],
      "text/plain": [
       "<IPython.core.display.Javascript object>"
      ]
     },
     "metadata": {},
     "output_type": "display_data"
    },
    {
     "data": {
      "application/javascript": [
       "if (typeof Jupyter !== \"undefined\") {require([\"nbextensions/vpython_libraries/jquery-ui.custom.min\"], function(){console.log(\"JQUERY LOADED\");});}else{element.textContent = ' ';}"
      ],
      "text/plain": [
       "<IPython.core.display.Javascript object>"
      ]
     },
     "metadata": {},
     "output_type": "display_data"
    }
   ],
   "source": [
    "scene = canvas()\n",
    "\n",
    "mass = 0.0027\n",
    "radius = 0.02\n",
    "restitution = 0.8\n",
    "\n",
    "tableLength = 2.743\n",
    "tableWidth = 1.524\n",
    "tableHeight = 0.752\n",
    "tableSize = vec(2.743, 0.752, 1.524)\n",
    "\n",
    "origin = sphere(pos=vec(0,0,0), radius=0.1, color=vec(1,0,0))\n",
    "table = box(pos=tableSize/2, size=tableSize, color=vec(0.3, 0.3, 0.6))\n",
    "ball = sphere(pos=tableSize/2+vec(0,tableSize.y/2+1,0), radius=radius, color=vec(1,1,1))\n",
    "ball.vel = vec(0,0,0)\n",
    "\n",
    "t = 0\n",
    "endTime = 1\n",
    "while t < endTime:\n",
    "    \n",
    "    gForce = G*mass\n",
    "    netForce = gForce\n",
    "    acc = netForce/mass\n",
    "    ball.vel.y += acc * dt\n",
    "    ball.pos += ball.vel * dt\n",
    "    \n",
    "    if ball.pos.y - ball.radius < table.size.y:\n",
    "        ball.pos.y = table.size.y + ball.radius\n",
    "        ball.vel.y *= -restitution\n",
    "    \n",
    "    t += dt*resolutionMultiplier\n",
    "    rate(fps)"
   ]
  },
  {
   "cell_type": "markdown",
   "id": "422faa3b-06f8-4906-8c87-58c1d284e062",
   "metadata": {},
   "source": [
    "## Class Definitions"
   ]
  },
  {
   "cell_type": "code",
   "execution_count": 3,
   "id": "0ad1e93c-b605-4ea7-8a05-94b3c662a656",
   "metadata": {
    "tags": []
   },
   "outputs": [],
   "source": [
    "# Returns a rotation matrix R that will rotate vector a to point in the same direction as vector b\n",
    "def alignVectorsRotationMatrix(a, b):\n",
    "    b = b / np.linalg.norm(b) # normalize a\n",
    "    a = a / np.linalg.norm(a) # normalize b\n",
    "    v = np.cross(a, b)\n",
    "    # s = np.linalg.norm(v)\n",
    "    c = np.dot(a, b)\n",
    "    if np.isclose(c, -1.0):\n",
    "        return -np.eye(3, dtype=np.float64)\n",
    "\n",
    "    v1, v2, v3 = v\n",
    "    h = 1 / (1 + c)\n",
    "\n",
    "    Vmat = np.array([[0, -v3, v2],\n",
    "                  [v3, 0, -v1],\n",
    "                  [-v2, v1, 0]])\n",
    "\n",
    "    R = np.eye(3, dtype=np.float64) + Vmat + (Vmat.dot(Vmat) * h)\n",
    "    return R\n",
    "def axisAngleRotationMatrix(axis, theta):\n",
    "    \"\"\"\n",
    "    Return the rotation matrix associated with counterclockwise rotation about\n",
    "    the given axis by theta radians.\n",
    "    \"\"\"\n",
    "    axis = np.asarray(axis)\n",
    "    a = cos(theta / 2.0)\n",
    "    b, c, d = -axis * sin(theta / 2.0)\n",
    "    aa, bb, cc, dd = a * a, b * b, c * c, d * d\n",
    "    bc, ad, ac, ab, bd, cd = b * c, a * d, a * c, a * b, b * d, c * d\n",
    "    return np.array([[aa + bb - cc - dd, 2 * (bc + ad), 2 * (bd - ac)],\n",
    "                     [2 * (bc - ad), aa + cc - bb - dd, 2 * (cd + ab)],\n",
    "                     [2 * (bd + ac), 2 * (cd - ab), aa + dd - bb - cc]])\n",
    "# if m2 is negative, it assumes m2 has infinite mass\n",
    "# so (m1*v1+m2*v2)/(m1+m2) = m2*v2/m2 = v2 as m2 approaches infinity\n",
    "def collision(m1, v1, m2, v2, alpha):\n",
    "    vp = (1+alpha)*((m1*v1+m2*v2)/(m1+m2) if m2 > 0 else v2)\n",
    "    v1p = vp - alpha*v1\n",
    "    v2p = vp - alpha*v2\n",
    "    ## These were for testing\n",
    "    # kei = 0.5*m1*v1**2 + 0.5*m2*v2**2\n",
    "    # kef = 0.5*m1*v1p**2 + 0.5*m2*v2p**2\n",
    "    # foundAlpha = kef / kei\n",
    "    return v1p, v2p#, kei, kef, foundAlpha"
   ]
  },
  {
   "cell_type": "code",
   "execution_count": 24,
   "id": "2cf48ecf-76d9-43ca-9008-a793a0040d50",
   "metadata": {
    "tags": []
   },
   "outputs": [],
   "source": [
    "# Abstract\n",
    "class Object:\n",
    "    def __init__(self, pos=np.zeros(3)):\n",
    "        self.pos = np.array(pos, dtype=float)\n",
    "        self.vel = np.zeros(3)\n",
    "    \n",
    "    def show(self):\n",
    "        self.visual.pos.x = self.pos[0]\n",
    "        self.visual.pos.y = self.pos[1]\n",
    "        self.visual.pos.z = self.pos[2]\n",
    "        \n",
    "class Sphere(Object):\n",
    "    def __init__(self, pos=np.zeros(3), radius=1, color=vec(0.4, 0.4, 0.4), make_trail=False):\n",
    "        super().__init__(pos=pos)\n",
    "        self.radius = radius\n",
    "        self.visual = sphere(make_trail = make_trail, pos=vec(0,0,0), radius=radius, color=color)\n",
    "        self.show()\n",
    "        \n",
    "    def move(self, pos=None):\n",
    "        if np.all(pos != None):\n",
    "            self.pos = pos\n",
    "        \n",
    "    def collideSphere(self, other):\n",
    "        displacement = other.pos - self.pos\n",
    "        if np.linalg.norm(displacement) < self.radius + other.radius:\n",
    "            collisionNormal = displacement/np.linalg.norm(displacement)\n",
    "            return collisionNormal, collisionNormal*self.radius\n",
    "        return None, None\n",
    "        \n",
    "class Box(Object):\n",
    "    def __init__(self, pos=np.zeros(3), size=np.ones(3), axis=[1,0,0], angle=0, color=vec(0.4, 0.4, 0.4), showNormals=False):\n",
    "        super().__init__(pos=pos)\n",
    "        self.size = np.array(size, dtype=float)\n",
    "        self.visual = box() # make default box for now, it will get redefined in the move\n",
    "        self.visual.color = color\n",
    "        self.move(axis=axis, angle=angle, showNormals=showNormals)\n",
    "        self.show()\n",
    "        \n",
    "    def move(self, pos=None, axis=None, angle=None, showNormals=None):\n",
    "        if np.all(pos != None):\n",
    "            self.pos = pos\n",
    "        if np.all(axis != None):\n",
    "            self.axis = np.array(axis, dtype=float)\n",
    "            self.axis /= np.linalg.norm(self.axis)\n",
    "        if angle != None:\n",
    "            self.angle = angle\n",
    "        if showNormals != None:\n",
    "            self.showNormals = showNormals\n",
    "            \n",
    "        self.axisRotation = alignVectorsRotationMatrix(np.array([1,0,0]), self.axis)\n",
    "        self.angleRotation = axisAngleRotationMatrix(self.axis, self.angle)\n",
    "        self.normals = np.array([[1,0,0],[-1,0,0],[0,1,0],[0,-1,0],[0,0,1],[0,0,-1]], dtype=float)\n",
    "        for i in range(6):\n",
    "            self.normals[i] = np.dot(self.axisRotation, self.normals[i])\n",
    "            self.normals[i] = np.dot(self.angleRotation, self.normals[i])\n",
    "        if showNormals:\n",
    "            for normal in self.normals:\n",
    "                alignedDiagonal = np.dot(self.axisRotation, self.size)\n",
    "                alignedDiagonal = np.dot(self.angleRotation, alignedDiagonal)\n",
    "                shiftedPos = self.pos+alignedDiagonal/2\n",
    "                arrow(pos=vec(shiftedPos[0],shiftedPos[1],shiftedPos[2]), axis=vec(normal[0],normal[1],normal[2]))\n",
    "        \n",
    "        self.visual.axis.x = self.axis[0]\n",
    "        self.visual.axis.y = self.axis[1]\n",
    "        self.visual.axis.z = self.axis[2]\n",
    "        \n",
    "        self.visual.size.x = self.size[0]\n",
    "        self.visual.size.y = self.size[1]\n",
    "        self.visual.size.z = self.size[2]\n",
    "        \n",
    "        self.visual.rotate(self.angle)\n",
    "        \n",
    "        \n",
    "        \n",
    "    def collideSphere(self, other):\n",
    "        # the dot product is a neat way of finding minimum distance between point and plane\n",
    "        minDistances = [np.abs(np.dot(other.pos - (self.pos+self.size[int(i/2)]*self.normals[i]*(0 if i%2==1 else 1)), self.normals[i])) for i in range(6)]\n",
    "        for i in range(6):\n",
    "            if minDistances[i] < other.radius:\n",
    "                wallsToCheck = [j for j in range(6) if j != i and j != i+(1 if i%2==0 else -1)]\n",
    "                outsideWalls = False\n",
    "                for j in wallsToCheck:\n",
    "                    if minDistances[j] > self.size[int(j/2)]:\n",
    "                        # print(str(j) + \" | \" + str(minDistances))\n",
    "                        outsideWalls = True\n",
    "                if not outsideWalls:\n",
    "                    collisionPoint = other.pos - self.normals[i]*minDistances[i]\n",
    "                    return self.normals[i], collisionPoint\n",
    "        return None, None\n",
    "        \n",
    "    def update(self):\n",
    "        pass\n",
    "            \n",
    "    def show(self):\n",
    "        alignedDiagonal = np.dot(self.axisRotation, self.size)\n",
    "        alignedDiagonal = np.dot(self.angleRotation, alignedDiagonal)\n",
    "        self.pos += alignedDiagonal/2\n",
    "        super().show()\n",
    "        self.pos -= alignedDiagonal/2\n",
    "        \n",
    "        \n",
    "class Ball(Sphere):\n",
    "    def __init__(self, pos=np.zeros(3), make_trail=False):\n",
    "        super().__init__(pos=pos, radius=0.02, color=vec(1,1,1), make_trail=make_trail)\n",
    "        self.restitution = 0.8\n",
    "        self.mass = 0.0027 # This value is currently irrelevant, because we are assuming all other objects have infinite mass\n",
    "        \n",
    "    def update(self, collideables=[]):\n",
    "        self.vel += np.array([0,1,0])*G*dt\n",
    "        self.pos += self.vel*dt\n",
    "        \n",
    "        \n",
    "        \n",
    "        for obj in collideables:\n",
    "            collisionNormal, collisionPoint = obj.collideSphere(self)\n",
    "            if type(collisionNormal)!=list:\n",
    "                collisionNormal = [collisionNormal]\n",
    "                collisionPoint = [collisionPoint]\n",
    "            for i in range(len(collisionNormal)):\n",
    "                if np.all(collisionNormal[i] != None):\n",
    "                    # First get the new velocity if the collision was perfectly elastic\n",
    "                    rotMat = alignVectorsRotationMatrix(self.vel*np.array([-1,-1,-1]), collisionNormal[i])\n",
    "                    self.vel = np.linalg.norm(self.vel)*np.dot(rotMat, collisionNormal[i])\n",
    "                    \n",
    "                    # Then find how to adjust it based off of inelasticity\n",
    "                    # We do this by looking at the magnitude of the velocity projected onto the collision normal\n",
    "                    projectedVelocityMag = np.dot(self.vel, collisionNormal[i])\n",
    "                    # And then do a 1d collision equation between both objects projected velocities\n",
    "                    # Which gives us a new velocity in this 1 dimension.\n",
    "                    if hasattr(obj, \"vel\"):\n",
    "                        otherVel = np.dot(obj.vel, collisionNormal[i])\n",
    "                    else:\n",
    "                        otherVel = 0 # Stationary\n",
    "                    # we use negative projectedVelocityMag so the collision function thinks they are colliding\n",
    "                    newProjectedVelocityMag, _ = collision(self.mass, -projectedVelocityMag, -1, otherVel, self.restitution)\n",
    "                    # We take the difference in magnitude from before and after the collision\n",
    "                    collisionAdjustMag = projectedVelocityMag - newProjectedVelocityMag\n",
    "                    # Then add the difference to the new velocity along the direction of the collision normal\n",
    "                    collisionAdjust = collisionAdjustMag * collisionNormal[i]\n",
    "                    if np.dot(self.vel, collisionAdjust) > 0:\n",
    "                        self.vel -= collisionAdjust\n",
    "                    else:\n",
    "                        self.vel += collisionAdjust\n",
    "                    \n",
    "                    # Adjust position to snap to collision point\n",
    "                    self.pos = collisionPoint[i] + self.radius*collisionNormal[i]\n",
    "        if self.pos[1] < 0:\n",
    "            self.pos[1] = 0\n",
    "            self.vel[1] *= -self.restitution\n",
    "                \n",
    "        \n",
    "class Table(Box):\n",
    "    def __init__(self, pos=np.zeros(3)):\n",
    "        super().__init__(pos=pos, size=[2.743, 0.752, 1.524], color=vec(0.3, 0.3, 0.6))\n",
    "\n",
    "class Net(Box):\n",
    "    def __init__(self, pos=np.zeros(3)):\n",
    "        super().__init__(pos=pos, size=[0.005, 0.1525, 1.83], color=vec(0.7, 0.7, 0.7))\n",
    "\n",
    "class PingPongTable():\n",
    "    def __init__(self, pos=np.zeros(3)):\n",
    "        self.table = Table(pos=pos)\n",
    "        self.net = Net(pos=[pos[0]+self.table.size[0]/2,pos[1]+self.table.size[1],pos[2]-0.15])\n",
    "    def collideSphere(self, other):\n",
    "        tableNormal, tablePoint = self.table.collideSphere(other)\n",
    "        netNormal, netPoint = self.net.collideSphere(other)\n",
    "        return [tableNormal, netNormal], [tablePoint, netPoint]\n",
    "    def show(self):\n",
    "        self.table.show()\n",
    "        self.net.show()\n",
    "        \n",
    "class PingPongPaddle():\n",
    "    def __init__(self, pos=np.zeros(3)):\n",
    "        handleSize=[0.1, 0.02, 0.03]\n",
    "        paddleSize=[0.2, 0.02, 0.15]\n",
    "        self.handle = Box(pos=[pos[0], pos[1]-handleSize[1]/2, pos[2]-handleSize[2]/2], size=handleSize)\n",
    "        self.paddle = Box(pos=[pos[0]+self.handle.size[0], pos[1]-paddleSize[1]/2, pos[2]-paddleSize[2]/2], size=paddleSize)\n",
    "        self.pos = pos\n",
    "        self.vel = np.zeros(3)\n",
    "    def move(self, pos=None, axis=None, angle=None):\n",
    "        if np.all(pos != None):\n",
    "            self.pos = pos\n",
    "        self.handle.move(pos=pos, axis=axis, angle=angle)\n",
    "        paddleAdjust = np.array([self.handle.size[0], -self.paddle.size[1]/2, -self.paddle.size[2]/2])\n",
    "        self.paddle.move(pos=pos+paddleAdjust, axis=axis, angle=angle)\n",
    "    def collideSphere(self, other):\n",
    "        handleNormal, handlePoint = self.handle.collideSphere(other)\n",
    "        paddleNormal, paddlePoint = self.paddle.collideSphere(other)\n",
    "        return [handleNormal, paddleNormal], [handlePoint, paddlePoint]\n",
    "    def show(self):\n",
    "        self.handle.show()\n",
    "        self.paddle.show()"
   ]
  },
  {
   "cell_type": "markdown",
   "id": "cba38c98-e13e-418c-902d-37059f214c7e",
   "metadata": {},
   "source": [
    "## Testing Objects"
   ]
  },
  {
   "cell_type": "code",
   "execution_count": 36,
   "id": "16762bc2-6423-4bce-83cc-1037d73a95ce",
   "metadata": {
    "tags": []
   },
   "outputs": [
    {
     "data": {
      "text/html": [
       "<div id=\"glowscript\" class=\"glowscript\"></div>"
      ],
      "text/plain": [
       "<IPython.core.display.HTML object>"
      ]
     },
     "metadata": {},
     "output_type": "display_data"
    },
    {
     "data": {
      "application/javascript": [
       "if (typeof Jupyter !== \"undefined\") { window.__context = { glowscript_container: $(\"#glowscript\").removeAttr(\"id\")};}else{ element.textContent = ' ';}"
      ],
      "text/plain": [
       "<IPython.core.display.Javascript object>"
      ]
     },
     "metadata": {},
     "output_type": "display_data"
    },
    {
     "name": "stdout",
     "output_type": "stream",
     "text": [
      "Simulation took: 25.807642698287964 seconds\n"
     ]
    }
   ],
   "source": [
    "scene = canvas()\n",
    "arrow(pos=vec(0,0,0), axis=vec(1,0,0), color=vec(1,0,0))\n",
    "arrow(pos=vec(0,0,0), axis=vec(0,1,0), color=vec(0,1,0))\n",
    "arrow(pos=vec(0,0,0), axis=vec(0,0,1), color=vec(0,0,1))\n",
    "\n",
    "ball = Ball(pos = [0.2, 5, 0.4], make_trail=False)\n",
    "moveables = [ball]\n",
    "collideables = []\n",
    "\n",
    "#### Test physics configurations:\n",
    "# box1 = Box(pos = [0,0,0], size=[4, 0.4, 4], axis=[-1,1,0], angle=0, showNormals=True)\n",
    "# box2 = Box(pos = [0,0,0], size=[4, 0.4, 4], axis=[1,1,0*-0.05], angle=2*3.14159/180, showNormals=False, color=vec(0.6, 0.4, 0.4))\n",
    "# collideables.append(box1)\n",
    "# collideables.append(box2)\n",
    "\n",
    "# ball.vel[0]=5.0\n",
    "# ball.vel[2]=0.07\n",
    "# table = PingPongTable()\n",
    "# collideables.append(table)\n",
    "# collideables.append(Box(pos=[-1,0,0], size=[1,6,3]))\n",
    "# collideables.append(Box(pos=[table.table.size[0],0,0], size=[1,6,3]))\n",
    "\n",
    "paddle = PingPongPaddle(pos=[0,2,0.4])\n",
    "collideables.append(paddle)\n",
    "moveables.append(paddle)\n",
    "\n",
    "moveablesStates = []\n",
    "for _ in moveables:\n",
    "    moveablesStates.append([])\n",
    "t = 0\n",
    "startTime = time.time()\n",
    "while t < 16/speedMultiplier:\n",
    "    # startTime = time.time()\n",
    "    for _ in range(resolutionMultiplier):\n",
    "        paddle.vel[1] = sin(t*20)*2\n",
    "        ball.update(collideables=collideables)\n",
    "        paddle.move(pos=paddle.pos+paddle.vel*dt)\n",
    "        t += dt\n",
    "    # endTime = time.time()\n",
    "    if preSimulateThenPlayback:\n",
    "        for i in range(len(moveables)):\n",
    "            moveablesStates[i].append(np.copy(moveables[i].pos))\n",
    "    if not preSimulateThenPlayback:\n",
    "        for moveable in moveables:\n",
    "            moveable.show()\n",
    "        rate(fps)\n",
    "endTime = time.time()\n",
    "if preSimulateThenPlayback:\n",
    "    print(f\"Simulation took: {endTime - startTime} seconds\")\n",
    "    for t in range(len(moveablesStates[0])):\n",
    "        for i in range(len(moveablesStates)):\n",
    "            moveables[i].move(pos=moveablesStates[i][t])\n",
    "            moveables[i].show()\n",
    "        rate(fps)\n",
    "else:\n",
    "    print(f\"Simulation was expected to take: {t} seconds and it took: {endTime - startTime} seconds\")\n"
   ]
  },
  {
   "cell_type": "markdown",
   "id": "6cbfa0a5-97b1-4a91-bdad-d00cbc57293b",
   "metadata": {},
   "source": [
    "# Evaluation"
   ]
  },
  {
   "cell_type": "markdown",
   "id": "d996d8ec-e434-4a14-acaf-368f64b9918a",
   "metadata": {},
   "source": [
    "# Conclusions and Future Work\n"
   ]
  },
  {
   "cell_type": "markdown",
   "id": "852000b2-558d-4d6c-b3dd-89b9bd7e7287",
   "metadata": {},
   "source": [
    "# References"
   ]
  },
  {
   "cell_type": "markdown",
   "id": "532392f3-4a81-41af-b831-4a58f3d3b597",
   "metadata": {},
   "source": [
    "[Phet collision sim](https://phet.colorado.edu/sims/html/collision-lab/latest/collision-lab_all.html)\n",
    "\n",
    "[Physics Libre Text on CoM Collisions](https://phys.libretexts.org/Bookshelves/University_Physics/Mechanics_and_Relativity_(Idema)/04%3A_Momentum/4.08%3A_Elastic_Collisions_in_the_COM_Frame)"
   ]
  },
  {
   "cell_type": "code",
   "execution_count": null,
   "id": "3a0c4a22-9298-4bf5-9ff8-845eb3d707cc",
   "metadata": {},
   "outputs": [],
   "source": []
  }
 ],
 "metadata": {
  "kernelspec": {
   "display_name": "Python 3 (ipykernel)",
   "language": "python",
   "name": "python3"
  },
  "language_info": {
   "codemirror_mode": {
    "name": "ipython",
    "version": 3
   },
   "file_extension": ".py",
   "mimetype": "text/x-python",
   "name": "python",
   "nbconvert_exporter": "python",
   "pygments_lexer": "ipython3",
   "version": "3.10.16"
  }
 },
 "nbformat": 4,
 "nbformat_minor": 5
}
