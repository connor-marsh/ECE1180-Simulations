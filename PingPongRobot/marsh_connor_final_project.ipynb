{
 "cells": [
  {
   "cell_type": "markdown",
   "id": "469ed1df-b6b3-4644-8dc6-484193dc6fb4",
   "metadata": {},
   "source": [
    "# Imports and Globals"
   ]
  },
  {
   "cell_type": "code",
   "execution_count": 1,
   "id": "87f8bcc3-b3ae-41f0-998a-32bc0e3f45d9",
   "metadata": {
    "tags": []
   },
   "outputs": [
    {
     "data": {
      "text/html": [
       "<div id=\"glowscript\" class=\"glowscript\"></div>"
      ],
      "text/plain": [
       "<IPython.core.display.HTML object>"
      ]
     },
     "metadata": {},
     "output_type": "display_data"
    },
    {
     "data": {
      "application/javascript": [
       "if (typeof Jupyter !== \"undefined\") { window.__context = { glowscript_container: $(\"#glowscript\").removeAttr(\"id\")};}else{ element.textContent = ' ';}"
      ],
      "text/plain": [
       "<IPython.core.display.Javascript object>"
      ]
     },
     "metadata": {},
     "output_type": "display_data"
    }
   ],
   "source": [
    "from vpython import *\n",
    "import numpy as np\n",
    "G = -9.8\n",
    "fps = 200\n",
    "dt = 1/fps"
   ]
  },
  {
   "cell_type": "markdown",
   "id": "018d8eed-84bb-4d1d-aa43-d5bf587f739d",
   "metadata": {},
   "source": [
    "# Initial setup"
   ]
  },
  {
   "cell_type": "code",
   "execution_count": 2,
   "id": "52e2f4ec-7cc5-45c6-9200-0d807d4a3d4a",
   "metadata": {
    "tags": []
   },
   "outputs": [
    {
     "data": {
      "text/html": [
       "<div id=\"glowscript\" class=\"glowscript\"></div>"
      ],
      "text/plain": [
       "<IPython.core.display.HTML object>"
      ]
     },
     "metadata": {},
     "output_type": "display_data"
    },
    {
     "data": {
      "application/javascript": [
       "if (typeof Jupyter !== \"undefined\") { window.__context = { glowscript_container: $(\"#glowscript\").removeAttr(\"id\")};}else{ element.textContent = ' ';}"
      ],
      "text/plain": [
       "<IPython.core.display.Javascript object>"
      ]
     },
     "metadata": {},
     "output_type": "display_data"
    },
    {
     "data": {
      "application/javascript": [
       "if (typeof Jupyter !== \"undefined\") {require.undef(\"nbextensions/vpython_libraries/glow.min\");}else{element.textContent = ' ';}"
      ],
      "text/plain": [
       "<IPython.core.display.Javascript object>"
      ]
     },
     "metadata": {},
     "output_type": "display_data"
    },
    {
     "data": {
      "application/javascript": [
       "if (typeof Jupyter !== \"undefined\") {require.undef(\"nbextensions/vpython_libraries/glowcomm\");}else{element.textContent = ' ';}"
      ],
      "text/plain": [
       "<IPython.core.display.Javascript object>"
      ]
     },
     "metadata": {},
     "output_type": "display_data"
    },
    {
     "data": {
      "application/javascript": [
       "if (typeof Jupyter !== \"undefined\") {require.undef(\"nbextensions/vpython_libraries/jquery-ui.custom.min\");}else{element.textContent = ' ';}"
      ],
      "text/plain": [
       "<IPython.core.display.Javascript object>"
      ]
     },
     "metadata": {},
     "output_type": "display_data"
    },
    {
     "data": {
      "application/javascript": [
       "if (typeof Jupyter !== \"undefined\") {require([\"nbextensions/vpython_libraries/glow.min\"], function(){console.log(\"GLOW LOADED\");});}else{element.textContent = ' ';}"
      ],
      "text/plain": [
       "<IPython.core.display.Javascript object>"
      ]
     },
     "metadata": {},
     "output_type": "display_data"
    },
    {
     "data": {
      "application/javascript": [
       "if (typeof Jupyter !== \"undefined\") {require([\"nbextensions/vpython_libraries/glowcomm\"], function(){console.log(\"GLOWCOMM LOADED\");});}else{element.textContent = ' ';}"
      ],
      "text/plain": [
       "<IPython.core.display.Javascript object>"
      ]
     },
     "metadata": {},
     "output_type": "display_data"
    },
    {
     "data": {
      "application/javascript": [
       "if (typeof Jupyter !== \"undefined\") {require([\"nbextensions/vpython_libraries/jquery-ui.custom.min\"], function(){console.log(\"JQUERY LOADED\");});}else{element.textContent = ' ';}"
      ],
      "text/plain": [
       "<IPython.core.display.Javascript object>"
      ]
     },
     "metadata": {},
     "output_type": "display_data"
    }
   ],
   "source": [
    "scene = canvas()\n",
    "\n",
    "mass = 0.0027\n",
    "radius = 0.02\n",
    "restitution = 0.8\n",
    "\n",
    "tableLength = 2.743\n",
    "tableWidth = 1.524\n",
    "tableHeight = 0.752\n",
    "tableSize = vec(2.743, 0.752, 1.524)\n",
    "\n",
    "origin = sphere(pos=vec(0,0,0), radius=0.1, color=vec(1,0,0))\n",
    "table = box(pos=tableSize/2, size=tableSize, color=vec(0.3, 0.3, 0.6))\n",
    "ball = sphere(pos=tableSize/2+vec(0,tableSize.y/2+1,0), radius=radius, color=vec(1,1,1))\n",
    "ball.vel = vec(0,0,0)\n",
    "\n",
    "t = 0\n",
    "endTime = 1\n",
    "while t < endTime:\n",
    "    \n",
    "    gForce = G*mass\n",
    "    netForce = gForce\n",
    "    acc = netForce/mass\n",
    "    ball.vel.y += acc * dt\n",
    "    ball.pos += ball.vel * dt\n",
    "    \n",
    "    if ball.pos.y - ball.radius < table.size.y:\n",
    "        ball.pos.y = table.size.y + ball.radius\n",
    "        ball.vel.y *= -restitution\n",
    "    \n",
    "    t += dt\n",
    "    rate(fps)"
   ]
  },
  {
   "cell_type": "markdown",
   "id": "422faa3b-06f8-4906-8c87-58c1d284e062",
   "metadata": {},
   "source": [
    "# Class Definitions"
   ]
  },
  {
   "cell_type": "code",
   "execution_count": 3,
   "id": "0ad1e93c-b605-4ea7-8a05-94b3c662a656",
   "metadata": {
    "tags": []
   },
   "outputs": [],
   "source": [
    "def alignVectors(a, b):\n",
    "    b = b / np.linalg.norm(b) # normalize a\n",
    "    a = a / np.linalg.norm(a) # normalize b\n",
    "    v = np.cross(a, b)\n",
    "    # s = np.linalg.norm(v)\n",
    "    c = np.dot(a, b)\n",
    "    if np.isclose(c, -1.0):\n",
    "        return -np.eye(3, dtype=np.float64)\n",
    "\n",
    "    v1, v2, v3 = v\n",
    "    h = 1 / (1 + c)\n",
    "\n",
    "    Vmat = np.array([[0, -v3, v2],\n",
    "                  [v3, 0, -v1],\n",
    "                  [-v2, v1, 0]])\n",
    "\n",
    "    R = np.eye(3, dtype=np.float64) + Vmat + (Vmat.dot(Vmat) * h)\n",
    "    return R"
   ]
  },
  {
   "cell_type": "code",
   "execution_count": 4,
   "id": "2cf48ecf-76d9-43ca-9008-a793a0040d50",
   "metadata": {
    "tags": []
   },
   "outputs": [],
   "source": [
    "# Abstract\n",
    "class Object:\n",
    "    def __init__(self, pos=np.zeros(3)):\n",
    "        self.pos = np.array(pos, dtype=float)\n",
    "        self.vel = np.zeros(3)\n",
    "    \n",
    "    def show(self):\n",
    "        self.visual.pos.x = self.pos[0]\n",
    "        self.visual.pos.y = self.pos[1]\n",
    "        self.visual.pos.z = self.pos[2]\n",
    "        \n",
    "class Sphere(Object):\n",
    "    def __init__(self, pos=np.zeros(3), radius=1, color=vec(0.4, 0.4, 0.4)):\n",
    "        super().__init__(pos=pos)\n",
    "        self.radius = radius\n",
    "        self.visual = sphere(make_trail = False, pos=vec(0,0,0), radius=radius, color=color)\n",
    "        self.show()\n",
    "        \n",
    "    def collideSphere(self, other):\n",
    "        displacement = other.pos - self.pos\n",
    "        if np.linalg.norm(displacement) < self.radius + other.radius:\n",
    "            collisionNormal = displacement/np.linalg.norm(displacement)\n",
    "            return collisionNormal, collisionNormal*self.radius\n",
    "        return None, None\n",
    "        \n",
    "class Box(Object):\n",
    "    def __init__(self, pos=np.zeros(3), size=np.ones(3), axis=[1,0,0], angle=0, color=vec(0.4, 0.4, 0.4)):\n",
    "        super().__init__(pos=pos)\n",
    "        self.size = np.array(size, dtype=float)\n",
    "        self.axis = np.array(axis, dtype=float)\n",
    "        self.axis /= np.linalg.norm(self.axis)\n",
    "        self.rotation = alignVectors(np.array([1,0,0]), self.axis)\n",
    "        self.normals = np.array([[1,0,0],[-1,0,0],[0,1,0],[0,-1,0],[0,0,1],[0,0,-1]])\n",
    "        for i in range(6):\n",
    "            self.normals[i] = np.dot(self.rotation, self.normals[i])\n",
    "        self.angle = angle\n",
    "        \n",
    "        self.visual = box(pos=vec(0,0,0), size=vec(size[0],size[1],size[2]), axis=vec(axis[0],axis[1],axis[2]), color=color)\n",
    "        self.visual.rotate(angle)\n",
    "        self.show()\n",
    "        \n",
    "    def collideSphere(self, other):\n",
    "        # the dot product is a neat way of finding minimum distance between point and plane\n",
    "        minDistances = [np.abs(np.dot(other.pos - (self.pos+self.size[int(i/2)]*self.normals[i]*(0 if i%2==1 else 1)), self.normals[i])) for i in range(6)]\n",
    "        for i in range(6):\n",
    "            if minDistances[i] < other.radius:\n",
    "                wallsToCheck = [j for j in range(6) if j != i and j != i+(1 if i%2==0 else -1)]\n",
    "                outsideWalls = False\n",
    "                for j in wallsToCheck:\n",
    "                    if minDistances[j] > self.size[int(j/2)]:\n",
    "                        # print(str(j) + \" | \" + str(minDistances))\n",
    "                        outsideWalls = True\n",
    "                if not outsideWalls:\n",
    "                    collisionPoint = other.pos - self.normals[i]*minDistances[i]\n",
    "                    return self.normals[i], collisionPoint\n",
    "        return None, None\n",
    "        \n",
    "    def update(self):\n",
    "        pass\n",
    "    \n",
    "    def show(self):\n",
    "        alignedDiagonal = np.dot(self.rotation, self.size)\n",
    "        self.pos += alignedDiagonal/2\n",
    "        super().show()\n",
    "        self.pos -= alignedDiagonal/2\n",
    "        \n",
    "        \n",
    "class Ball(Sphere):\n",
    "    def __init__(self, pos=np.zeros(3)):\n",
    "        super().__init__(pos=pos, radius=0.02, color=vec(1,1,1))\n",
    "        self.restitution = 0.8\n",
    "        \n",
    "    def update(self, collideables=[]):\n",
    "        self.vel += np.array([0,1,0])*G*dt\n",
    "        self.pos += self.vel*dt\n",
    "        self.show()\n",
    "        \n",
    "        for obj in collideables:\n",
    "            collisionNormal, collisionPoint = obj.collideSphere(self)\n",
    "            if np.all(collisionNormal != None):\n",
    "                self.vel = np.linalg.norm(self.vel)*self.restitution*collisionNormal\n",
    "                self.pos = collisionPoint + self.radius*collisionNormal\n",
    "                \n",
    "        if self.pos[1] < 0:\n",
    "            self.pos[1] = 0\n",
    "            self.vel[1] *= -self.restitution\n",
    "                \n",
    "        \n",
    "class Table(Box):\n",
    "    def __init__(self, pos=np.zeros(3), radius=1):\n",
    "        super().__init__(pos=pos, size=[2.743, 0.752, 1.524], color=vec(0.3, 0.3, 0.6))"
   ]
  },
  {
   "cell_type": "markdown",
   "id": "cba38c98-e13e-418c-902d-37059f214c7e",
   "metadata": {},
   "source": [
    "# Testing Objects"
   ]
  },
  {
   "cell_type": "code",
   "execution_count": 6,
   "id": "16762bc2-6423-4bce-83cc-1037d73a95ce",
   "metadata": {
    "tags": []
   },
   "outputs": [
    {
     "data": {
      "text/html": [
       "<div id=\"glowscript\" class=\"glowscript\"></div>"
      ],
      "text/plain": [
       "<IPython.core.display.HTML object>"
      ]
     },
     "metadata": {},
     "output_type": "display_data"
    },
    {
     "data": {
      "application/javascript": [
       "if (typeof Jupyter !== \"undefined\") { window.__context = { glowscript_container: $(\"#glowscript\").removeAttr(\"id\")};}else{ element.textContent = ' ';}"
      ],
      "text/plain": [
       "<IPython.core.display.Javascript object>"
      ]
     },
     "metadata": {},
     "output_type": "display_data"
    },
    {
     "ename": "KeyboardInterrupt",
     "evalue": "",
     "output_type": "error",
     "traceback": [
      "\u001b[1;31m---------------------------------------------------------------------------\u001b[0m",
      "\u001b[1;31mKeyboardInterrupt\u001b[0m                         Traceback (most recent call last)",
      "Cell \u001b[1;32mIn[6], line 17\u001b[0m\n\u001b[0;32m     14\u001b[0m ball\u001b[38;5;241m.\u001b[39mupdate(collideables\u001b[38;5;241m=\u001b[39m[table])\n\u001b[0;32m     16\u001b[0m t \u001b[38;5;241m+\u001b[39m\u001b[38;5;241m=\u001b[39m dt\n\u001b[1;32m---> 17\u001b[0m \u001b[43mrate\u001b[49m\u001b[43m(\u001b[49m\u001b[43mfps\u001b[49m\u001b[43m)\u001b[49m\n",
      "File \u001b[1;32m~\\anaconda3\\envs\\ece1180\\lib\\site-packages\\vpython\\rate_control.py:266\u001b[0m, in \u001b[0;36m_RateKeeper2.__call__\u001b[1;34m(self, N)\u001b[0m\n\u001b[0;32m    264\u001b[0m \u001b[38;5;28mself\u001b[39m\u001b[38;5;241m.\u001b[39mrval \u001b[38;5;241m=\u001b[39m N\n\u001b[0;32m    265\u001b[0m \u001b[38;5;28;01mif\u001b[39;00m \u001b[38;5;28mself\u001b[39m\u001b[38;5;241m.\u001b[39mrval \u001b[38;5;241m<\u001b[39m \u001b[38;5;241m1\u001b[39m: \u001b[38;5;28;01mraise\u001b[39;00m \u001b[38;5;167;01mValueError\u001b[39;00m(\u001b[38;5;124m\"\u001b[39m\u001b[38;5;124mrate value must be greater than or equal to 1\u001b[39m\u001b[38;5;124m\"\u001b[39m)\n\u001b[1;32m--> 266\u001b[0m \u001b[38;5;28;43msuper\u001b[39;49m\u001b[43m(\u001b[49m\u001b[43m_RateKeeper2\u001b[49m\u001b[43m,\u001b[49m\u001b[43m \u001b[49m\u001b[38;5;28;43mself\u001b[39;49m\u001b[43m)\u001b[49m\u001b[38;5;241;43m.\u001b[39;49m\u001b[38;5;21;43m__call__\u001b[39;49m\u001b[43m(\u001b[49m\u001b[38;5;28;43mself\u001b[39;49m\u001b[38;5;241;43m.\u001b[39;49m\u001b[43mrval\u001b[49m\u001b[43m)\u001b[49m\n",
      "File \u001b[1;32m~\\anaconda3\\envs\\ece1180\\lib\\site-packages\\vpython\\rate_control.py:192\u001b[0m, in \u001b[0;36mRateKeeper.__call__\u001b[1;34m(self, maxRate)\u001b[0m\n\u001b[0;32m    190\u001b[0m \u001b[38;5;28;01mif\u001b[39;00m \u001b[38;5;28mself\u001b[39m\u001b[38;5;241m.\u001b[39mcalls \u001b[38;5;241m>\u001b[39m \u001b[38;5;241m0\u001b[39m: \u001b[38;5;66;03m# if there were some calls to rate after the last render\u001b[39;00m\n\u001b[0;32m    191\u001b[0m     dt \u001b[38;5;241m=\u001b[39m \u001b[38;5;28mself\u001b[39m\u001b[38;5;241m.\u001b[39mlastSleep \u001b[38;5;241m+\u001b[39m \u001b[38;5;28mself\u001b[39m\u001b[38;5;241m.\u001b[39mcalls\u001b[38;5;241m*\u001b[39m(\u001b[38;5;28mself\u001b[39m\u001b[38;5;241m.\u001b[39muserTime \u001b[38;5;241m+\u001b[39m \u001b[38;5;28mself\u001b[39m\u001b[38;5;241m.\u001b[39mcallTime \u001b[38;5;241m+\u001b[39m \u001b[38;5;28mself\u001b[39m\u001b[38;5;241m.\u001b[39mdelay) \u001b[38;5;241m-\u001b[39m _clock()\n\u001b[1;32m--> 192\u001b[0m     \u001b[43m_sleep\u001b[49m\u001b[43m(\u001b[49m\u001b[43mdt\u001b[49m\u001b[43m)\u001b[49m\n\u001b[0;32m    193\u001b[0m \u001b[38;5;28mself\u001b[39m\u001b[38;5;241m.\u001b[39mbuildStrategy(maxRate)\n\u001b[0;32m    194\u001b[0m nr \u001b[38;5;241m=\u001b[39m \u001b[38;5;28mself\u001b[39m\u001b[38;5;241m.\u001b[39mwhenToRender[\u001b[38;5;241m0\u001b[39m]\n",
      "File \u001b[1;32m~\\anaconda3\\envs\\ece1180\\lib\\site-packages\\vpython\\rate_control.py:62\u001b[0m, in \u001b[0;36m_sleep\u001b[1;34m(dt)\u001b[0m\n\u001b[0;32m     60\u001b[0m dtsleep \u001b[38;5;241m=\u001b[39m nticks\u001b[38;5;241m*\u001b[39m_tick\n\u001b[0;32m     61\u001b[0m t \u001b[38;5;241m=\u001b[39m _clock()\n\u001b[1;32m---> 62\u001b[0m \u001b[43mtime\u001b[49m\u001b[38;5;241;43m.\u001b[39;49m\u001b[43msleep\u001b[49m\u001b[43m(\u001b[49m\u001b[43mdtsleep\u001b[49m\u001b[43m)\u001b[49m\n\u001b[0;32m     63\u001b[0m t \u001b[38;5;241m=\u001b[39m _clock()\u001b[38;5;241m-\u001b[39mt\n\u001b[0;32m     64\u001b[0m dt \u001b[38;5;241m-\u001b[39m\u001b[38;5;241m=\u001b[39m t\n",
      "\u001b[1;31mKeyboardInterrupt\u001b[0m: "
     ]
    }
   ],
   "source": [
    "scene = canvas()\n",
    "arrow(pos=vec(0,0,0), axis=vec(1,0,0), color=vec(1,0,0))\n",
    "arrow(pos=vec(0,0,0), axis=vec(0,1,0), color=vec(0,1,0))\n",
    "arrow(pos=vec(0,0,0), axis=vec(0,0,1), color=vec(0,0,1))\n",
    "# rah = Sphere(radius=1, pos=[0.5, 0, 0.5])\n",
    "ball = Ball(pos=[0.5, 2, 1])\n",
    "# table = Table(pos =[0,0,0.2])\n",
    "table = Box(size=[4, 0.4, 1], axis=[0,1,0], angle=0)\n",
    "# haha = np.dot(table.rotation, np.array([0,1,0]))\n",
    "# arrow(pos=vec(0,0,0), axis=vec(haha[0],haha[1],haha[2]))\n",
    "\n",
    "t = 0\n",
    "while t < 5:\n",
    "    ball.update(collideables=[table])\n",
    "    \n",
    "    t += dt\n",
    "    rate(fps)"
   ]
  },
  {
   "cell_type": "code",
   "execution_count": null,
   "id": "707ada5a-cd3a-414a-906e-38c420ae2ecf",
   "metadata": {},
   "outputs": [],
   "source": []
  }
 ],
 "metadata": {
  "kernelspec": {
   "display_name": "Python 3 (ipykernel)",
   "language": "python",
   "name": "python3"
  },
  "language_info": {
   "codemirror_mode": {
    "name": "ipython",
    "version": 3
   },
   "file_extension": ".py",
   "mimetype": "text/x-python",
   "name": "python",
   "nbconvert_exporter": "python",
   "pygments_lexer": "ipython3",
   "version": "3.10.16"
  }
 },
 "nbformat": 4,
 "nbformat_minor": 5
}
