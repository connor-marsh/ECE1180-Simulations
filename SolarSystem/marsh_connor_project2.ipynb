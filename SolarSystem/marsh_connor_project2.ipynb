{
 "cells": [
  {
   "cell_type": "markdown",
   "id": "1aeca4a2-ddfc-4d80-9137-c648bcee7881",
   "metadata": {},
   "source": [
    "# Project 2"
   ]
  },
  {
   "cell_type": "markdown",
   "id": "941a3166-faa0-4bde-9e3e-28f0341b0102",
   "metadata": {},
   "source": [
    "## Quick Setup Instructions For Reader"
   ]
  },
  {
   "cell_type": "markdown",
   "id": "e35dc0ec-8496-4561-bb6f-db387bb0edc8",
   "metadata": {},
   "source": [
    "In the verification section, I save data to files to save time repeatedly doing API calls or repeatedly doing simulation runs. Attached to my submission for this assignment are a whole bunch of those files.  \n",
    "The file format is: `fileName = realPosition/calculatedPosition + startingMonth + startingDay + startingYear + numBodies + numMonths`, all concatenated together. The calculatedPosition also has deltaT at the end. This way whenever you change the variables you get a new file for it, or load in the file if it already exists.\n",
    "\n",
    "One slight quirk is the numBodies term, which doesn't actually check which bodies their are. I'm just assuming that if their are 11 bodies then thats the sun + every planet + pluto + earths moon. And if numBodies is 5 then thats the sun + inner planets, and then something in between that I haven't really cared to deal with cause it's not a big deal."
   ]
  },
  {
   "cell_type": "markdown",
   "id": "a22d7ebe-3b70-4fc0-83dd-0215fc971581",
   "metadata": {},
   "source": [
    "## Imports"
   ]
  },
  {
   "cell_type": "code",
   "execution_count": 1,
   "id": "32043148-023b-4fbd-81ff-39cbd1ed9e45",
   "metadata": {},
   "outputs": [
    {
     "data": {
      "text/html": [
       "<div id=\"glowscript\" class=\"glowscript\"></div>"
      ],
      "text/plain": [
       "<IPython.core.display.HTML object>"
      ]
     },
     "metadata": {},
     "output_type": "display_data"
    },
    {
     "data": {
      "application/javascript": [
       "if (typeof Jupyter !== \"undefined\") { window.__context = { glowscript_container: $(\"#glowscript\").removeAttr(\"id\")};}else{ element.textContent = ' ';}"
      ],
      "text/plain": [
       "<IPython.core.display.Javascript object>"
      ]
     },
     "metadata": {},
     "output_type": "display_data"
    },
    {
     "data": {
      "text/html": [
       "<div id=\"glowscript\" class=\"glowscript\"></div>"
      ],
      "text/plain": [
       "<IPython.core.display.HTML object>"
      ]
     },
     "metadata": {},
     "output_type": "display_data"
    },
    {
     "data": {
      "application/javascript": [
       "if (typeof Jupyter !== \"undefined\") { window.__context = { glowscript_container: $(\"#glowscript\").removeAttr(\"id\")};}else{ element.textContent = ' ';}"
      ],
      "text/plain": [
       "<IPython.core.display.Javascript object>"
      ]
     },
     "metadata": {},
     "output_type": "display_data"
    },
    {
     "data": {
      "application/javascript": [
       "if (typeof Jupyter !== \"undefined\") {require.undef(\"nbextensions/vpython_libraries/glow.min\");}else{element.textContent = ' ';}"
      ],
      "text/plain": [
       "<IPython.core.display.Javascript object>"
      ]
     },
     "metadata": {},
     "output_type": "display_data"
    },
    {
     "data": {
      "application/javascript": [
       "if (typeof Jupyter !== \"undefined\") {require.undef(\"nbextensions/vpython_libraries/glowcomm\");}else{element.textContent = ' ';}"
      ],
      "text/plain": [
       "<IPython.core.display.Javascript object>"
      ]
     },
     "metadata": {},
     "output_type": "display_data"
    },
    {
     "data": {
      "application/javascript": [
       "if (typeof Jupyter !== \"undefined\") {require.undef(\"nbextensions/vpython_libraries/jquery-ui.custom.min\");}else{element.textContent = ' ';}"
      ],
      "text/plain": [
       "<IPython.core.display.Javascript object>"
      ]
     },
     "metadata": {},
     "output_type": "display_data"
    },
    {
     "data": {
      "application/javascript": [
       "if (typeof Jupyter !== \"undefined\") {require([\"nbextensions/vpython_libraries/glow.min\"], function(){console.log(\"GLOW LOADED\");});}else{element.textContent = ' ';}"
      ],
      "text/plain": [
       "<IPython.core.display.Javascript object>"
      ]
     },
     "metadata": {},
     "output_type": "display_data"
    },
    {
     "data": {
      "application/javascript": [
       "if (typeof Jupyter !== \"undefined\") {require([\"nbextensions/vpython_libraries/glowcomm\"], function(){console.log(\"GLOWCOMM LOADED\");});}else{element.textContent = ' ';}"
      ],
      "text/plain": [
       "<IPython.core.display.Javascript object>"
      ]
     },
     "metadata": {},
     "output_type": "display_data"
    },
    {
     "data": {
      "application/javascript": [
       "if (typeof Jupyter !== \"undefined\") {require([\"nbextensions/vpython_libraries/jquery-ui.custom.min\"], function(){console.log(\"JQUERY LOADED\");});}else{element.textContent = ' ';}"
      ],
      "text/plain": [
       "<IPython.core.display.Javascript object>"
      ]
     },
     "metadata": {},
     "output_type": "display_data"
    }
   ],
   "source": [
    "from vpython import *\n",
    "import numpy as np\n",
    "import matplotlib.pyplot as pyplt\n",
    "import matplotlib as plt\n",
    "import json\n",
    "import base64\n",
    "import requests\n",
    "import timeit\n",
    "import os\n",
    "G = 6.67e-11\n",
    "scene = canvas()\n",
    "sphere()"
   ]
  },
  {
   "cell_type": "markdown",
   "id": "d3d55841-8275-46f3-a438-ce5beaaf35ac",
   "metadata": {},
   "source": [
    "## Newton's Cannonball\n",
    "For these simulations we will use the real mass and radius of the earth in SI units, and we will use a cannonball that weights 10kg, and it's radius will be whatever value makes it visible in the simulation, since it's radius is not relevant to any of the calculations."
   ]
  },
  {
   "cell_type": "markdown",
   "id": "c919621f-b2e6-44f3-89dd-4b6fdab8b2d7",
   "metadata": {},
   "source": [
    "### Orbital Velocity"
   ]
  },
  {
   "cell_type": "markdown",
   "id": "c2e25fd3-5480-46ac-8f5d-cd6a1a74fdf1",
   "metadata": {},
   "source": [
    "#### Setup\n",
    "The orbital velocity of an object depends on the radius of its orbit, and the mass of the object its orbiting.  \n",
    "The formula for calculating this is $\\sqrt{\\frac{GM}{R}}$ My source: ([Source](https://www.geeksforgeeks.org/orbital-velocity-formula/))  \n",
    "So for example, the earth orbits the moon at around 3683 kph which is 1023 m/s. The distance between the moons center and the earths center is 384,400,400 meters, and the mass of the earth 5.9722e+24kg. So doing that calculation below we get:"
   ]
  },
  {
   "cell_type": "code",
   "execution_count": 2,
   "id": "c5b249ea-f098-4b49-bac7-00bd0061b6c6",
   "metadata": {
    "tags": []
   },
   "outputs": [
    {
     "data": {
      "text/plain": [
       "1017.9780156637028"
      ]
     },
     "execution_count": 2,
     "metadata": {},
     "output_type": "execute_result"
    }
   ],
   "source": [
    "sqrt(G*5.9722e+24/(384400000))"
   ]
  },
  {
   "cell_type": "markdown",
   "id": "0f57f7bd-834c-444e-a011-ecbdbb89e040",
   "metadata": {},
   "source": [
    "Which is around the correct value, the error is because of the moons orbit not being perfectly circular so at different points in the orbit its speed and radius change a bit.\n",
    "So for our newton's cannonball orbiting simulation, we are going to launch the cannonball from the height of Mt. Everest, which is 8849 meters. It's orbiting radius will be the radius of the earth (6.38 million meters) + the height of everest.  \n",
    "So we should see it orbit with an initial velocity of around:"
   ]
  },
  {
   "cell_type": "code",
   "execution_count": 3,
   "id": "538ce2b0-6fbf-4c6f-9033-59adf8d12fe4",
   "metadata": {
    "tags": []
   },
   "outputs": [
    {
     "data": {
      "text/plain": [
       "7896.211577829684"
      ]
     },
     "execution_count": 3,
     "metadata": {},
     "output_type": "execute_result"
    }
   ],
   "source": [
    "sqrt(G*5.9722e+24/(6.38e+6+8849))"
   ]
  },
  {
   "cell_type": "markdown",
   "id": "02fa6f43-125b-4c2d-8d15-304e2a8ccfa4",
   "metadata": {},
   "source": [
    "7896.2 meters per second!"
   ]
  },
  {
   "cell_type": "markdown",
   "id": "3c821c9c-45fd-4507-b579-71772206cd4e",
   "metadata": {},
   "source": [
    "Here we run the simulation 3 times, once with initial velocity of 8500, once with initial velocity of 7500, and then finally with the calculated value of 7896 (all m/s).\n",
    "The camera positioning is off so make sure to just CTRL+Drag to rotate so that you can see the orbit properly.  \n",
    "Notice that in the first run the ball orbits but isn't spherical, in the second run the ball dips inside the earth, and then on the run with the calculated value the ball orbits perfectly in a circle just above the earth's surface.  \n",
    "(Note that since the height of Everest is so small compared to the Earth's radius, it will look like the ball is sitting right on the earth, when in reality is around 8849 meters above it)"
   ]
  },
  {
   "cell_type": "markdown",
   "id": "3d161e14-1652-487c-9044-5e464e9c912d",
   "metadata": {},
   "source": [
    "#### Code"
   ]
  },
  {
   "cell_type": "code",
   "execution_count": 4,
   "id": "7e184d27-b941-4068-9137-62d49127b1b8",
   "metadata": {
    "tags": []
   },
   "outputs": [
    {
     "data": {
      "text/html": [
       "<div id=\"glowscript\" class=\"glowscript\"></div>"
      ],
      "text/plain": [
       "<IPython.core.display.HTML object>"
      ]
     },
     "metadata": {},
     "output_type": "display_data"
    },
    {
     "data": {
      "application/javascript": [
       "if (typeof Jupyter !== \"undefined\") { window.__context = { glowscript_container: $(\"#glowscript\").removeAttr(\"id\")};}else{ element.textContent = ' ';}"
      ],
      "text/plain": [
       "<IPython.core.display.Javascript object>"
      ]
     },
     "metadata": {},
     "output_type": "display_data"
    },
    {
     "name": "stdout",
     "output_type": "stream",
     "text": [
      "Running with initial velocity of 8500 meters per second\n",
      "Running with initial velocity of 7500 meters per second\n",
      "Running with the calculated initial velocity of 7896 meters per second\n"
     ]
    }
   ],
   "source": [
    "scene = canvas()\n",
    "\n",
    "#setup notes for later\n",
    "#IV=11150 + deltaT=1 + loopCount=10000 returns but IV=11200 + deltaT=1 + loopCount=10000 doesnt\n",
    "#IV=11150 + deltaT=10 + loopCount=1000 returns and collides but IV=11200 + deltaT=10 + loopCount=1000 returns but doesnt collide\n",
    "# both these setups run for 100k seconds or ~= 1.15 days in simulation time\n",
    "\n",
    "initialElevation = 8849\n",
    "initialVelocity = vector(8500, 0, 0)\n",
    "\n",
    "earth = sphere(pos=vector(0,0,0), radius=6.38e+6, color=color.green)\n",
    "earth.velocity = vector(0,0,0)\n",
    "earth.acceleration = vector(0,0,0)\n",
    "earth.Radius=6.38e+6\n",
    "earth.Mass = 5.9722e+24\n",
    "\n",
    "ball = sphere(pos=vector(0,earth.radius+initialElevation,0), radius=500000, color=color.red, make_trail=True)\n",
    "\n",
    "ball.velocity = initialVelocity\n",
    "ball.acceleration = vector(0, 0, 0)\n",
    "ball.Mass = 10\n",
    "\n",
    "deltaT = 1\n",
    "loopCount = 10\n",
    "realT = 0\n",
    "rateParam = 60.0\n",
    "timeLimit = 12\n",
    "print(\"Running with initial velocity of 8500 meters per second\")\n",
    "while realT < timeLimit:\n",
    "    \n",
    "    # run updates multiple times per frame to speed up while keeping deltaT low\n",
    "    for i in range(loopCount):\n",
    "        # Gm/|r|^2 * unit vector for r\n",
    "        ball.acceleration = (G*earth.Mass/(mag(earth.pos-ball.pos)**2)) * ((earth.pos-ball.pos)/mag(earth.pos-ball.pos))\n",
    "        ball.velocity = ball.velocity + ball.acceleration*deltaT\n",
    "        nextBallPos = ball.pos + ball.velocity*deltaT\n",
    "        \n",
    "        earth.acceleration = (G*ball.Mass/(mag(ball.pos-earth.pos)**2)) * ((ball.pos-earth.pos)/mag(ball.pos-earth.pos))\n",
    "        earth.velocity = earth.velocity + earth.acceleration*deltaT\n",
    "        earth.pos = earth.pos + earth.velocity*deltaT\n",
    "        ball.pos = nextBallPos\n",
    "        \n",
    "    realT += 1.0 / rateParam\n",
    "    rate(rateParam)\n",
    "    \n",
    "# reset it up for next run\n",
    "ball.clear_trail()\n",
    "ball.pos=vector(0,earth.radius+initialElevation,0)\n",
    "initialVelocity = vector(7500, 0, 0)\n",
    "ball.velocity = initialVelocity\n",
    "ball.acceleration = vector(0, 0, 0)\n",
    "earth.pos = vector(0,0,0)\n",
    "earth.velocity = vector(0,0,0)\n",
    "earth.acceleration = vector(0,0,0)\n",
    "realT = 0\n",
    "print(\"Running with initial velocity of 7500 meters per second\")\n",
    "while realT < timeLimit:\n",
    "    \n",
    "    # run updates multiple times per frame to speed up while keeping deltaT low\n",
    "    for i in range(loopCount):\n",
    "        # Gm/|r|^2 * unit vector for r\n",
    "        ball.acceleration = (G*earth.Mass/(mag(earth.pos-ball.pos)**2)) * ((earth.pos-ball.pos)/mag(earth.pos-ball.pos))\n",
    "        ball.velocity = ball.velocity + ball.acceleration*deltaT\n",
    "        nextBallPos = ball.pos + ball.velocity*deltaT\n",
    "        \n",
    "        earth.acceleration = (G*ball.Mass/(mag(ball.pos-earth.pos)**2)) * ((ball.pos-earth.pos)/mag(ball.pos-earth.pos))\n",
    "        earth.velocity = earth.velocity + earth.acceleration*deltaT\n",
    "        earth.pos = earth.pos + earth.velocity*deltaT\n",
    "        ball.pos = nextBallPos\n",
    "        \n",
    "    realT += 1.0 / rateParam\n",
    "    rate(rateParam)\n",
    "    \n",
    "# reset it up for next run\n",
    "ball.clear_trail()\n",
    "ball.pos=vector(0,earth.radius+initialElevation,0)\n",
    "initialVelocity = vector(7896, 0, 0)\n",
    "ball.velocity = initialVelocity\n",
    "ball.acceleration = vector(0, 0, 0)\n",
    "earth.pos = vector(0,0,0)\n",
    "earth.velocity = vector(0,0,0)\n",
    "earth.acceleration = vector(0,0,0)\n",
    "realT = 0\n",
    "print(\"Running with the calculated initial velocity of 7896 meters per second\")\n",
    "while realT < timeLimit:\n",
    "    \n",
    "    # run updates multiple times per frame to speed up while keeping deltaT low\n",
    "    for i in range(loopCount):\n",
    "        # Gm/|r|^2 * unit vector for r\n",
    "        ball.acceleration = (G*earth.Mass/(mag(earth.pos-ball.pos)**2)) * ((earth.pos-ball.pos)/mag(earth.pos-ball.pos))\n",
    "        ball.velocity = ball.velocity + ball.acceleration*deltaT\n",
    "        nextBallPos = ball.pos + ball.velocity*deltaT\n",
    "        \n",
    "        earth.acceleration = (G*ball.Mass/(mag(ball.pos-earth.pos)**2)) * ((ball.pos-earth.pos)/mag(ball.pos-earth.pos))\n",
    "        earth.velocity = earth.velocity + earth.acceleration*deltaT\n",
    "        earth.pos = earth.pos + earth.velocity*deltaT\n",
    "        ball.pos = nextBallPos\n",
    "        \n",
    "    realT += 1.0 / rateParam\n",
    "    rate(rateParam)"
   ]
  },
  {
   "cell_type": "markdown",
   "id": "e05a7bb0-8ade-48db-ba2a-310ec129222a",
   "metadata": {},
   "source": [
    "### Escape Velocity\n",
    "#### Setup\n",
    "The escape velocity of the earth when launching an object from sea level (and disregarding air resistance) is around 11.2 km/s or 11200 meters per second. [Source](https://www.britannica.com/science/escape-velocity)\n",
    "It's hard to tell when an object \"escapes\" because in theory, given infinite time, you can never truly escape gravity because although the gravitational force decreases with the square of the distance, it never truly goes to 0.  \n",
    "We can say that if the ball's upwards velocity becomes negative, then it is starting to return to earth and did not escape.  \n",
    "So for the purposes of this simulation, we will assume that the ball escapes if after 600,000 seconds (around 1 week) it's velocity is still positive. We will also check for collisions to see if the ball did fall back to earth in that time.\n",
    "Note that the simulation time is 600k seconds because we have a dt of 1 second, and it gets updated 1000 times per animation frame, there are set to be 60 animation frames per second (it lags a lot so really it's a lot slower than that, but realT gets incremented by 1/60 each animation frame), and we run it for 10 seconds (realT<10)\n",
    "\n",
    "First we will run the simulation with an initial velocity of 8000 meters per second, so you can see it relatively quickly fall back to earth. Then we will run it extremely sped up, at initial velocities of 11100 m/s (11.1 km/s) and 11200 m/s (11.2 m/s), the ladder of which is the textbook escape velocity. You will see that according to our definition of escaping in the 1.15 day time frame, the ball does not escape at 11.1 km/s (it won't collide with earth in the time frame but it will start returning) but  escapes at 11.2 km/s, meaning our simulation is very accurate.  \n",
    "Note that these last 2 simulations do take some time to run with the calculation loop being set to run 10,000 times for each 1 frame of animation. And look at the printed text output to see the results, the visualization will become basically useless since its so sped up and so zoomed out"
   ]
  },
  {
   "cell_type": "markdown",
   "id": "396b924e-aac7-49c9-a961-c9f67d671709",
   "metadata": {},
   "source": [
    "#### Code"
   ]
  },
  {
   "cell_type": "code",
   "execution_count": 5,
   "id": "4ba1aa98-acc8-4f6f-a55c-e5f09a8a2a67",
   "metadata": {
    "tags": []
   },
   "outputs": [
    {
     "data": {
      "text/html": [
       "<div id=\"glowscript\" class=\"glowscript\"></div>"
      ],
      "text/plain": [
       "<IPython.core.display.HTML object>"
      ]
     },
     "metadata": {},
     "output_type": "display_data"
    },
    {
     "data": {
      "application/javascript": [
       "if (typeof Jupyter !== \"undefined\") { window.__context = { glowscript_container: $(\"#glowscript\").removeAttr(\"id\")};}else{ element.textContent = ' ';}"
      ],
      "text/plain": [
       "<IPython.core.display.Javascript object>"
      ]
     },
     "metadata": {},
     "output_type": "display_data"
    },
    {
     "name": "stdout",
     "output_type": "stream",
     "text": [
      "Running with initial velocity of 8000 m/s\n",
      "RETURNING TO EARTH\n",
      "COLLISION\n",
      "\n",
      "Running with initial velocity of 11100 meters per second\n",
      "Ball yPos: 78510252.66943346 | velocity: 2894.1060838797393 | acceleration: -0.06463078727912144\n",
      "Ball yPos: 182403748.6588826 | velocity: 1611.151113482668 | acceleration: -0.011972926883208555\n",
      "Ball yPos: 251133305.93813655 | velocity: 1183.4037999174077 | acceleration: -0.0063161966439322145\n",
      "Ball yPos: 303411174.43946546 | velocity: 924.0334899897025 | acceleration: -0.004327127373455163\n",
      "Ball yPos: 344673301.6616789 | velocity: 734.5027163180473 | acceleration: -0.003353101804704885\n",
      "Ball yPos: 377469107.8462446 | velocity: 581.9515802495112 | acceleration: -0.002795752274378589\n",
      "Ball yPos: 403232540.63722825 | velocity: 451.459044499911 | acceleration: -0.0024499092938345553\n",
      "Ball yPos: 422845836.61365265 | velocity: 334.9195449758047 | acceleration: -0.0022279054063868474\n",
      "Ball yPos: 436872652.3796623 | velocity: 227.32536939755389 | acceleration: -0.002087136775237913\n",
      "Ball yPos: 445669408.28486896 | velocity: 125.2252523878809 | acceleration: -0.0020055559062932262\n",
      "Ball yPos: 449442335.7640002 | velocity: 25.97268707187417 | acceleration: -0.00197202433313532\n",
      "RETURNING TO EARTH\n",
      "Ball yPos: 448276132.4969587 | velocity: -72.70428415517743 | acceleration: -0.0019822973637655997\n",
      "No Collision\n",
      "\n",
      "Running with initial velocity of 11200 meters per second\n",
      "Ball yPos: 82266107.57467449 | velocity: 3184.5850624419136 | acceleration: -0.058864289072329046\n",
      "Ball yPos: 205743924.51771942 | velocity: 2080.7066109306948 | acceleration: -0.009410548167422223\n",
      "Ball yPos: 300815413.00234187 | velocity: 1762.24855489662 | acceleration: -0.0044021526307765875\n",
      "Ball yPos: 384288997.9280908 | velocity: 1590.6709118541237 | acceleration: -0.00269741563544849\n",
      "Ball yPos: 460847420.1065984 | velocity: 1478.4547852869568 | acceleration: -0.0018756363570773015\n",
      "Ball yPos: 532646686.0798913 | velocity: 1397.4250226001395 | acceleration: -0.0014040546015099266\n",
      "Ball yPos: 600901184.5539279 | velocity: 1335.253446365713 | acceleration: -0.0011032044040282178\n",
      "Ball yPos: 666378316.2017219 | velocity: 1285.5457984862128 | acceleration: -0.0008970572058917594\n",
      "Ball yPos: 729601015.5091493 | velocity: 1244.5997165585027 | acceleration: -0.000748325938774914\n",
      "Ball yPos: 790945247.8509344 | velocity: 1210.098470467306 | acceleration: -0.0006367495750945235\n",
      "Ball yPos: 850692390.1247517 | velocity: 1180.5059908627723 | acceleration: -0.0005504479856196137\n",
      "Ball yPos: 909059715.7194022 | velocity: 1154.7570198097783 | acceleration: -0.00048203264906866586\n",
      "No Collision\n"
     ]
    }
   ],
   "source": [
    "scene = canvas()\n",
    "\n",
    "initialElevation = 0\n",
    "initialVelocity = vector(0, 8000, 0)\n",
    "\n",
    "earth = sphere(pos=vector(0,0,0), radius=6.38e+6, color=color.green)\n",
    "earth.velocity = vector(0,0,0)\n",
    "earth.acceleration = vector(0,0,0)\n",
    "earth.Radius=6.38e+6\n",
    "earth.Mass = 5.9722e+24\n",
    "\n",
    "ball = sphere(pos=vector(0,earth.radius+initialElevation,0), radius=1000000, color=color.red)\n",
    "\n",
    "ball.velocity = initialVelocity\n",
    "ball.acceleration = vector(0, 0, 0)\n",
    "ball.Mass = 1\n",
    "\n",
    "deltaT = 1\n",
    "loopCount = 10\n",
    "timeLimit = 10\n",
    "t = 0\n",
    "realT = 0\n",
    "rateParam = 60.0\n",
    "frameCount = 0\n",
    "collision = False\n",
    "returning = False\n",
    "print(\"Running with initial velocity of 8000 m/s\")\n",
    "while realT < timeLimit:\n",
    "    \n",
    "    # run updates multiple times per frame to speed up while keeping deltaT low\n",
    "    for i in range(loopCount):\n",
    "        # Gm/|r|^2 * unit vector for r\n",
    "        ball.acceleration = (G*earth.Mass/(mag(earth.pos-ball.pos)**2)) * ((earth.pos-ball.pos)/mag(earth.pos-ball.pos))\n",
    "        ball.velocity = ball.velocity + ball.acceleration*deltaT\n",
    "        nextBallPos = ball.pos + ball.velocity*deltaT\n",
    "        \n",
    "\n",
    "        earth.acceleration = (G*ball.Mass/(mag(ball.pos-earth.pos)**2)) * ((ball.pos-earth.pos)/mag(ball.pos-earth.pos))\n",
    "        earth.velocity = earth.velocity + earth.acceleration*deltaT\n",
    "        earth.pos = earth.pos + earth.velocity*deltaT\n",
    "        ball.pos = nextBallPos\n",
    "        \n",
    "        # if velocity becomes negative that means it will now be returning to earth\n",
    "        if ball.velocity.y < 0 and not returning:\n",
    "            print(\"RETURNING TO EARTH\")\n",
    "            returning = True\n",
    "        \n",
    "        # collision\n",
    "        if mag(earth.pos-ball.pos)<earth.Radius:\n",
    "            \n",
    "            collision = True\n",
    "            break\n",
    "            \n",
    "        t += deltaT\n",
    "    \n",
    "    # if frameCount % 30 == 0:\n",
    "    #     print(\"Ball yPos: \" + str(ball.pos.y) + \" | velocity: \" + str(ball.velocity.y) + \" | acceleration: \" + str(ball.acceleration.y))\n",
    "    \n",
    "    if collision:\n",
    "        break\n",
    "    \n",
    "    realT += 1.0 / rateParam\n",
    "    frameCount+=1\n",
    "    rate(rateParam)\n",
    "print(\"COLLISION\" if collision else \"No Collision\")\n",
    "\n",
    "# reset it up for next run\n",
    "ball.pos=vector(0,earth.radius+initialElevation,0)\n",
    "initialVelocity = vector(0, 11100, 0)\n",
    "ball.velocity = initialVelocity\n",
    "ball.acceleration = vector(0, 0, 0)\n",
    "earth.pos = vector(0,0,0)\n",
    "earth.velocity = vector(0,0,0)\n",
    "earth.acceleration = vector(0,0,0)\n",
    "realT = 0\n",
    "loopCount = 1000\n",
    "collision=False\n",
    "returning=False\n",
    "print(\"\")\n",
    "print(\"Running with initial velocity of 11100 meters per second\")\n",
    "while realT < timeLimit:\n",
    "    \n",
    "    # run updates multiple times per frame to speed up while keeping deltaT low\n",
    "    for i in range(loopCount):\n",
    "        # Gm/|r|^2 * unit vector for r\n",
    "        ball.acceleration = (G*earth.Mass/(mag(earth.pos-ball.pos)**2)) * ((earth.pos-ball.pos)/mag(earth.pos-ball.pos))\n",
    "        ball.velocity = ball.velocity + ball.acceleration*deltaT\n",
    "        nextBallPos = ball.pos + ball.velocity*deltaT\n",
    "        \n",
    "\n",
    "        earth.acceleration = (G*ball.Mass/(mag(ball.pos-earth.pos)**2)) * ((ball.pos-earth.pos)/mag(ball.pos-earth.pos))\n",
    "        earth.velocity = earth.velocity + earth.acceleration*deltaT\n",
    "        earth.pos = earth.pos + earth.velocity*deltaT\n",
    "        ball.pos = nextBallPos\n",
    "        \n",
    "        # if velocity becomes negative that means it will now be returning to earth\n",
    "        if ball.velocity.y < 0 and not returning:\n",
    "            print(\"RETURNING TO EARTH\")\n",
    "            returning = True\n",
    "        \n",
    "        # collision\n",
    "        if mag(earth.pos-ball.pos)<earth.Radius:\n",
    "            \n",
    "            collision = True\n",
    "            break\n",
    "            \n",
    "        t += deltaT\n",
    "    \n",
    "    if frameCount % 50 == 0:\n",
    "        print(\"Ball yPos: \" + str(ball.pos.y) + \" | velocity: \" + str(ball.velocity.y) + \" | acceleration: \" + str(ball.acceleration.y))\n",
    "    \n",
    "    if collision:\n",
    "        break\n",
    "    \n",
    "    realT += 1.0 / rateParam\n",
    "    frameCount+=1\n",
    "    rate(rateParam)\n",
    "print(\"COLLISION\" if collision else \"No Collision\")\n",
    "\n",
    "# reset it up for next run\n",
    "ball.pos=vector(0,earth.radius+initialElevation,0)\n",
    "initialVelocity = vector(0, 11200, 0)\n",
    "ball.velocity = initialVelocity\n",
    "ball.acceleration = vector(0, 0, 0)\n",
    "earth.pos = vector(0,0,0)\n",
    "earth.velocity = vector(0,0,0)\n",
    "earth.acceleration = vector(0,0,0)\n",
    "realT = 0\n",
    "loopCount = 1000\n",
    "collision=False\n",
    "returning=False\n",
    "print(\"\")\n",
    "print(\"Running with initial velocity of 11200 meters per second\")\n",
    "while realT < timeLimit:\n",
    "    \n",
    "    # run updates multiple times per frame to speed up while keeping deltaT low\n",
    "    for i in range(loopCount):\n",
    "        # Gm/|r|^2 * unit vector for r\n",
    "        ball.acceleration = (G*earth.Mass/(mag(earth.pos-ball.pos)**2)) * ((earth.pos-ball.pos)/mag(earth.pos-ball.pos))\n",
    "        ball.velocity = ball.velocity + ball.acceleration*deltaT\n",
    "        nextBallPos = ball.pos + ball.velocity*deltaT\n",
    "        \n",
    "\n",
    "        earth.acceleration = (G*ball.Mass/(mag(ball.pos-earth.pos)**2)) * ((ball.pos-earth.pos)/mag(ball.pos-earth.pos))\n",
    "        earth.velocity = earth.velocity + earth.acceleration*deltaT\n",
    "        earth.pos = earth.pos + earth.velocity*deltaT\n",
    "        ball.pos = nextBallPos\n",
    "        \n",
    "        # if velocity becomes negative that means it will now be returning to earth\n",
    "        if ball.velocity.y < 0 and not returning:\n",
    "            print(\"RETURNING TO EARTH\")\n",
    "            returning = True\n",
    "        \n",
    "        # collision\n",
    "        if mag(earth.pos-ball.pos)<earth.Radius:\n",
    "            \n",
    "            collision = True\n",
    "            break\n",
    "            \n",
    "        t += deltaT\n",
    "    \n",
    "    if frameCount % 50 == 0:\n",
    "        print(\"Ball yPos: \" + str(ball.pos.y) + \" | velocity: \" + str(ball.velocity.y) + \" | acceleration: \" + str(ball.acceleration.y))\n",
    "    \n",
    "    if collision:\n",
    "        break\n",
    "    \n",
    "    realT += 1.0 / rateParam\n",
    "    frameCount+=1\n",
    "    rate(rateParam)\n",
    "print(\"COLLISION\" if collision else \"No Collision\")"
   ]
  },
  {
   "cell_type": "markdown",
   "id": "a54c81c3-baf9-4369-be7b-42c9b463ba39",
   "metadata": {},
   "source": [
    "## Solar System"
   ]
  },
  {
   "cell_type": "markdown",
   "id": "b7d91a2c-25b9-45c5-bdf0-475cf5aa41b6",
   "metadata": {},
   "source": [
    "### Simple Sun and Earth Example\n",
    "This example just tests having the earth orbiting the sun, and tests scaling radius values for visualization purposes."
   ]
  },
  {
   "cell_type": "code",
   "execution_count": 8,
   "id": "7365219f-f397-4b3c-a0cb-f4731d4794cf",
   "metadata": {
    "tags": []
   },
   "outputs": [
    {
     "data": {
      "text/html": [
       "<div id=\"glowscript\" class=\"glowscript\"></div>"
      ],
      "text/plain": [
       "<IPython.core.display.HTML object>"
      ]
     },
     "metadata": {},
     "output_type": "display_data"
    },
    {
     "data": {
      "application/javascript": [
       "if (typeof Jupyter !== \"undefined\") { window.__context = { glowscript_container: $(\"#glowscript\").removeAttr(\"id\")};}else{ element.textContent = ' ';}"
      ],
      "text/plain": [
       "<IPython.core.display.Javascript object>"
      ]
     },
     "metadata": {},
     "output_type": "display_data"
    }
   ],
   "source": [
    "scene = canvas()\n",
    "\n",
    "initialVelocity = vector(0, -30000, 0)\n",
    "G = 6.67e-11\n",
    "\n",
    "sun = sphere(pos=vector(0,0,0), radius=2e+10, color=color.yellow)\n",
    "sun.Radius=0.6e9\n",
    "sun.mass = 2e+30\n",
    "sun.velocity = vector(0,0,0)\n",
    "sun.acceleration = vector(0, 0, 0)\n",
    "\n",
    "earth = sphere(pos=vector(149.6e+9,0,0), radius=6.38e+9, color=color.green)\n",
    "earth.Radius=6.38e+6\n",
    "earth.mass = 5.9722e+24\n",
    "earth.velocity = initialVelocity\n",
    "earth.acceleration = vector(0, 0, 0)\n",
    "\n",
    "\n",
    "deltaT = 2400\n",
    "t = 0\n",
    "realT = 0\n",
    "rateParam = 100.0\n",
    "while realT < 5:\n",
    "    for i in range(50):\n",
    "        # Gm/|r|^2 * unit vector for r\n",
    "        earth.acceleration = (G*sun.mass/(mag(earth.pos-sun.pos)**2)) * (-1*earth.pos/mag(earth.pos-sun.pos))\n",
    "        earth.velocity = earth.velocity + earth.acceleration*deltaT\n",
    "        earth.pos = earth.pos + earth.velocity*deltaT\n",
    "        \n",
    "        sun.acceleration = (G*earth.mass/(mag(sun.pos-earth.pos)**2)) * (-1*earth.pos/mag(sun.pos-earth.pos))\n",
    "        sun.velocity = sun.velocity + sun.acceleration*deltaT\n",
    "        sun.pos = sun.pos + sun.velocity*deltaT\n",
    "        \n",
    "        t+=deltaT\n",
    "    \n",
    "    realT += 1.0 / rateParam\n",
    "    rate(rateParam)"
   ]
  },
  {
   "cell_type": "markdown",
   "id": "25f5449c-3d4e-42f5-b90d-f7f0e5af3260",
   "metadata": {},
   "source": [
    "To add the rest of the planets and moons, we should refactor so that we have a separate data structure to store the real position, velocity, and acceleration data, as well as masses and radii. We will use numpy for this since it is very efficient.  \n",
    "To avoid manually copying and pasting values from the NASA Database, we will use their API to scrape their database automatically so we can get data for many different planets and moons with ease."
   ]
  },
  {
   "cell_type": "markdown",
   "id": "8006b6d9-d3b3-4749-beb7-0fab2460b2ce",
   "metadata": {},
   "source": [
    "### NASA API utility functions\n",
    "The nasaToFloat function converts between the way they format the information in the ephemeris data, into just a floating point number in meters.  \n",
    "The getEphemeris function does an API call for a specific body specified by its body ID (sun=10, earth=399, etc) and by default returns its ephemeris data, as well as its mass and radius. But, with the different parameters you can also get to instead print out the list of every major body, or return a list containing the body ID's for every major body so you can then loop over that and get data for each body."
   ]
  },
  {
   "cell_type": "code",
   "execution_count": 2,
   "id": "158dc521-c0e6-41bf-a344-8350ba5c3942",
   "metadata": {
    "tags": []
   },
   "outputs": [
    {
     "name": "stdout",
     "output_type": "stream",
     "text": [
      "{'mass': 3.3020000000000006e+23, 'radius': 2439400.0, 'position': [50032052400.25789, 10210312502.13376, -3757503831.404425], 'velocity': [-19160.551970808312, 49910.18281147225, 5835.840541514361]}\n"
     ]
    }
   ],
   "source": [
    "# Define API URL and SPK filename:\n",
    "url = 'https://ssd.jpl.nasa.gov/api/horizons.api'\n",
    "spk_filename = 'spk_file.bsp'\n",
    "\n",
    "def nasaToFloat(string):\n",
    "    string = string[1:] if string[0]==' ' else string\n",
    "    base = string[:string.find(\"E\")]\n",
    "    exp = string[string.find(\"E\")+2:]\n",
    "    signExp = 1 if string[string.find(\"E\")+1]==\"+\" else -1\n",
    "    return float(base)*10**(float(exp)*signExp+3) # add 3 to convert from kilometers to meters\n",
    "\n",
    "# returns dictionary of important data\n",
    "def getEphemeris(body, start_time, end_time, printMajorBodies=False, getMajorIDs=False):\n",
    "    # Build the appropriate URL for this API request:\n",
    "    # IMPORTANT: You must encode the \"=\" as \"%3D\" and the \";\" as \"%3B\" in the\n",
    "    #            Horizons COMMAND parameter specification.\n",
    "    \n",
    "    body = 'MB' if printMajorBodies or getMajorIDs else body\n",
    "    url = 'https://ssd.jpl.nasa.gov/api/horizons.api'\n",
    "    url += \"?format=json&EPHEM_TYPE=VECTORS&VEC_TABLE=2&MAKE_EPHEM=YES&OBJ_DATA=YES&CENTER=500%4010\"\n",
    "    url += \"&COMMAND='{}'&START_TIME='{}'&STOP_TIME='{}'&STEP_SIZE=1d\".format(body, start_time, end_time)\n",
    "\n",
    "    # Submit the API request and decode the JSON-response:\n",
    "    response = requests.get(url)\n",
    "    try:\n",
    "      data = json.loads(response.text)\n",
    "    except ValueError:\n",
    "      print(\"Unable to decode JSON results\")\n",
    "\n",
    "    # If the request was valid...\n",
    "    if (response.status_code == 200):\n",
    "      if \"result\" in data:\n",
    "        result = data[\"result\"]\n",
    "        # print(result)\n",
    "        if printMajorBodies:\n",
    "            print(result)\n",
    "        elif getMajorIDs:\n",
    "            idLines = result.split(\"\\n\")\n",
    "            idLines = [line.strip() for line in idLines][5:-5]\n",
    "            ids = [idLine[:idLine.find(\" \")] for idLine in idLines if idLine[0] != \"-\"]\n",
    "            # majorIDs = [int(id) for id in ids if len(id) == 3]\n",
    "            majorIDs = [int(id) for id in ids if len(id) == 3 and id[1:3]==\"99\"]\n",
    "            return majorIDs\n",
    "        else:\n",
    "            bodyData = dict()\n",
    "            \n",
    "            massStart = result[result.find(\"Mass\"):]\n",
    "            massExp = massStart[massStart.find(\"^\")+1:massStart.find(\"^\")+3]\n",
    "            massBase = massStart[massStart.find(\".\")-2:massStart.find(\".\")+4]\n",
    "            mass = float(massBase)*10.0**float(massExp)\n",
    "            bodyData[\"mass\"] = mass\n",
    "            \n",
    "            radiusStart = result[result.find(\"Vol.\"):]\n",
    "            radiusNumStart = radiusStart[radiusStart.find(\"=\")+1:]\n",
    "            radiusNum = radiusNumStart[:radiusNumStart.find(\"+\")]\n",
    "            if len(radiusNum)>10:\n",
    "                radiusNum = radiusNum[:radiusNum.find(\" \")]\n",
    "            radius = float(radiusNum)*1000 # kilometers to meters\n",
    "            bodyData[\"radius\"] = radius\n",
    "            \n",
    "            resultEphemeris = result[result.find(\"SOE\"):result.find(\"EOE\")]\n",
    "            resultX = resultEphemeris[resultEphemeris.find(\"X =\")+3:resultEphemeris.find(\"X =\")+3+22]\n",
    "            resultY = resultEphemeris[resultEphemeris.find(\"Y =\")+3:resultEphemeris.find(\"Y =\")+3+22]\n",
    "            resultZ = resultEphemeris[resultEphemeris.find(\"Z =\")+3:resultEphemeris.find(\"Z =\")+3+22]\n",
    "            resultVX= resultEphemeris[resultEphemeris.find(\"VX=\")+3:resultEphemeris.find(\"VX=\")+3+22]\n",
    "            resultVY= resultEphemeris[resultEphemeris.find(\"VY=\")+3:resultEphemeris.find(\"VY=\")+3+22]\n",
    "            resultVZ= resultEphemeris[resultEphemeris.find(\"VZ=\")+3:resultEphemeris.find(\"VZ=\")+3+22]\n",
    "            bodyPos = [resultX, resultY, resultZ]\n",
    "            bodyPos = [nasaToFloat(i) for i in bodyPos]\n",
    "            bodyVel = [resultVX, resultVY, resultVZ]\n",
    "            bodyVel = [nasaToFloat(i) for i in bodyVel]\n",
    "            \n",
    "            bodyData[\"position\"] = bodyPos\n",
    "            bodyData[\"velocity\"] = bodyVel\n",
    "            \n",
    "            return bodyData\n",
    "\n",
    "    # If the request was invalid, extract error content and display it:\n",
    "    if (response.status_code == 400):\n",
    "      data = json.loads(response.text)\n",
    "      if \"message\" in data:\n",
    "        print(\"MESSAGE: {}\".format(data[\"message\"]))\n",
    "      else:\n",
    "        print(json.dumps(data, indent=2))\n",
    "# Test\n",
    "print(getEphemeris(199, '2004-03-10', '2004-03-11', getMajorIDs=False))"
   ]
  },
  {
   "cell_type": "markdown",
   "id": "6a414f74-da1c-453d-a90e-c080a4014312",
   "metadata": {},
   "source": [
    "Now with that setup, we are ready to implement the full solar system simulation, using numpy for the separate data structure, and scaling those values for visualization."
   ]
  },
  {
   "cell_type": "markdown",
   "id": "b0421ce3-10de-4941-87d9-3420aba8fd62",
   "metadata": {},
   "source": [
    "### Complete Simulation\n",
    "The bodyIDs list defines which bodies we want to grab from the API, and then include in the simulation. As I mentioned to Dr. Bocan, the database is SUPER inconsistent with how they format data in between different bodies, so that made it unrealistic to do more bodies than just every planet + pluto + earth's moon. (Jupiters moons they don't even give you a radius, they give you width, length, and height). Also the Sun's data is formatted super weirdly so I ignore that in the API stuff and manually put in the Sun's data.\n",
    "\n",
    "The moonOrbitsDict defines which bodies orbit which bodies. If a body isn't present in the dict, then it means it orbits the Sun.\n",
    "\n",
    "The update function runs one time step of physics simulation. The show function updates the VPython objects visible positions. The getVisualPositions and getVisualRadii functions take the calculated values of position and manipulate them to get good values to be visualized"
   ]
  },
  {
   "cell_type": "code",
   "execution_count": 3,
   "id": "6458e1ea-d3d9-4df1-9e8b-d9a8dd8a90c0",
   "metadata": {
    "tags": []
   },
   "outputs": [
    {
     "data": {
      "text/html": [
       "<div id=\"glowscript\" class=\"glowscript\"></div>"
      ],
      "text/plain": [
       "<IPython.core.display.HTML object>"
      ]
     },
     "metadata": {},
     "output_type": "display_data"
    },
    {
     "data": {
      "application/javascript": [
       "if (typeof Jupyter !== \"undefined\") { window.__context = { glowscript_container: $(\"#glowscript\").removeAttr(\"id\")};}else{ element.textContent = ' ';}"
      ],
      "text/plain": [
       "<IPython.core.display.Javascript object>"
      ]
     },
     "metadata": {},
     "output_type": "display_data"
    }
   ],
   "source": [
    "scene = canvas()\n",
    "\n",
    "bodyIDs = [10, 199, 299, 301, 399, 499, 599, 699, 799, 899, 999]\n",
    "moonOrbitsDict = {\n",
    "    301: 399\n",
    "}\n",
    "numBodies = len(bodyIDs)\n",
    "bodyColorDict = {\n",
    "    10 : color.yellow,\n",
    "    199 : color.white,\n",
    "    299 : color.orange,\n",
    "    301 : color.white,\n",
    "    399 : color.green,\n",
    "    499 : color.red,\n",
    "    599 : color.orange,\n",
    "    699 : vec(1,0.3,0),\n",
    "    799 : vec(0.3, 0.3, 1),\n",
    "    899 : color.blue,\n",
    "    999 : color.white\n",
    "}\n",
    "    \n",
    "positions = np.zeros((numBodies, 3))\n",
    "velocities = np.zeros((numBodies, 3))\n",
    "masses = np.zeros(numBodies)\n",
    "realRadii = []\n",
    "\n",
    "# Sun data cause API is weird with it\n",
    "sunMass = 1.988e+30\n",
    "sunRadius = 6.96e+9\n",
    "positions[0] = [0,0,0]\n",
    "velocities[0] = [0,0,0]\n",
    "masses[0] = sunMass\n",
    "realRadii.append(sunRadius)\n",
    "\n",
    "# Manually entered positions and velocities from nasa database\n",
    "# positions = np.array([[0, 0, 0], [3.683E+10, -5.220E+10, -7.644E+09], [-3.241e+10,1.024e+11, 3.278e+9], [-1.062e+11,1.023e+11,-5.474e+6], [-1.403e+11,2.013e+11,7.661e+9]], dtype=float)\n",
    "# velocities = np.array([[0, 0, 0], [3.009e+4, 3.045e+4, -2.71e+2], [-3.35e+4,-1.075e+4,1.785e+3], [-2.113e+4,-2.157e+4,4.834e-1], [-1.896e+4,-1.179e+4,2.177e+2]], dtype=float)\n",
    "\n",
    "# Use API to get body data\n",
    "# start at 1 to skip the sun cause its weird\n",
    "for i in range(1,numBodies):\n",
    "    bodyData = getEphemeris(bodyIDs[i], '2004-03-10', '2004-03-11')\n",
    "    positions[i] = bodyData[\"position\"]\n",
    "    velocities[i] = bodyData[\"velocity\"]\n",
    "    masses[i] = bodyData[\"mass\"]\n",
    "    realRadii.append(bodyData[\"radius\"])\n",
    "\n",
    "\n",
    "def update(numBodies, positions, velocities, masses, deltaT):\n",
    "    nextPositions = np.zeros((numBodies, 3))\n",
    "    for i in range(numBodies):\n",
    "        if i == 0:\n",
    "            bodyForces1 = np.zeros((1,1))\n",
    "        else:\n",
    "            bodyForces1Mags = G*masses[:i]/np.square(np.linalg.norm(positions[:i]-positions[i], axis=1))\n",
    "            bodyForces1Dirs = ((positions[:i]-positions[i]).T/np.linalg.norm(positions[:i]-positions[i], axis=1)).T\n",
    "            # print(bodyForces1Dirs.shape)\n",
    "            bodyForces1 = (bodyForces1Mags*bodyForces1Dirs.T).T\n",
    "        if i == numBodies-1:\n",
    "            bodyForces2 = np.zeros((1,1))\n",
    "        else:\n",
    "            bodyForces2Mags = G*masses[i+1:]/np.square(np.linalg.norm(positions[i+1:]-positions[i], axis=1))\n",
    "            bodyForces2Dirs = ((positions[i+1:]-positions[i]).T/np.linalg.norm(positions[i+1:]-positions[i], axis=1)).T\n",
    "            bodyForces2 = (bodyForces2Mags*bodyForces2Dirs.T).T\n",
    "        # print(\"****:  \"+str(i))\n",
    "        # print(bodyForces1.shape)\n",
    "        # print(bodyForces2.shape)\n",
    "        \n",
    "        bodyNetForce = np.sum(bodyForces1, axis=0)+np.sum(bodyForces2, axis=0)\n",
    "        # print(\"******\")\n",
    "        # print(positions[:i]-positions[i])\n",
    "        # print(np.linalg.norm(positions[:i]-positions[i]))\n",
    "        # print(np.linalg.norm(positions[:i]-positions[i], axis=1))\n",
    "        \n",
    "        bodyAccel = bodyNetForce\n",
    "        # try += im curious\n",
    "        velocities[i] = velocities[i] + bodyAccel*deltaT\n",
    "        nextPositions[i] = positions[i] + velocities[i]*deltaT\n",
    "    positions = nextPositions.copy()\n",
    "    # positions[0] = np.array([0.,0.,0.])\n",
    "    return (positions, velocities)\n",
    "\n",
    "def getVisualPositions(bodies, useRealPositions=False):\n",
    "    visualPositionBases = []\n",
    "    visualPositions = []\n",
    "    if useRealPositions:\n",
    "        for i in range(numBodies):\n",
    "            visualPositions.append(vector(positions[i][0],positions[i][1],positions[i][2]))\n",
    "        return visualPositions\n",
    "    for i in range(numBodies):\n",
    "        if i == 0:\n",
    "            visualPositionBases.append(np.array([0,0,0]))\n",
    "            continue\n",
    "        if bodyIDs[i] in moonOrbitsDict:\n",
    "            orbitBody = moonOrbitsDict[bodyIDs[i]]\n",
    "        else:\n",
    "            orbitBody = 10\n",
    "        orbitPosition = positions[bodyIDs.index(orbitBody)]\n",
    "        distVector = orbitPosition - positions[i]\n",
    "        distVector = distVector / np.linalg.norm(distVector)\n",
    "        visualPositionBases.append(distVector)\n",
    "    for i in range(numBodies):\n",
    "        if bodyIDs[i] in moonOrbitsDict:\n",
    "            orbitBody = moonOrbitsDict[bodyIDs[i]]\n",
    "            orbitVisualPositionBase = visualPositionBases[bodyIDs.index(orbitBody)]\n",
    "            visualPosition = visualPositionBases[i]*numBodies + orbitVisualPositionBase*bodyIDs.index(orbitBody)*numBodies*2\n",
    "        else:\n",
    "            visualPosition = visualPositionBases[i]*i*numBodies*2\n",
    "        visualPositions.append(vector(visualPosition[0],visualPosition[1],visualPosition[2]))\n",
    "    return visualPositions\n",
    "\n",
    "def getVisualRadii(bodies, useRealRadii=False):\n",
    "    visualRadii = []\n",
    "    if useRealRadii:\n",
    "        for i in range(numBodies):\n",
    "            visualRadii.append(1e10)\n",
    "        return visualRadii\n",
    "    sortedRealRadii = sorted(realRadii)\n",
    "    for i in range(numBodies):\n",
    "        # this somewhat relies on no two bodies having the exact same radii, which is probably safe???\n",
    "        visualRadii.append(sortedRealRadii.index(realRadii[i])+2)\n",
    "    return visualRadii\n",
    "\n",
    "def show(bodies):\n",
    "    # update bodies visible position\n",
    "    visualPositions = getVisualPositions(bodies, useRealPositions=False)\n",
    "    # could try to update radii in real time based off of camera stuff, not rn tho\n",
    "    # visualRadii = getVisualRadii(bodies)\n",
    "    for i in range(numBodies):\n",
    "        bodies[i].pos = visualPositions[i]\n",
    "        # bodies[i].radius = visualRadii[i]\n",
    "        \n",
    "# create bodies (list comprehension was less readable)\n",
    "bodies = []\n",
    "visualPositions = getVisualPositions(bodies, useRealPositions=False)\n",
    "visualRadii = getVisualRadii(bodies, useRealRadii=False)\n",
    "for i in range(numBodies):\n",
    "    if bodyIDs[i] in bodyColorDict:\n",
    "        objColor = bodyColorDict[bodyIDs[i]]\n",
    "    else:\n",
    "        objColor = vec(0.5, 0.5, 0.5)\n",
    "    bodies.append(sphere(pos=visualPositions[i], radius=visualRadii[i], color=objColor, make_trail=True))\n",
    "    if bodyIDs[i] in moonOrbitsDict:\n",
    "        bodies[i].make_trail=False\n",
    "        \n",
    "\n",
    "deltaT = 3600\n",
    "t = 0\n",
    "realT = 0\n",
    "rateParam = 60.0\n",
    "\n",
    "# Main loop!\n",
    "while realT < 10:\n",
    "    \n",
    "    # do updates faster than real time\n",
    "    for i in range(10):\n",
    "        positions, velocities = update(numBodies, positions, velocities, masses, deltaT)\n",
    "        t+=deltaT\n",
    "    show(bodies)\n",
    "    # print(np.linalg.norm(positions[1]-positions[0]))\n",
    "    realT += 1.0 / rateParam\n",
    "    rate(rateParam)"
   ]
  },
  {
   "cell_type": "markdown",
   "id": "07a9911b-c75e-4a6f-a1aa-ba3378acf268",
   "metadata": {},
   "source": [
    "### Discussion"
   ]
  },
  {
   "cell_type": "markdown",
   "id": "111e09a6-a24e-4fbb-a7b4-8bc7aa07ba56",
   "metadata": {
    "tags": []
   },
   "source": [
    "#### Initial values and other parameters\n",
    "For the initial values of the planets positions and velocities, I used data from the NASA database, initializing all the planets positions and velocities to the real values at a certain time. The time I chose is March 10, 2004. Which is my birthday.  \n",
    "For the object parameters of radius and mass, I chose the real masses, and then for the radii I chose scaled values for the purposes of visualization, but I'll discuss that more later. Radii are not used in any of the calculations so those values are free to be messed with.  \n",
    "For simulation time parameters, I used an inner loop to update multiple times for each animation frame to speed things up, and I set that loop max to the highest value that would run smoothly. And then I set deltaT to the lowest value that makes the (inner) planets move at a visible speed (one Pluto year is over 300 Earth years so won't really be able to make Pluto visibly move without earth zooming around too fast)."
   ]
  },
  {
   "cell_type": "markdown",
   "id": "9807bf26-42a3-4328-8e44-fa949e31b3c0",
   "metadata": {},
   "source": [
    "#### Organization\n",
    "For organization, I first set up the program by defining which bodies I want from the database, and defining two dictionaries, one to set planet colors, and one to define which bodies are moons, and which body they orbit (if a body isn't a moon, then it orbits the sun by default). I then do the API calls to get all the important data about the chosen bodies. Then I instatiate the body objects, and then enter the main animation and calculation loop.  \n",
    "In the loop there are two parts, the update function and the show function. The update function is run in a loop to speed things up, and each time it runs it calculates one time step of simulation. The show function updates the VPython objects with scaled positions.  \n",
    "For data structures, I decided to put all of non-visual data in numpy arrays, since they can be vectorized very efficiently. Then after each update loop, the data gets converted to scaled visual data to be put into the VPython objects"
   ]
  },
  {
   "cell_type": "markdown",
   "id": "a12109e4-40b2-4837-abe1-241aaad49d80",
   "metadata": {},
   "source": [
    "#### Verification"
   ]
  },
  {
   "cell_type": "markdown",
   "id": "2faa8e3d-f4d6-4be0-b227-88e6392a5977",
   "metadata": {},
   "source": [
    "##### Position\n",
    "For verification I will run the simulation for some number of months in simulation time, and after each month compare the planets positions in the simulation to their real positions.  \n",
    "Then I can get the error of their position by doing `error=|NasaPosition-SimulationPosition|/NasaPosition`. Then I'll have the error for each planet for each month, and graph them with the x-axis being months and the y-axis being error, and have a separate line for each planet.\n",
    "\n",
    "Source for all this verification data: [NASA API](https://ssd-api.jpl.nasa.gov/doc/horizons.html)"
   ]
  },
  {
   "cell_type": "code",
   "execution_count": 4,
   "id": "088afa8d-3b0b-4e85-9f2c-304bdf391d19",
   "metadata": {
    "tags": []
   },
   "outputs": [
    {
     "name": "stdout",
     "output_type": "stream",
     "text": [
      "Loading from file\n",
      "Loading from file\n"
     ]
    },
    {
     "data": {
      "image/png": "[encoded data removed]",
      "text/plain": [
       "<Figure size 640x480 with 1 Axes>"
      ]
     },
     "metadata": {},
     "output_type": "display_data"
    }
   ],
   "source": [
    "monthDayDict = {\n",
    "    1:31,2:28,3:31,4:30,5:31,6:30,7:31,8:31,9:30,10:31,11:30,12:31\n",
    "}\n",
    "\n",
    "#redefine these to reset them\n",
    "calculatedPositions = []\n",
    "positions = np.zeros((numBodies, 3))\n",
    "velocities = np.zeros((numBodies, 3))\n",
    "masses = np.zeros(numBodies)\n",
    "sunMass = 1.988e+30\n",
    "masses[0] = sunMass\n",
    "\n",
    "# Use API to get initial body data\n",
    "# start at 1 to skip the sun cause its weird\n",
    "calculatedPositions.append([[0,0,0]])\n",
    "for i in range(1,numBodies):\n",
    "    bodyData = getEphemeris(bodyIDs[i], '2004-03-10', '2004-03-11')\n",
    "    positions[i] = bodyData[\"position\"]\n",
    "    velocities[i] = bodyData[\"velocity\"]\n",
    "    masses[i] = bodyData[\"mass\"]\n",
    "    calculatedPositions.append([bodyData[\"position\"]])\n",
    "    \n",
    "realPositions = []\n",
    "startingMonth = 3\n",
    "startingDay = 10\n",
    "startingYear = 2004\n",
    "numMonths = 36 #IMPORTANT NOTE, this code does not factor in leap years, so to be completely accurate\n",
    "#              You must make sure your date range does not include a february 29th\n",
    "apiFileName = \"realPositions\" + str(startingMonth)+str(startingDay)+str(startingYear)+str(numBodies)+str(numMonths)+\".npy\"\n",
    "# read real position data from existing file if it exists\n",
    "if os.path.exists(apiFileName):\n",
    "    print(\"Loading from file\")\n",
    "    realPositions = np.load(apiFileName)\n",
    "# Else, Use API to get body data over time\n",
    "# start at 1 to skip the sun cause its weird\n",
    "# also NOTE I know there is a way to setup the API call to give it a time range with a time step,\n",
    "# so could say give me every months data for a year. but for now its faster to just do it this rough way\n",
    "else:\n",
    "    # sun is weird\n",
    "    # realPositions.append([])\n",
    "    # for _ in range(numMonths):\n",
    "    #     realPositions[0].append([0,0,0])\n",
    "    print(\"Calling API\")\n",
    "    for i in range(1,numBodies):\n",
    "        realPositions.append([])\n",
    "        month=startingMonth\n",
    "        year=startingYear\n",
    "        for j in range(numMonths):\n",
    "            monthString = '0'+str(month) if month%12+1 < 10 else str(month)\n",
    "            bodyData = getEphemeris(bodyIDs[i], str(year)+'-'+monthString+'-10', str(year)+'-'+monthString+'-11')\n",
    "            realPositions[i-1].append(bodyData[\"position\"])\n",
    "            month+=1\n",
    "            if month==13:\n",
    "                year+=1\n",
    "                month=1\n",
    "    realPositions = np.array(realPositions)\n",
    "    np.save(apiFileName, realPositions)\n",
    "\n",
    "deltaT=600 # in seconds\n",
    "simFileName = \"calculatedPositions\" + str(startingMonth)+str(startingDay)+str(startingYear)+str(numBodies)+str(numMonths)+str(deltaT)+\".npy\"\n",
    "# read real position data from existing file if it exists\n",
    "if os.path.exists(simFileName):\n",
    "    print(\"Loading from file\")\n",
    "    calculatedPositions = np.load(simFileName)\n",
    "# Else, Use API to get body data over time\n",
    "# start at 1 to skip the sun cause its weird\n",
    "# also NOTE I know there is a way to setup the API call to give it a time range with a time step,\n",
    "# so could say give me every months data for a year. but for now its faster to just do it this rough way\n",
    "else:\n",
    "    currentMonth = startingMonth\n",
    "    currentDay = startingDay\n",
    "    print(\"running simulation\")\n",
    "    for i in range(1,int((numMonths/12)*365*24*60*60/deltaT)): # seconds in number of years divided by how many seconds deltaT is\n",
    "        if i%(int(24*60*60 / deltaT))==0: #every day:, seconds in a day divided by how many seconds deltaT is\n",
    "            # print(\"Month: \" + str(currentMonth) + \" | Day: \" + str(currentDay))\n",
    "            currentDay+=1\n",
    "            if currentDay > monthDayDict[currentMonth]:\n",
    "                currentDay=1\n",
    "                currentMonth+=1\n",
    "                if currentMonth == 13:\n",
    "                    currentMonth = 1\n",
    "            if currentDay == startingDay: #every month:\n",
    "                for j in range(numBodies):\n",
    "                    calculatedPositions[j].append(positions[j])\n",
    "                print(\"ran one month\")\n",
    "\n",
    "        positions, velocities = update(numBodies, positions, velocities, masses, deltaT)\n",
    "    calculatedPositions = np.array(calculatedPositions)\n",
    "    print(\"finished simulation\")\n",
    "    np.save(simFileName, calculatedPositions)\n",
    "\n",
    "\n",
    "\n",
    "# the real postions are always relative to the sun center cause thats how nasa database works\n",
    "# so to be truly accurate, we should subtract the suns position from the bodies before comparing\n",
    "errors = np.linalg.norm(realPositions-(calculatedPositions[1:]-calculatedPositions[0]),axis=2) / np.linalg.norm(realPositions,axis=2)\n",
    "# print(errors)\n",
    "\n",
    "#matplotlib time\n",
    "# Define months for x-axis labels\n",
    "months = np.arange(1, numMonths+1)\n",
    "\n",
    "# Plot each planet's error values (each row in the error_values array)\n",
    "for i in range(errors.shape[0]):\n",
    "    pyplt.plot(months, errors[i], label=f'Planet {i+1}')\n",
    "\n",
    "# Add labels and title\n",
    "pyplt.xlabel('Month')\n",
    "pyplt.ylabel('Error Value')\n",
    "pyplt.title('Monthly Error Values for ' + str(errors.shape[0]) + ' Celestial Bodies')\n",
    "\n",
    "# Add a legend to identify each line\n",
    "pyplt.legend()\n",
    "\n",
    "# Display the plot\n",
    "pyplt.show()"
   ]
  },
  {
   "cell_type": "markdown",
   "id": "ff85b945-520c-4187-9344-2464042b8a1a",
   "metadata": {},
   "source": [
    "As you can see, the error slowly accumulates over time, but even after running the simulation for 3 Earth years in simulation time, all the bodies except Mercury (Which orbits way faster so makes sense for their to be more error), have errors below 10%, which I think is quite exceptional!"
   ]
  },
  {
   "cell_type": "markdown",
   "id": "c7ece743-bccb-470c-95fb-1b458aff88a1",
   "metadata": {},
   "source": [
    "##### Average Year Length\n",
    "I was having issues with my position verification being super inaccurate (errors upwards of 500% after a year) so Dr. Bocan suggested trying to verify with average year length instead, since my visual simulation looked accurate. I started to do average year length verification, but then it led me into finding the bugs in my code that caused the high errors in the position verification.\n",
    "\n",
    "After finding those bugs, the position verification was getting errors around 25-75% for mercury, and consistently below 10% for every other planet, after 3 years of running. So with that being much much better, I decided to stop continuing work on average year length analysis because I find the position analysis to be much better.\n",
    "\n",
    "But anyways, the code I had started work on to verify average year length is below. You can set the time for the simulation to run with `numEarthYears` and you can set which body to check the year length for with `bodyID`, (Sun=10, Mercury=199, Venus=299, etc). Then the code spits out a list with the time it took, in Earth days, for the body in question to orbit the sun each time. So for example Mercury has an average year of 88 Earth days, so if you set `bodyID=199` and `numEarthYears=1`, you should see it output a list of length floor(365/88), and with each entry being around 88 days\n",
    "\n",
    "Source for average year lengths for different bodies: [I just googled it and looked at the pop-up result](google.com)"
   ]
  },
  {
   "cell_type": "code",
   "execution_count": 58,
   "id": "869f5c60-fe8b-44bd-84a2-f5c0c517dac3",
   "metadata": {
    "tags": []
   },
   "outputs": [
    {
     "name": "stdout",
     "output_type": "stream",
     "text": [
      "starting simulation\n",
      "one body year complete\n",
      "one body year complete\n",
      "one body year complete\n",
      "one body year complete\n",
      "one body year complete\n",
      "finished simulation\n",
      "[366.0, 365.83333333333337, 365.9999999999999, 365.8333333333335, 365.83333333333326]\n"
     ]
    }
   ],
   "source": [
    "#redefine these to reset them\n",
    "calculatedPositions = []\n",
    "positions = np.zeros((numBodies, 3))\n",
    "velocities = np.zeros((numBodies, 3))\n",
    "masses = np.zeros(numBodies)\n",
    "sunMass = 1.988e+30\n",
    "masses[0] = sunMass\n",
    "\n",
    "# Use API to get initial body data\n",
    "# start at 1 to skip the sun cause its weird\n",
    "for i in range(1,numBodies):\n",
    "    bodyData = getEphemeris(bodyIDs[i], '2004-03-10', '2004-03-11')\n",
    "    positions[i] = bodyData[\"position\"]\n",
    "    velocities[i] = bodyData[\"velocity\"]\n",
    "    masses[i] = bodyData[\"mass\"]\n",
    "    calculatedPositions.append([bodyData[\"position\"]])\n",
    "    \n",
    "deltaT=3600 # in seconds\n",
    "prevError = 0\n",
    "decreasingError = False\n",
    "prevDecreasing = False\n",
    "numEarthYears=1\n",
    "bodyID=199\n",
    "idx=bodyIDs.index(bodyID)\n",
    "daysInYears = []\n",
    "print(\"starting simulation\")\n",
    "for i in range(1,int(numEarthYears*365*24*60*60/deltaT)): # seconds in a year divided by how many seconds deltaT is  \n",
    "    positions, velocities = update(numBodies, positions, velocities, masses, deltaT)\n",
    "    positionError = np.linalg.norm(positions[idx]-positions[0]-calculatedPositions[idx-1][0])/np.linalg.norm(calculatedPositions[idx-1][0])\n",
    "    # if i % int(7*24*60*60/deltaT)==0: #seconds in a week divided by deltaT\n",
    "    #     print(\"day \" + str(i/(24*60*60/deltaT)))\n",
    "        \n",
    "    decreasingError = positionError < prevError\n",
    "    if (not decreasingError) and prevDecreasing:\n",
    "        daysInYears.append(i/(24*60*60/deltaT))\n",
    "        print(\"one body year complete\")\n",
    "    prevError = positionError\n",
    "    prevDecreasing = decreasingError\n",
    "print(\"finished simulation\")\n",
    "for i in reversed(range(1,len(daysInYears))):\n",
    "    daysInYears[i] -= daysInYears[i-1]\n",
    "print(daysInYears)"
   ]
  },
  {
   "cell_type": "markdown",
   "id": "f80eb17c-603e-44fd-9dfe-a763ed5491a9",
   "metadata": {},
   "source": [
    "#### deltaT Analysis\n",
    "Lastly, in the saved files I have, I ran a bunch of simulations with all of the settings the same, except deltaT. So now we can plot error after 3 Earth years vs deltaT for each planet."
   ]
  },
  {
   "cell_type": "code",
   "execution_count": 5,
   "id": "ac50f216-ffa0-4ebd-832c-a70db9ccdafe",
   "metadata": {
    "tags": []
   },
   "outputs": [
    {
     "data": {
      "image/png": "[encoded data removed]",
      "text/plain": [
       "<Figure size 640x480 with 1 Axes>"
      ]
     },
     "metadata": {},
     "output_type": "display_data"
    },
    {
     "data": {
      "image/png": "[encoded data removed]",
      "text/plain": [
       "<Figure size 640x480 with 1 Axes>"
      ]
     },
     "metadata": {},
     "output_type": "display_data"
    },
    {
     "data": {
      "image/png": "[encoded data removed]",
      "text/plain": [
       "<Figure size 640x480 with 1 Axes>"
      ]
     },
     "metadata": {},
     "output_type": "display_data"
    }
   ],
   "source": [
    "realPositions = []\n",
    "calculatedPositions = []\n",
    "startingMonth = 3\n",
    "startingDay = 10\n",
    "startingYear = 2004\n",
    "numMonths = 36 #IMPORTANT NOTE, this code does not factor in leap years\n",
    "\n",
    "finalErrors = []\n",
    "deltaTValues = [600, 1200, 3600, 3600*2, 3600*3, 3600*4, 3600*6, 3600*12]\n",
    "\n",
    "for i in range(len(deltaTValues)):\n",
    "    finalErrors.append([])\n",
    "    apiFileName = \"realPositions\" + str(startingMonth)+str(startingDay)+str(startingYear)+str(numBodies)+str(numMonths)+\".npy\"\n",
    "    simFileName = \"calculatedPositions\" + str(startingMonth)+str(startingDay)+str(startingYear)+str(numBodies)+str(numMonths)+str(deltaTValues[i])+\".npy\"\n",
    "    if os.path.exists(simFileName) and os.path.exists(apiFileName):\n",
    "        realPositions = np.load(apiFileName)\n",
    "        calculatedPositions = np.load(simFileName)\n",
    "        errors = np.linalg.norm(realPositions-(calculatedPositions[1:]-calculatedPositions[0]),axis=2) / np.linalg.norm(realPositions,axis=2)\n",
    "        for j in range(errors.shape[0]):\n",
    "            finalError = errors[j][-1]\n",
    "            finalErrors[i].append(finalError)\n",
    "    else:\n",
    "        print(\"Missing file, failed\")\n",
    "finalErrors = np.array(finalErrors)\n",
    "finalErrors = finalErrors.T\n",
    "\n",
    "#matplotlib time\n",
    "# Plot each planet's error values\n",
    "for i in range(finalErrors.shape[0]):\n",
    "    pyplt.plot(deltaTValues, finalErrors[i], label=f'Planet {i+1}')\n",
    "\n",
    "# Add labels and title\n",
    "pyplt.xlabel('deltaT')\n",
    "pyplt.ylabel('Error Value')\n",
    "pyplt.title('Final Error after ' + str(numMonths/12) + ' Earth years of simulation VS deltaT')\n",
    "\n",
    "# Add a legend to identify each line\n",
    "pyplt.legend()\n",
    "\n",
    "# Display the plot\n",
    "pyplt.show()\n",
    "\n",
    "\n",
    "# IGNORE MERCURY\n",
    "finalErrors = finalErrors[1:]\n",
    "for i in range(finalErrors.shape[0]):\n",
    "    pyplt.plot(deltaTValues, finalErrors[i], label=f'Planet {i+2}')\n",
    "\n",
    "# Add labels and title\n",
    "pyplt.xlabel('deltaT')\n",
    "pyplt.ylabel('Error Value')\n",
    "pyplt.title('Same thing but ignore Mercury since it\\'s an outlier')\n",
    "\n",
    "# Add a legend to identify each line\n",
    "pyplt.legend()\n",
    "\n",
    "# Display the plot\n",
    "pyplt.show()\n",
    "\n",
    "# Outer planets only\n",
    "finalErrors = finalErrors[5:]\n",
    "for i in range(finalErrors.shape[0]):\n",
    "    pyplt.plot(deltaTValues, finalErrors[i], label=f'Planet {i+6}')\n",
    "\n",
    "# Add labels and title\n",
    "pyplt.xlabel('deltaT')\n",
    "pyplt.ylabel('Error Value')\n",
    "pyplt.title('Same thing but only outer planets')\n",
    "\n",
    "# Add a legend to identify each line\n",
    "pyplt.legend()\n",
    "\n",
    "# Display the plot\n",
    "pyplt.show()"
   ]
  },
  {
   "cell_type": "markdown",
   "id": "12547bbc-e1af-486a-a011-388fcb14788f",
   "metadata": {},
   "source": [
    "Other than Mars, which for some odd reason actually is more accurate with higher deltaT, all the bodies behave as expected, and their error increases as deltaT increases. This is the expected behavior since higher deltaT inherently should increase inaccuracy.\n",
    "\n",
    "Because of Mercuries much higher speed compared to the rest of the planets, it's error increases with deltaT at a higher rate than the rest. And then same thing with the inner planets vs the outer planets, the outer planets error increas much more slowly since they move much more slowly."
   ]
  },
  {
   "cell_type": "markdown",
   "id": "fa8f6526-df75-4244-b645-0fffd431f490",
   "metadata": {},
   "source": [
    "## Conclusion\n",
    "This was a really fun and fulfilling project! I'm happy I got everything to work in the end and the verification values to come out well. I had some very difficult to catch bugs that were causing my visual simulation to look correct, but the verification values to be way off. But that's behind me now.\n",
    "\n",
    "My biggest gripe with this project (which is no fault of Dr. Bocan at all), is the inconsistencies of the NASA database. Basically every third body in the database would format it's mass and radius data in a different way, making it near impossible to automatically scrape the database for those values (without using a natural language processing model).  \n",
    "A goal of mine was to include every planet + EVERY moon (Yes, all 60+ of Jupiters) in the simulation, but the database issues made this infeasible. The ephemeris data however, was actually consistently formatted at least, so maybe I couldve manually entered mass and radii data for like 120 different bodies, and then scrapted the ephemeris data, so that way I could have all the moons etc. But that sounds like a major pain. Maybe if I have free time after this is due I'll do that.\n",
    "\n",
    "I also had issue with getting the scaling to look good once I started including Pluto and the outer planets. I'm pretty happy with my solution I came up with of just arbitrarily setting a radius (and radius of orbit) for each planet, then setting its position by using its real unit vector relative to the sun multiplied by its arbitrary orbit radius. But it could definitely be improved.\n",
    "\n",
    "Anyways, have a good day!"
   ]
  },
  {
   "cell_type": "code",
   "execution_count": null,
   "id": "23456394-0e06-4e0c-9f09-19a88c0d8918",
   "metadata": {},
   "outputs": [],
   "source": []
  }
 ],
 "metadata": {
  "kernelspec": {
   "display_name": "Python 3 (ipykernel)",
   "language": "python",
   "name": "python3"
  },
  "language_info": {
   "codemirror_mode": {
    "name": "ipython",
    "version": 3
   },
   "file_extension": ".py",
   "mimetype": "text/x-python",
   "name": "python",
   "nbconvert_exporter": "python",
   "pygments_lexer": "ipython3",
   "version": "3.10.16"
  },
  "toc-autonumbering": false,
  "toc-showcode": false,
  "toc-showmarkdowntxt": false
 },
 "nbformat": 4,
 "nbformat_minor": 5
}
